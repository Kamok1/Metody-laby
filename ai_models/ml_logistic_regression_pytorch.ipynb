{
 "cells": [
  {
   "metadata": {
    "ExecuteTime": {
     "end_time": "2025-05-28T18:07:28.921795Z",
     "start_time": "2025-05-28T18:07:28.913777Z"
    }
   },
   "cell_type": "code",
   "source": [
    "import torch\n",
    "import torch.nn as nn\n",
    "import torch.optim as optim\n",
    "from time import time\n",
    "from sklearn.pipeline import Pipeline\n",
    "from sklearn.compose import ColumnTransformer\n",
    "from sklearn.preprocessing import StandardScaler, OneHotEncoder\n",
    "from sklearn.impute import SimpleImputer\n",
    "from sklearn.metrics import accuracy_score, f1_score, roc_auc_score\n",
    "from constants import numeric_features, categorical_features\n",
    "from ai_models.shared import load_processed_data\n",
    "from ai_models.shared import load_train_with_validation_data"
   ],
   "id": "cfd460af6aacd93e",
   "outputs": [],
   "execution_count": 220
  },
  {
   "metadata": {
    "ExecuteTime": {
     "end_time": "2025-05-28T18:07:28.987504Z",
     "start_time": "2025-05-28T18:07:28.926327Z"
    }
   },
   "cell_type": "code",
   "source": [
    "df = load_processed_data()\n",
    "df = df[df[\"Target\"].isin([\"Graduate\", \"Dropout\"])]\n",
    "df[\"y\"] = (df[\"Target\"] == \"Graduate\").astype(int)\n",
    "df = df.drop(columns=[\"Target\", \"Target encoded\"], errors='ignore')"
   ],
   "id": "3381f124923b5aab",
   "outputs": [],
   "execution_count": 221
  },
  {
   "metadata": {
    "ExecuteTime": {
     "end_time": "2025-05-28T18:07:29.059171Z",
     "start_time": "2025-05-28T18:07:29.053001Z"
    }
   },
   "cell_type": "code",
   "source": [
    "X = df.drop(columns=[\"y\"])\n",
    "y = df[\"y\"].values"
   ],
   "id": "1c850ea91151a08b",
   "outputs": [],
   "execution_count": 222
  },
  {
   "metadata": {
    "ExecuteTime": {
     "end_time": "2025-05-28T18:07:29.133765Z",
     "start_time": "2025-05-28T18:07:29.128115Z"
    }
   },
   "cell_type": "code",
   "source": [
    "num_features = [c for c in numeric_features if c in X.columns]\n",
    "cat_features = [c for c in categorical_features if c in X.columns]"
   ],
   "id": "25a0a193ba5f1395",
   "outputs": [],
   "execution_count": 223
  },
  {
   "metadata": {
    "ExecuteTime": {
     "end_time": "2025-05-28T18:07:29.210762Z",
     "start_time": "2025-05-28T18:07:29.206345Z"
    }
   },
   "cell_type": "code",
   "source": [
    "num_pipeline = Pipeline([\n",
    "    (\"imputer\", SimpleImputer(strategy=\"mean\")),\n",
    "    (\"scaler\", StandardScaler())\n",
    "])"
   ],
   "id": "ff24dce872c90d",
   "outputs": [],
   "execution_count": 224
  },
  {
   "metadata": {
    "ExecuteTime": {
     "end_time": "2025-05-28T18:07:29.281123Z",
     "start_time": "2025-05-28T18:07:29.277608Z"
    }
   },
   "cell_type": "code",
   "source": [
    "cat_pipeline = Pipeline([\n",
    "    (\"imputer\", SimpleImputer(strategy=\"most_frequent\")),\n",
    "    (\"encoder\", OneHotEncoder(handle_unknown=\"ignore\"))\n",
    "])"
   ],
   "id": "9ae0ada7e5d27045",
   "outputs": [],
   "execution_count": 225
  },
  {
   "metadata": {
    "ExecuteTime": {
     "end_time": "2025-05-28T18:07:29.353827Z",
     "start_time": "2025-05-28T18:07:29.349480Z"
    }
   },
   "cell_type": "code",
   "source": [
    "full_pipeline = ColumnTransformer([\n",
    "    (\"num\", num_pipeline, num_features),\n",
    "    (\"cat\", cat_pipeline, cat_features)\n",
    "])"
   ],
   "id": "f29987eb012b4daa",
   "outputs": [],
   "execution_count": 226
  },
  {
   "metadata": {
    "ExecuteTime": {
     "end_time": "2025-05-28T18:07:29.533700Z",
     "start_time": "2025-05-28T18:07:29.423997Z"
    }
   },
   "cell_type": "code",
   "source": [
    "X_train_raw, X_val_raw, X_test_raw, y_train, y_val, y_test = load_train_with_validation_data(X, y)\n",
    "X_train = full_pipeline.fit_transform(X_train_raw)\n",
    "X_test = full_pipeline.transform(X_test_raw)\n",
    "X_val = full_pipeline.transform(X_val_raw)"
   ],
   "id": "459872fbee1837c0",
   "outputs": [],
   "execution_count": 227
  },
  {
   "metadata": {
    "ExecuteTime": {
     "end_time": "2025-05-28T18:07:29.602706Z",
     "start_time": "2025-05-28T18:07:29.598781Z"
    }
   },
   "cell_type": "code",
   "source": [
    "def to_tensor(x, y, device):\n",
    "    if hasattr(x, \"toarray\"):\n",
    "        x = x.toarray()\n",
    "    return torch.tensor(x, dtype=torch.float32).to(device), torch.tensor(y, dtype=torch.float32).to(device)\n"
   ],
   "id": "8a54fa9f5f33c293",
   "outputs": [],
   "execution_count": 228
  },
  {
   "metadata": {
    "ExecuteTime": {
     "end_time": "2025-05-28T18:07:29.744236Z",
     "start_time": "2025-05-28T18:07:29.738982Z"
    }
   },
   "cell_type": "code",
   "source": [
    "class LogisticRegressionModel(nn.Module):\n",
    "    def __init__(self, input_dim):\n",
    "        super().__init__()\n",
    "        self.linear = nn.Linear(input_dim, 1)\n",
    "\n",
    "    def forward(self, x):\n",
    "        return torch.sigmoid(self.linear(x))"
   ],
   "id": "e165cb30ff8b2287",
   "outputs": [],
   "execution_count": 229
  },
  {
   "metadata": {
    "ExecuteTime": {
     "end_time": "2025-05-28T18:07:29.756199Z",
     "start_time": "2025-05-28T18:07:29.751143Z"
    }
   },
   "cell_type": "code",
   "source": [
    "def train_model(X_train, y_train, device, epochs=250, batch_size=256, lr=0.05):\n",
    "    X_train_tensor, y_train_tensor = to_tensor(X_train, y_train, device)\n",
    "    model = LogisticRegressionModel(X_train.shape[1]).to(device)\n",
    "    loss_fn = nn.BCELoss()\n",
    "    optimizer = optim.SGD(model.parameters(), lr=lr)\n",
    "    dataset = torch.utils.data.TensorDataset(X_train_tensor, y_train_tensor)\n",
    "    loader = torch.utils.data.DataLoader(dataset, batch_size=batch_size, shuffle=True)\n",
    "\n",
    "    for epoch in range(epochs):\n",
    "        model.train()\n",
    "        for xb, yb in loader:\n",
    "            pred = model(xb).squeeze()\n",
    "            loss = loss_fn(pred, yb)\n",
    "            loss.backward()\n",
    "            optimizer.step()\n",
    "            optimizer.zero_grad()\n",
    "\n",
    "    return model.eval()"
   ],
   "id": "1657c0e3de073324",
   "outputs": [],
   "execution_count": 230
  },
  {
   "metadata": {
    "ExecuteTime": {
     "end_time": "2025-05-28T18:07:29.834132Z",
     "start_time": "2025-05-28T18:07:29.828931Z"
    }
   },
   "cell_type": "code",
   "source": [
    "def evaluate_model(model, X, y, device):\n",
    "    X_tensor, y_tensor = to_tensor(X, y, device)\n",
    "    with torch.no_grad():\n",
    "        pred = model(X_tensor).squeeze()\n",
    "        pred_labels = (pred > 0.5).float()\n",
    "        accuracy = accuracy_score(y_tensor.cpu(), pred_labels.cpu())\n",
    "        f1 = f1_score(y_tensor.cpu(), pred_labels.cpu())\n",
    "        auc = roc_auc_score(y_tensor.cpu(), pred.cpu())\n",
    "    return {\"accuracy\": accuracy, \"f1\": f1, \"auc\": auc}"
   ],
   "id": "db3707d1ff51a8e0",
   "outputs": [],
   "execution_count": 231
  },
  {
   "metadata": {
    "ExecuteTime": {
     "end_time": "2025-05-28T18:07:45.236139Z",
     "start_time": "2025-05-28T18:07:29.911838Z"
    }
   },
   "cell_type": "code",
   "source": [
    "def run_and_report(device_label, device):\n",
    "    print(f\"\\n=== {device_label} ===\")\n",
    "\n",
    "    start_time = time()\n",
    "    model = train_model(X_train, y_train, device)\n",
    "    duration = time() - start_time\n",
    "\n",
    "    print(f\"{device_label} TRAINING TIME: {duration:.2f} seconds\")\n",
    "\n",
    "    train_result = evaluate_model(model, X_train, y_train, device)\n",
    "    test_result = evaluate_model(model, X_test, y_test, device)\n",
    "    val_result  = evaluate_model(model, X_val, y_val, device)\n",
    "\n",
    "    print(f\"\\n{device_label} TRAIN METRICS:\")\n",
    "    print(f\"Accuracy: {train_result['accuracy']:.3f} | F1-score: {train_result['f1']:.3f} | AUC: {train_result['auc']:.3f}\")\n",
    "\n",
    "    print(f\"\\n{device_label} TEST METRICS:\")\n",
    "    print(f\"Accuracy: {test_result['accuracy']:.3f} | F1-score: {test_result['f1']:.3f} | AUC: {test_result['auc']:.3f}\")\n",
    "\n",
    "    print(f\"\\n{device_label} VALIDATION METRICS:\")\n",
    "    print(f\"Accuracy: {val_result['accuracy']:.3f} | F1-score: {val_result['f1']:.3f} | AUC: {val_result['auc']:.3f}\")\n",
    "\n",
    "run_and_report(\"CPU\", torch.device(\"cpu\"))\n",
    "\n",
    "if torch.cuda.is_available():\n",
    "    run_and_report(\"GPU\", torch.device(\"cuda\"))\n",
    "else:\n",
    "    print(\"\\nGPU not available. Skipping GPU training.\")\n"
   ],
   "id": "6c93b53c651d043f",
   "outputs": [
    {
     "name": "stdout",
     "output_type": "stream",
     "text": [
      "\n",
      "=== CPU ===\n",
      "CPU TRAINING TIME: 6.76 seconds\n",
      "\n",
      "CPU TRAIN METRICS:\n",
      "Accuracy: 0.917 | F1-score: 0.934 | AUC: 0.958\n",
      "\n",
      "CPU TEST METRICS:\n",
      "Accuracy: 0.932 | F1-score: 0.945 | AUC: 0.960\n",
      "\n",
      "CPU VALIDATION METRICS:\n",
      "Accuracy: 0.914 | F1-score: 0.931 | AUC: 0.958\n",
      "\n",
      "=== GPU ===\n",
      "GPU TRAINING TIME: 8.47 seconds\n",
      "\n",
      "GPU TRAIN METRICS:\n",
      "Accuracy: 0.916 | F1-score: 0.934 | AUC: 0.958\n",
      "\n",
      "GPU TEST METRICS:\n",
      "Accuracy: 0.934 | F1-score: 0.946 | AUC: 0.960\n",
      "\n",
      "GPU VALIDATION METRICS:\n",
      "Accuracy: 0.914 | F1-score: 0.931 | AUC: 0.958\n"
     ]
    }
   ],
   "execution_count": 232
  }
 ],
 "metadata": {
  "kernelspec": {
   "display_name": "Python 3",
   "language": "python",
   "name": "python3"
  },
  "language_info": {
   "codemirror_mode": {
    "name": "ipython",
    "version": 2
   },
   "file_extension": ".py",
   "mimetype": "text/x-python",
   "name": "python",
   "nbconvert_exporter": "python",
   "pygments_lexer": "ipython2",
   "version": "2.7.6"
  }
 },
 "nbformat": 4,
 "nbformat_minor": 5
}
