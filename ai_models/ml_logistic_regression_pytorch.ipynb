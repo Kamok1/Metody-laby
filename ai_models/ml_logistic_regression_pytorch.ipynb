﻿{
 "cells": [
  {
   "metadata": {
    "ExecuteTime": {
     "end_time": "2025-05-23T16:19:47.098530Z",
     "start_time": "2025-05-23T16:19:47.094140Z"
    }
   },
   "cell_type": "code",
   "source": [
    "import torch\n",
    "import torch.nn as nn\n",
    "import torch.optim as optim\n",
    "from sklearn.model_selection import train_test_split\n",
    "from sklearn.metrics import accuracy_score, f1_score, roc_auc_score\n",
    "from time import time\n",
    "import numpy as np\n",
    "import pandas as pd\n",
    "from constants import numeric_features, categorical_features\n",
    "from data_process import process_data"
   ],
   "id": "cfd460af6aacd93e",
   "outputs": [],
   "execution_count": 11
  },
  {
   "metadata": {
    "ExecuteTime": {
     "end_time": "2025-05-23T16:19:47.178860Z",
     "start_time": "2025-05-23T16:19:47.174499Z"
    }
   },
   "cell_type": "code",
   "source": [
    "print(\"CUDA:\", torch.cuda.is_available())\n",
    "print(\"GPU:\", torch.cuda.get_device_name(0) if torch.cuda.is_available() else \"None\")\n",
    "print(\"Version:\", torch.version.cuda)\n"
   ],
   "id": "7cda95b1dd75bda5",
   "outputs": [
    {
     "name": "stdout",
     "output_type": "stream",
     "text": [
      "CUDA: True\n",
      "GPU: NVIDIA GeForce RTX 3070 Laptop GPU\n",
      "Version: 12.6\n"
     ]
    }
   ],
   "execution_count": 12
  },
  {
   "metadata": {
    "ExecuteTime": {
     "end_time": "2025-05-23T16:19:47.269307Z",
     "start_time": "2025-05-23T16:19:47.237215Z"
    }
   },
   "cell_type": "code",
   "source": [
    "df = pd.read_csv(\"../data/students.csv\", sep=\";\")\n",
    "df = process_data(df)"
   ],
   "id": "c1c561cfe0525553",
   "outputs": [],
   "execution_count": 13
  },
  {
   "metadata": {
    "ExecuteTime": {
     "end_time": "2025-05-23T16:19:47.312924Z",
     "start_time": "2025-05-23T16:19:47.298970Z"
    }
   },
   "cell_type": "code",
   "source": [
    "df = df[df[\"Target\"].isin([\"Graduate\", \"Dropout\"])]\n",
    "df[\"y\"] = (df[\"Target\"] == \"Graduate\").astype(float)\n",
    "df = df.drop(columns=[\"Target\", \"Target encoded\"], errors='ignore')"
   ],
   "id": "3381f124923b5aab",
   "outputs": [],
   "execution_count": 14
  },
  {
   "metadata": {
    "ExecuteTime": {
     "end_time": "2025-05-23T16:19:47.383920Z",
     "start_time": "2025-05-23T16:19:47.368024Z"
    }
   },
   "cell_type": "code",
   "source": [
    "num_cols = [c for c in numeric_features if c in df.columns]\n",
    "X_num = df[num_cols].copy().fillna(df[num_cols].mean())\n",
    "X_num = (X_num - X_num.mean()) / X_num.std(ddof=0)"
   ],
   "id": "ff24dce872c90d",
   "outputs": [],
   "execution_count": 15
  },
  {
   "metadata": {
    "ExecuteTime": {
     "end_time": "2025-05-23T16:19:47.420098Z",
     "start_time": "2025-05-23T16:19:47.397021Z"
    }
   },
   "cell_type": "code",
   "source": [
    "cat_cols = [c for c in categorical_features if c in df.columns]\n",
    "X_cat = pd.get_dummies(df[cat_cols], drop_first=True)"
   ],
   "id": "9ae0ada7e5d27045",
   "outputs": [],
   "execution_count": 16
  },
  {
   "metadata": {
    "ExecuteTime": {
     "end_time": "2025-05-23T16:19:47.497709Z",
     "start_time": "2025-05-23T16:19:47.465873Z"
    }
   },
   "cell_type": "code",
   "source": [
    "X = pd.concat([X_num, X_cat], axis=1).astype(np.float64).reset_index(drop=True)\n",
    "y = df[\"y\"].reset_index(drop=True).to_numpy(np.float64)\n",
    "X = X.to_numpy()"
   ],
   "id": "f29987eb012b4daa",
   "outputs": [],
   "execution_count": 17
  },
  {
   "metadata": {
    "ExecuteTime": {
     "end_time": "2025-05-23T16:19:47.561970Z",
     "start_time": "2025-05-23T16:19:47.529194Z"
    }
   },
   "cell_type": "code",
   "source": "X_train, X_test, y_train, y_test = train_test_split(X.to_numpy(), y, test_size=0.2, stratify=y, random_state=0)",
   "id": "459872fbee1837c0",
   "outputs": [
    {
     "ename": "AttributeError",
     "evalue": "'numpy.ndarray' object has no attribute 'to_numpy'",
     "output_type": "error",
     "traceback": [
      "\u001B[31m---------------------------------------------------------------------------\u001B[39m",
      "\u001B[31mAttributeError\u001B[39m                            Traceback (most recent call last)",
      "\u001B[36mCell\u001B[39m\u001B[36m \u001B[39m\u001B[32mIn[18]\u001B[39m\u001B[32m, line 1\u001B[39m\n\u001B[32m----> \u001B[39m\u001B[32m1\u001B[39m X_train, X_test, y_train, y_test = train_test_split(\u001B[43mX\u001B[49m\u001B[43m.\u001B[49m\u001B[43mto_numpy\u001B[49m(), y, test_size=\u001B[32m0.2\u001B[39m, stratify=y, random_state=\u001B[32m0\u001B[39m)\n",
      "\u001B[31mAttributeError\u001B[39m: 'numpy.ndarray' object has no attribute 'to_numpy'"
     ]
    }
   ],
   "execution_count": 18
  },
  {
   "metadata": {},
   "cell_type": "code",
   "outputs": [],
   "execution_count": null,
   "source": [
    "def to_tensor(x, y, device):\n",
    "    return torch.tensor(x, dtype=torch.float32).to(device), torch.tensor(y, dtype=torch.float32).to(device)"
   ],
   "id": "8a54fa9f5f33c293"
  },
  {
   "metadata": {},
   "cell_type": "code",
   "outputs": [],
   "execution_count": null,
   "source": [
    "class LogisticRegressionModel(nn.Module):\n",
    "    def __init__(self, input_dim):\n",
    "        super().__init__()\n",
    "        self.linear = nn.Linear(input_dim, 1)\n",
    "\n",
    "    def forward(self, x):\n",
    "        return torch.sigmoid(self.linear(x))"
   ],
   "id": "e165cb30ff8b2287"
  },
  {
   "metadata": {},
   "cell_type": "code",
   "outputs": [],
   "execution_count": null,
   "source": [
    "def train_model(X_train, y_train, X_test, y_test, device, epochs=250, batch_size=256):\n",
    "    X_train_tensor, y_train_tensor = to_tensor(X_train, y_train, device)\n",
    "    X_test_tensor,  y_test_tensor  = to_tensor(X_test, y_test, device)\n",
    "\n",
    "    model = LogisticRegressionModel(X_train.shape[1]).to(device)\n",
    "    loss_fn = nn.BCELoss()\n",
    "    optimizer = optim.SGD(model.parameters(), lr=0.05)\n",
    "\n",
    "    dataset = torch.utils.data.TensorDataset(X_train_tensor, y_train_tensor)\n",
    "    loader = torch.utils.data.DataLoader(dataset, batch_size=batch_size, shuffle=True)\n",
    "\n",
    "    start_time = time()\n",
    "\n",
    "    for epoch in range(epochs):\n",
    "        model.train()\n",
    "        for xb, yb in loader:\n",
    "            pred = model(xb).squeeze()\n",
    "            loss = loss_fn(pred, yb)\n",
    "            loss.backward()\n",
    "            optimizer.step()\n",
    "            optimizer.zero_grad()\n",
    "\n",
    "    duration = time() - start_time\n",
    "\n",
    "    model.eval()\n",
    "    with torch.no_grad():\n",
    "        probs = model(X_test_tensor).squeeze().cpu().numpy()\n",
    "        preds = (probs >= 0.5).astype(int)\n",
    "        y_test_np = y_test_tensor.cpu().numpy()\n",
    "\n",
    "    return {\n",
    "        \"accuracy\": accuracy_score(y_test_np, preds),\n",
    "        \"f1\": f1_score(y_test_np, preds),\n",
    "        \"auc\": roc_auc_score(y_test_np, probs),\n",
    "        \"time\": duration\n",
    "    }"
   ],
   "id": "1657c0e3de073324"
  },
  {
   "metadata": {},
   "cell_type": "code",
   "outputs": [],
   "execution_count": null,
   "source": [
    "cpu = torch.device(\"cpu\")\n",
    "result_cpu = train_model(X_train, y_train, X_test, y_test, cpu)\n",
    "print(\"CPU : time = {:.2f}s | acc = {:.3f} | f1 = {:.3f} | auc = {:.3f}\".format(\n",
    "    result_cpu[\"time\"], result_cpu[\"accuracy\"], result_cpu[\"f1\"], result_cpu[\"auc\"]))"
   ],
   "id": "6c93b53c651d043f"
  },
  {
   "metadata": {},
   "cell_type": "code",
   "outputs": [],
   "execution_count": null,
   "source": [
    "gpu = torch.device(\"cuda\" if torch.cuda.is_available() else \"cpu\")\n",
    "result_gpu = train_model(X_train, y_train, X_test, y_test, gpu)\n",
    "print(\"GPU : time = {:.2f}s | acc = {:.3f} | f1 = {:.3f} | auc = {:.3f}\".format(\n",
    "    result_gpu[\"time\"], result_gpu[\"accuracy\"], result_gpu[\"f1\"], result_gpu[\"auc\"]))"
   ],
   "id": "29d8d531f44d0e32"
  }
 ],
 "metadata": {
  "kernelspec": {
   "display_name": "Python 3",
   "language": "python",
   "name": "python3"
  },
  "language_info": {
   "codemirror_mode": {
    "name": "ipython",
    "version": 2
   },
   "file_extension": ".py",
   "mimetype": "text/x-python",
   "name": "python",
   "nbconvert_exporter": "python",
   "pygments_lexer": "ipython2",
   "version": "2.7.6"
  }
 },
 "nbformat": 4,
 "nbformat_minor": 5
}
