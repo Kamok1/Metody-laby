{
 "cells": [
  {
   "metadata": {
    "ExecuteTime": {
     "end_time": "2025-05-28T17:15:37.749588Z",
     "start_time": "2025-05-28T17:15:37.746159Z"
    }
   },
   "cell_type": "code",
   "source": [
    "import torch\n",
    "import torch.nn as nn\n",
    "import torch.optim as optim\n",
    "from time import time\n",
    "from sklearn.pipeline import Pipeline\n",
    "from sklearn.compose import ColumnTransformer\n",
    "from sklearn.preprocessing import StandardScaler, OneHotEncoder\n",
    "from sklearn.impute import SimpleImputer\n",
    "from sklearn.metrics import accuracy_score, f1_score, roc_auc_score\n",
    "from constants import numeric_features, categorical_features\n",
    "from ai_models.shared import load_processed_data\n",
    "from ai_models.shared import load_train_with_validation_data"
   ],
   "id": "cfd460af6aacd93e",
   "outputs": [],
   "execution_count": 150
  },
  {
   "metadata": {
    "ExecuteTime": {
     "end_time": "2025-05-28T17:15:37.787157Z",
     "start_time": "2025-05-28T17:15:37.753960Z"
    }
   },
   "cell_type": "code",
   "source": [
    "df = load_processed_data()\n",
    "df = df[df[\"Target\"].isin([\"Graduate\", \"Dropout\"])]\n",
    "df[\"y\"] = (df[\"Target\"] == \"Graduate\").astype(int)\n",
    "df = df.drop(columns=[\"Target\", \"Target encoded\"], errors='ignore')"
   ],
   "id": "3381f124923b5aab",
   "outputs": [],
   "execution_count": 151
  },
  {
   "metadata": {
    "ExecuteTime": {
     "end_time": "2025-05-28T17:15:37.828854Z",
     "start_time": "2025-05-28T17:15:37.824111Z"
    }
   },
   "cell_type": "code",
   "source": [
    "X = df.drop(columns=[\"y\"])\n",
    "y = df[\"y\"].values"
   ],
   "id": "1c850ea91151a08b",
   "outputs": [],
   "execution_count": 152
  },
  {
   "metadata": {
    "ExecuteTime": {
     "end_time": "2025-05-28T17:15:37.957373Z",
     "start_time": "2025-05-28T17:15:37.954149Z"
    }
   },
   "cell_type": "code",
   "source": [
    "num_features = [c for c in numeric_features if c in X.columns]\n",
    "cat_features = [c for c in categorical_features if c in X.columns]"
   ],
   "id": "25a0a193ba5f1395",
   "outputs": [],
   "execution_count": 153
  },
  {
   "metadata": {
    "ExecuteTime": {
     "end_time": "2025-05-28T17:15:37.975937Z",
     "start_time": "2025-05-28T17:15:37.973516Z"
    }
   },
   "cell_type": "code",
   "source": [
    "num_pipeline = Pipeline([\n",
    "    (\"imputer\", SimpleImputer(strategy=\"mean\")),\n",
    "    (\"scaler\", StandardScaler())\n",
    "])"
   ],
   "id": "ff24dce872c90d",
   "outputs": [],
   "execution_count": 154
  },
  {
   "metadata": {
    "ExecuteTime": {
     "end_time": "2025-05-28T17:15:38.050932Z",
     "start_time": "2025-05-28T17:15:38.048106Z"
    }
   },
   "cell_type": "code",
   "source": [
    "cat_pipeline = Pipeline([\n",
    "    (\"imputer\", SimpleImputer(strategy=\"most_frequent\")),\n",
    "    (\"encoder\", OneHotEncoder(handle_unknown=\"ignore\"))\n",
    "])"
   ],
   "id": "9ae0ada7e5d27045",
   "outputs": [],
   "execution_count": 155
  },
  {
   "metadata": {
    "ExecuteTime": {
     "end_time": "2025-05-28T17:15:38.103743Z",
     "start_time": "2025-05-28T17:15:38.100224Z"
    }
   },
   "cell_type": "code",
   "source": [
    "full_pipeline = ColumnTransformer([\n",
    "    (\"num\", num_pipeline, num_features),\n",
    "    (\"cat\", cat_pipeline, cat_features)\n",
    "])"
   ],
   "id": "f29987eb012b4daa",
   "outputs": [],
   "execution_count": 156
  },
  {
   "metadata": {
    "ExecuteTime": {
     "end_time": "2025-05-28T17:15:38.209210Z",
     "start_time": "2025-05-28T17:15:38.148161Z"
    }
   },
   "cell_type": "code",
   "source": [
    "X_train_raw, X_val_raw, X_test_raw, y_train, y_val, y_test = load_train_with_validation_data(X, y)\n",
    "X_train = full_pipeline.fit_transform(X_train_raw)\n",
    "X_test = full_pipeline.transform(X_test_raw)\n",
    "X_val = full_pipeline.transform(X_val_raw)"
   ],
   "id": "459872fbee1837c0",
   "outputs": [],
   "execution_count": 157
  },
  {
   "metadata": {
    "ExecuteTime": {
     "end_time": "2025-05-28T17:15:38.219954Z",
     "start_time": "2025-05-28T17:15:38.216057Z"
    }
   },
   "cell_type": "code",
   "source": [
    "def to_tensor(x, y, device):\n",
    "    if hasattr(x, \"toarray\"):\n",
    "        x = x.toarray()\n",
    "    return torch.tensor(x, dtype=torch.float32).to(device), torch.tensor(y, dtype=torch.float32).to(device)\n"
   ],
   "id": "8a54fa9f5f33c293",
   "outputs": [],
   "execution_count": 158
  },
  {
   "metadata": {
    "ExecuteTime": {
     "end_time": "2025-05-28T17:15:38.266596Z",
     "start_time": "2025-05-28T17:15:38.263066Z"
    }
   },
   "cell_type": "code",
   "source": [
    "class LogisticRegressionModel(nn.Module):\n",
    "    def __init__(self, input_dim):\n",
    "        super().__init__()\n",
    "        self.linear = nn.Linear(input_dim, 1)\n",
    "\n",
    "    def forward(self, x):\n",
    "        return torch.sigmoid(self.linear(x))"
   ],
   "id": "e165cb30ff8b2287",
   "outputs": [],
   "execution_count": 159
  },
  {
   "metadata": {
    "ExecuteTime": {
     "end_time": "2025-05-28T17:15:38.308945Z",
     "start_time": "2025-05-28T17:15:38.305216Z"
    }
   },
   "cell_type": "code",
   "source": [
    "def train_model(X_train, y_train, device, epochs=250, batch_size=256, lr=0.05):\n",
    "    X_train_tensor, y_train_tensor = to_tensor(X_train, y_train, device)\n",
    "    model = LogisticRegressionModel(X_train.shape[1]).to(device)\n",
    "    loss_fn = nn.BCELoss()\n",
    "    optimizer = optim.SGD(model.parameters(), lr=lr)\n",
    "    dataset = torch.utils.data.TensorDataset(X_train_tensor, y_train_tensor)\n",
    "    loader = torch.utils.data.DataLoader(dataset, batch_size=batch_size, shuffle=True)\n",
    "\n",
    "    for epoch in range(epochs):\n",
    "        model.train()\n",
    "        for xb, yb in loader:\n",
    "            pred = model(xb).squeeze()\n",
    "            loss = loss_fn(pred, yb)\n",
    "            loss.backward()\n",
    "            optimizer.step()\n",
    "            optimizer.zero_grad()\n",
    "\n",
    "    return model.eval()"
   ],
   "id": "1657c0e3de073324",
   "outputs": [],
   "execution_count": 160
  },
  {
   "metadata": {
    "ExecuteTime": {
     "end_time": "2025-05-28T17:15:38.388254Z",
     "start_time": "2025-05-28T17:15:38.385103Z"
    }
   },
   "cell_type": "code",
   "source": [
    "def evaluate_model(model, X, y, device):\n",
    "    X_tensor, y_tensor = to_tensor(X, y, device)\n",
    "    with torch.no_grad():\n",
    "        pred = model(X_tensor).squeeze()\n",
    "        pred_labels = (pred > 0.5).float()\n",
    "        accuracy = accuracy_score(y_tensor.cpu(), pred_labels.cpu())\n",
    "        f1 = f1_score(y_tensor.cpu(), pred_labels.cpu())\n",
    "        auc = roc_auc_score(y_tensor.cpu(), pred.cpu())\n",
    "    return {\"accuracy\": accuracy, \"f1\": f1, \"auc\": auc}"
   ],
   "id": "db3707d1ff51a8e0",
   "outputs": [],
   "execution_count": 161
  },
  {
   "metadata": {
    "ExecuteTime": {
     "end_time": "2025-05-28T17:15:43.317907Z",
     "start_time": "2025-05-28T17:15:38.429081Z"
    }
   },
   "cell_type": "code",
   "source": [
    "device = torch.device(\"cpu\")\n",
    "\n",
    "start_time = time()\n",
    "model_cpu = train_model(X_train, y_train, device)\n",
    "duration = time() - start_time\n",
    "\n",
    "print(f\"\\nCPU TRAINING TIME: {duration:.2f} seconds\")\n",
    "\n",
    "test_result = evaluate_model(model_cpu, X_test, y_test, device)\n",
    "val_result  = evaluate_model(model_cpu, X_val, y_val, device)\n",
    "\n",
    "print(f\"\\nTEST METRICS:\")\n",
    "print(f\"Accuracy: {test_result['accuracy']:.3f} | F1-score: {test_result['f1']:.3f} | AUC: {test_result['auc']:.3f}\")\n",
    "\n",
    "print(f\"\\nVALIDATION METRICS:\")\n",
    "print(f\"Accuracy: {val_result['accuracy']:.3f} | F1-score: {val_result['f1']:.3f} | AUC: {val_result['auc']:.3f}\")\n"
   ],
   "id": "6c93b53c651d043f",
   "outputs": [
    {
     "name": "stdout",
     "output_type": "stream",
     "text": [
      "\n",
      "CPU TRAINING TIME: 4.88 seconds\n",
      "\n",
      "TEST METRICS:\n",
      "Accuracy: 0.930 | F1-score: 0.943 | AUC: 0.960\n",
      "\n",
      "VALIDATION METRICS:\n",
      "Accuracy: 0.914 | F1-score: 0.931 | AUC: 0.958\n"
     ]
    }
   ],
   "execution_count": 162
  },
  {
   "metadata": {
    "ExecuteTime": {
     "end_time": "2025-05-28T17:15:49.500628Z",
     "start_time": "2025-05-28T17:15:43.324868Z"
    }
   },
   "cell_type": "code",
   "source": [
    "if torch.cuda.is_available():\n",
    "    device = torch.device(\"cuda\")\n",
    "\n",
    "    start_time = time()\n",
    "    model_gpu = train_model(X_train, y_train, device)\n",
    "    duration = time() - start_time\n",
    "\n",
    "    print(f\"\\nGPU TRAINING TIME: {duration:.2f} seconds\")\n",
    "\n",
    "    test_result = evaluate_model(model_gpu, X_test, y_test, device)\n",
    "    val_result  = evaluate_model(model_gpu, X_val, y_val, device)\n",
    "\n",
    "    print(f\"\\nTEST METRICS (GPU):\")\n",
    "    print(f\"Accuracy: {test_result['accuracy']:.3f} | F1-score: {test_result['f1']:.3f} | AUC: {test_result['auc']:.3f}\")\n",
    "\n",
    "    print(f\"\\nVALIDATION METRICS (GPU):\")\n",
    "    print(f\"Accuracy: {val_result['accuracy']:.3f} | F1-score: {val_result['f1']:.3f} | AUC: {val_result['auc']:.3f}\")\n",
    "else:\n",
    "    print(\"\\nGPU not available. Skipping GPU training.\")\n"
   ],
   "id": "fb1bbfa4f6cd0e06",
   "outputs": [
    {
     "name": "stdout",
     "output_type": "stream",
     "text": [
      "\n",
      "GPU TRAINING TIME: 6.12 seconds\n",
      "\n",
      "TEST METRICS (GPU):\n",
      "Accuracy: 0.936 | F1-score: 0.948 | AUC: 0.960\n",
      "\n",
      "VALIDATION METRICS (GPU):\n",
      "Accuracy: 0.914 | F1-score: 0.931 | AUC: 0.958\n"
     ]
    }
   ],
   "execution_count": 163
  }
 ],
 "metadata": {
  "kernelspec": {
   "display_name": "Python 3",
   "language": "python",
   "name": "python3"
  },
  "language_info": {
   "codemirror_mode": {
    "name": "ipython",
    "version": 2
   },
   "file_extension": ".py",
   "mimetype": "text/x-python",
   "name": "python",
   "nbconvert_exporter": "python",
   "pygments_lexer": "ipython2",
   "version": "2.7.6"
  }
 },
 "nbformat": 4,
 "nbformat_minor": 5
}
