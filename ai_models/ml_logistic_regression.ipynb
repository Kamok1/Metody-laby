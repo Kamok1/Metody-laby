﻿{
 "cells": [
  {
   "cell_type": "code",
   "id": "initial_id",
   "metadata": {
    "collapsed": true,
    "ExecuteTime": {
     "end_time": "2025-05-23T16:13:08.031250Z",
     "start_time": "2025-05-23T16:13:07.930880Z"
    }
   },
   "source": [
    "import numpy as np\n",
    "import pandas as pd\n",
    "from constants import numeric_features, categorical_features\n",
    "from sklearn.model_selection import train_test_split\n",
    "from sklearn.metrics import accuracy_score, f1_score, roc_auc_score\n",
    "from data_process import process_data\n",
    "from sklearn.linear_model import LogisticRegression"
   ],
   "outputs": [],
   "execution_count": 26
  },
  {
   "metadata": {
    "ExecuteTime": {
     "end_time": "2025-05-23T16:13:08.067213Z",
     "start_time": "2025-05-23T16:13:08.037802Z"
    }
   },
   "cell_type": "code",
   "source": [
    "df = pd.read_csv(\"../data/students.csv\", sep=\";\")\n",
    "df = process_data(df)"
   ],
   "id": "7ffba7e9b612806d",
   "outputs": [],
   "execution_count": 27
  },
  {
   "metadata": {
    "ExecuteTime": {
     "end_time": "2025-05-23T16:13:08.121920Z",
     "start_time": "2025-05-23T16:13:08.112035Z"
    }
   },
   "cell_type": "code",
   "source": [
    "df = df[df[\"Target\"].isin([\"Graduate\", \"Dropout\"])]\n",
    "df[\"y\"] = (df[\"Target\"] == \"Graduate\").astype(float)\n",
    "df = df.drop(columns=[\"Target\", \"Target encoded\"], errors='ignore')"
   ],
   "id": "2b1b7ae7b8475858",
   "outputs": [],
   "execution_count": 28
  },
  {
   "metadata": {
    "ExecuteTime": {
     "end_time": "2025-05-23T16:13:08.173920Z",
     "start_time": "2025-05-23T16:13:08.160076Z"
    }
   },
   "cell_type": "code",
   "source": [
    "num_cols = [c for c in numeric_features if c in df.columns]\n",
    "X_num = df[num_cols].copy().fillna(df[num_cols].mean())\n",
    "X_num = (X_num - X_num.mean()) / X_num.std(ddof=0)"
   ],
   "id": "d090a12c168e7af",
   "outputs": [],
   "execution_count": 29
  },
  {
   "metadata": {
    "ExecuteTime": {
     "end_time": "2025-05-23T16:13:08.228647Z",
     "start_time": "2025-05-23T16:13:08.214542Z"
    }
   },
   "cell_type": "code",
   "source": [
    "cat_cols = [c for c in categorical_features if c in df.columns]\n",
    "X_cat = pd.get_dummies(df[cat_cols], drop_first=True)"
   ],
   "id": "41cf71974728f833",
   "outputs": [],
   "execution_count": 30
  },
  {
   "metadata": {
    "ExecuteTime": {
     "end_time": "2025-05-23T16:13:08.276452Z",
     "start_time": "2025-05-23T16:13:08.264687Z"
    }
   },
   "cell_type": "code",
   "source": [
    "X = pd.concat([X_num, X_cat], axis=1).astype(np.float64).reset_index(drop=True)\n",
    "y = df[\"y\"].reset_index(drop=True).to_numpy(np.float64)\n",
    "X = X.to_numpy()"
   ],
   "id": "5ab0f40c5a26950c",
   "outputs": [],
   "execution_count": 31
  },
  {
   "metadata": {
    "ExecuteTime": {
     "end_time": "2025-05-23T16:13:08.317232Z",
     "start_time": "2025-05-23T16:13:08.307561Z"
    }
   },
   "cell_type": "code",
   "source": "X_train, X_test, y_train, y_test = train_test_split(X, y, test_size=0.20, stratify=y, random_state=0)",
   "id": "f197cf4688611606",
   "outputs": [],
   "execution_count": 32
  },
  {
   "metadata": {
    "ExecuteTime": {
     "end_time": "2025-05-23T16:13:08.344840Z",
     "start_time": "2025-05-23T16:13:08.341157Z"
    }
   },
   "cell_type": "code",
   "source": [
    "def sigmoid(z: np.ndarray) -> np.ndarray:\n",
    "    return 1.0 / (1.0 + np.exp(-z))\n",
    "\n",
    "def cross_entropy(y_true: np.ndarray, y_prob: np.ndarray) -> float:\n",
    "    eps = 1e-15\n",
    "    y_prob = np.clip(y_prob, eps, 1 - eps)\n",
    "    return -np.mean(y_true * np.log(y_prob) + (1 - y_true) * np.log(1 - y_prob))"
   ],
   "id": "812e8f40dff71afd",
   "outputs": [],
   "execution_count": 33
  },
  {
   "metadata": {
    "ExecuteTime": {
     "end_time": "2025-05-23T16:13:08.394145Z",
     "start_time": "2025-05-23T16:13:08.389039Z"
    }
   },
   "cell_type": "code",
   "source": [
    "def logistic_gd(\n",
    "    X_mat, y_vec,\n",
    "    lr=0.05,\n",
    "    epochs=250,\n",
    "    batch_size=64,\n",
    "    lambda_l2=0.001,\n",
    "    seed=0,\n",
    "):\n",
    "    m, n = X_mat.shape\n",
    "    rng = np.random.default_rng(seed)\n",
    "    w = rng.normal(scale=0.01, size=n)\n",
    "    b = 0.0\n",
    "    history = []\n",
    "\n",
    "    for ep in range(epochs):\n",
    "        idx = rng.permutation(m)\n",
    "        for start in range(0, m, batch_size):\n",
    "            ii = idx[start:start + batch_size]\n",
    "            Xb, yb = X_mat[ii], y_vec[ii]\n",
    "\n",
    "            p = sigmoid(Xb @ w + b)\n",
    "            error = p - yb\n",
    "\n",
    "            grad_w = (Xb.T @ error) / len(yb) + lambda_l2 * w\n",
    "            grad_b = error.mean()\n",
    "\n",
    "            w -= lr * grad_w\n",
    "            b -= lr * grad_b\n",
    "\n",
    "        p_all = sigmoid(X_mat @ w + b)\n",
    "        loss  = cross_entropy(y_vec, p_all) + (lambda_l2 / 2) * np.sum(w ** 2)\n",
    "        history.append(loss)\n",
    "\n",
    "        if (ep + 1) % 20 == 0 or ep == 0:\n",
    "            pred = (p_all >= 0.5).astype(int)\n",
    "            acc  = (pred == y_vec).mean()\n",
    "            print(f\"Epoch {ep+1:3d}/{epochs}  |  loss={loss:.4f}  |  acc={acc:.3f}\")\n",
    "\n",
    "    return w, b, history"
   ],
   "id": "e1e5c1d69e124a5e",
   "outputs": [],
   "execution_count": 34
  },
  {
   "metadata": {
    "ExecuteTime": {
     "end_time": "2025-05-23T16:13:08.810758Z",
     "start_time": "2025-05-23T16:13:08.422624Z"
    }
   },
   "cell_type": "code",
   "source": [
    "w, b, loss_hist = logistic_gd(\n",
    "    X_train, y_train,\n",
    "    lr=0.05,\n",
    "    epochs=250,\n",
    "    batch_size=128,\n",
    "    lambda_l2=0.001,\n",
    ")"
   ],
   "id": "df6aa9e18840baa3",
   "outputs": [
    {
     "name": "stdout",
     "output_type": "stream",
     "text": [
      "Epoch   1/250  |  loss=0.4721  |  acc=0.845\n",
      "Epoch  20/250  |  loss=0.2825  |  acc=0.895\n",
      "Epoch  40/250  |  loss=0.2730  |  acc=0.898\n",
      "Epoch  60/250  |  loss=0.2481  |  acc=0.913\n",
      "Epoch  80/250  |  loss=0.2521  |  acc=0.909\n",
      "Epoch 100/250  |  loss=0.2387  |  acc=0.919\n",
      "Epoch 120/250  |  loss=0.2403  |  acc=0.917\n",
      "Epoch 140/250  |  loss=0.2373  |  acc=0.919\n",
      "Epoch 160/250  |  loss=0.2334  |  acc=0.921\n",
      "Epoch 180/250  |  loss=0.2324  |  acc=0.923\n",
      "Epoch 200/250  |  loss=0.2325  |  acc=0.920\n",
      "Epoch 220/250  |  loss=0.2339  |  acc=0.920\n",
      "Epoch 240/250  |  loss=0.2345  |  acc=0.914\n"
     ]
    }
   ],
   "execution_count": 35
  },
  {
   "metadata": {
    "ExecuteTime": {
     "end_time": "2025-05-23T16:13:08.823247Z",
     "start_time": "2025-05-23T16:13:08.819634Z"
    }
   },
   "cell_type": "code",
   "source": [
    "def evaluate(X_set, y_set, label=\"SET\"):\n",
    "    proba = sigmoid(X_set @ w + b)\n",
    "    pred  = (proba >= 0.5).astype(int)\n",
    "    print(f\"\\n{label} METRICS\")\n",
    "    print(\"-\" * 30)\n",
    "    print(\"Accuracy :\", accuracy_score(y_set, pred))\n",
    "    print(\"F1-score :\", f1_score(y_set, pred))\n",
    "    print(\"AUC-ROC  :\", roc_auc_score(y_set, proba))"
   ],
   "id": "b3bad2442dbd0627",
   "outputs": [],
   "execution_count": 36
  },
  {
   "metadata": {
    "ExecuteTime": {
     "end_time": "2025-05-23T16:13:08.888082Z",
     "start_time": "2025-05-23T16:13:08.873132Z"
    }
   },
   "cell_type": "code",
   "source": [
    "evaluate(X_train, y_train, \"TRAIN\")\n",
    "evaluate(X_test,  y_test,  \"TEST\")"
   ],
   "id": "1c9c44c2f5e6dd96",
   "outputs": [
    {
     "name": "stdout",
     "output_type": "stream",
     "text": [
      "\n",
      "TRAIN METRICS\n",
      "------------------------------\n",
      "Accuracy : 0.9194214876033058\n",
      "F1-score : 0.9368932038834952\n",
      "AUC-ROC  : 0.9600025683410159\n",
      "\n",
      "TEST METRICS\n",
      "------------------------------\n",
      "Accuracy : 0.9118457300275482\n",
      "F1-score : 0.9302832244008714\n",
      "AUC-ROC  : 0.9598336626091389\n"
     ]
    }
   ],
   "execution_count": 37
  },
  {
   "metadata": {
    "ExecuteTime": {
     "end_time": "2025-05-23T16:13:08.898406Z",
     "start_time": "2025-05-23T16:13:08.895164Z"
    }
   },
   "cell_type": "code",
   "source": [
    "model_sklearn = LogisticRegression(\n",
    "    penalty='l2',\n",
    "    C=1 / 0.001,\n",
    "    max_iter=250,\n",
    "    solver='lbfgs'\n",
    ")"
   ],
   "id": "7990ce4a9283e43e",
   "outputs": [],
   "execution_count": 38
  },
  {
   "metadata": {
    "ExecuteTime": {
     "end_time": "2025-05-23T16:13:09.258049Z",
     "start_time": "2025-05-23T16:13:08.948399Z"
    }
   },
   "cell_type": "code",
   "source": [
    "model_sklearn.fit(X_train, y_train)\n",
    "y_pred_train = model_sklearn.predict(X_train)"
   ],
   "id": "8b6ef91fd71dbeb5",
   "outputs": [
    {
     "name": "stderr",
     "output_type": "stream",
     "text": [
      "C:\\Studia\\Sem4\\Metody - laby\\.venv\\Lib\\site-packages\\sklearn\\linear_model\\_logistic.py:465: ConvergenceWarning: lbfgs failed to converge (status=1):\n",
      "STOP: TOTAL NO. OF ITERATIONS REACHED LIMIT.\n",
      "\n",
      "Increase the number of iterations (max_iter) or scale the data as shown in:\n",
      "    https://scikit-learn.org/stable/modules/preprocessing.html\n",
      "Please also refer to the documentation for alternative solver options:\n",
      "    https://scikit-learn.org/stable/modules/linear_model.html#logistic-regression\n",
      "  n_iter_i = _check_optimize_result(\n"
     ]
    }
   ],
   "execution_count": 39
  },
  {
   "metadata": {
    "ExecuteTime": {
     "end_time": "2025-05-23T16:13:09.302414Z",
     "start_time": "2025-05-23T16:13:09.291770Z"
    }
   },
   "cell_type": "code",
   "source": [
    "print(\"\\nSKLEARN TRAIN METRICS\")\n",
    "print(\"-\" * 30)\n",
    "print(\"Accuracy :\", accuracy_score(y_train, y_pred_train))\n",
    "print(\"F1-score :\", f1_score(y_train, y_pred_train))\n",
    "print(\"AUC-ROC  :\", roc_auc_score(y_train, model_sklearn.predict_proba(X_train)[:,1]))\n"
   ],
   "id": "217bc0f31a82a9d8",
   "outputs": [
    {
     "name": "stdout",
     "output_type": "stream",
     "text": [
      "\n",
      "SKLEARN TRAIN METRICS\n",
      "------------------------------\n",
      "Accuracy : 0.9294077134986226\n",
      "F1-score : 0.9435728048444811\n",
      "AUC-ROC  : 0.9665179915772352\n"
     ]
    }
   ],
   "execution_count": 40
  },
  {
   "metadata": {
    "ExecuteTime": {
     "end_time": "2025-05-23T16:13:09.338683Z",
     "start_time": "2025-05-23T16:13:09.329538Z"
    }
   },
   "cell_type": "code",
   "source": [
    "y_pred_test  = model_sklearn.predict(X_test)\n",
    "print(\"\\nSKLEARN TEST METRICS\")\n",
    "print(\"-\" * 30)\n",
    "print(\"Accuracy :\", accuracy_score(y_test, y_pred_test))\n",
    "print(\"F1-score :\", f1_score(y_test, y_pred_test))\n",
    "print(\"AUC-ROC  :\", roc_auc_score(y_test, model_sklearn.predict_proba(X_test)[:,1]))"
   ],
   "id": "df5a743cb46528ce",
   "outputs": [
    {
     "name": "stdout",
     "output_type": "stream",
     "text": [
      "\n",
      "SKLEARN TEST METRICS\n",
      "------------------------------\n",
      "Accuracy : 0.9022038567493113\n",
      "F1-score : 0.9206703910614525\n",
      "AUC-ROC  : 0.9532534573959595\n"
     ]
    }
   ],
   "execution_count": 41
  }
 ],
 "metadata": {
  "kernelspec": {
   "display_name": "Python 3",
   "language": "python",
   "name": "python3"
  },
  "language_info": {
   "codemirror_mode": {
    "name": "ipython",
    "version": 2
   },
   "file_extension": ".py",
   "mimetype": "text/x-python",
   "name": "python",
   "nbconvert_exporter": "python",
   "pygments_lexer": "ipython2",
   "version": "2.7.6"
  }
 },
 "nbformat": 4,
 "nbformat_minor": 5
}
