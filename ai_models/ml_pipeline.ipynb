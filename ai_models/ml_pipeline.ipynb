{
 "cells": [
  {
   "cell_type": "code",
   "id": "initial_id",
   "metadata": {
    "collapsed": true,
    "ExecuteTime": {
     "end_time": "2025-05-28T17:29:27.235157Z",
     "start_time": "2025-05-28T17:29:27.230520Z"
    }
   },
   "source": [
    "from sklearn.pipeline import Pipeline\n",
    "from sklearn.compose import ColumnTransformer\n",
    "from sklearn.preprocessing import StandardScaler, OneHotEncoder\n",
    "from sklearn.impute import SimpleImputer\n",
    "from sklearn.linear_model import LogisticRegression\n",
    "from sklearn.tree import DecisionTreeClassifier\n",
    "from sklearn.svm import SVC\n",
    "from sklearn.metrics import classification_report\n",
    "from ai_models.shared import load_processed_data, load_train_with_validation_data\n",
    "from constants import numeric_features, categorical_features"
   ],
   "outputs": [],
   "execution_count": 70
  },
  {
   "metadata": {
    "ExecuteTime": {
     "end_time": "2025-05-28T17:29:27.377826Z",
     "start_time": "2025-05-28T17:29:27.331860Z"
    }
   },
   "cell_type": "code",
   "source": [
    "\n",
    "df = load_processed_data()\n",
    "df = df.dropna(subset=[\"Target encoded\"])\n",
    "X = df.drop(columns=[\"Target\", \"Target encoded\"])\n",
    "y = df[\"Target encoded\"]"
   ],
   "id": "7c7f426bf091cc4d",
   "outputs": [],
   "execution_count": 71
  },
  {
   "metadata": {
    "ExecuteTime": {
     "end_time": "2025-05-28T17:29:27.386588Z",
     "start_time": "2025-05-28T17:29:27.382757Z"
    }
   },
   "cell_type": "code",
   "source": [
    "num_features = [c for c in numeric_features if c in X.columns]\n",
    "cat_features = [c for c in categorical_features if c in X.columns]"
   ],
   "id": "a2aecd612c27ae12",
   "outputs": [],
   "execution_count": 72
  },
  {
   "metadata": {
    "ExecuteTime": {
     "end_time": "2025-05-28T17:29:27.467426Z",
     "start_time": "2025-05-28T17:29:27.464834Z"
    }
   },
   "cell_type": "code",
   "source": [
    "num_pipeline = Pipeline([\n",
    "    (\"imputer\", SimpleImputer(strategy=\"mean\")),\n",
    "    (\"scaler\", StandardScaler())\n",
    "])"
   ],
   "id": "90d49dfa6ea8668a",
   "outputs": [],
   "execution_count": 73
  },
  {
   "metadata": {
    "ExecuteTime": {
     "end_time": "2025-05-28T17:29:27.530255Z",
     "start_time": "2025-05-28T17:29:27.526843Z"
    }
   },
   "cell_type": "code",
   "source": [
    "cat_pipeline = Pipeline([\n",
    "    (\"imputer\", SimpleImputer(strategy=\"most_frequent\")),\n",
    "    (\"encoder\", OneHotEncoder(handle_unknown=\"ignore\"))\n",
    "])"
   ],
   "id": "121b0615dd56f390",
   "outputs": [],
   "execution_count": 74
  },
  {
   "metadata": {
    "ExecuteTime": {
     "end_time": "2025-05-28T17:29:27.593275Z",
     "start_time": "2025-05-28T17:29:27.590477Z"
    }
   },
   "cell_type": "code",
   "source": [
    "full_pipeline = ColumnTransformer([\n",
    "    (\"num\", num_pipeline, num_features),\n",
    "    (\"cat\", cat_pipeline, cat_features)\n",
    "])\n"
   ],
   "id": "403d845be8c659f5",
   "outputs": [],
   "execution_count": 75
  },
  {
   "metadata": {
    "ExecuteTime": {
     "end_time": "2025-05-28T17:29:27.664351Z",
     "start_time": "2025-05-28T17:29:27.654677Z"
    }
   },
   "cell_type": "code",
   "source": "X_train, X_val, X_test, y_train, y_val, y_test = load_train_with_validation_data(X, y)",
   "id": "debddc47542f5b46",
   "outputs": [],
   "execution_count": 76
  },
  {
   "metadata": {
    "ExecuteTime": {
     "end_time": "2025-05-28T17:29:28.706873Z",
     "start_time": "2025-05-28T17:29:27.726411Z"
    }
   },
   "cell_type": "code",
   "source": [
    "models = {\n",
    "    \"Logistic Regression\": LogisticRegression(max_iter=1000),\n",
    "    \"Decision Tree\": DecisionTreeClassifier(),\n",
    "    \"SVM\": SVC()\n",
    "}\n",
    "\n",
    "for name, model in models.items():\n",
    "    pipeline = Pipeline([\n",
    "        (\"preprocessor\", full_pipeline),\n",
    "        (\"classifier\", model)\n",
    "    ])\n",
    "    pipeline.fit(X_train, y_train)\n",
    "    y_pred = pipeline.predict(X_test)\n",
    "    y_val_pred = pipeline.predict(X_val)\n",
    "    y_train_pred = pipeline.predict(X_train)\n",
    "    print(f\"\\n{name}\")\n",
    "    print(\"Test Set Metrics:\")\n",
    "    print(classification_report(y_test, y_pred))\n",
    "    print(\"Validation Set Metrics:\")\n",
    "    print(classification_report(y_val, y_val_pred))\n",
    "    print(\"Train Set Metrics:\")\n",
    "    print(classification_report(y_train, y_train_pred))"
   ],
   "id": "b682c6a2557d700f",
   "outputs": [
    {
     "name": "stdout",
     "output_type": "stream",
     "text": [
      "\n",
      "Logistic Regression\n",
      "Test Set Metrics:\n",
      "              precision    recall  f1-score   support\n",
      "\n",
      "        -1.0       0.92      0.86      0.89       217\n",
      "         1.0       0.91      0.95      0.93       328\n",
      "\n",
      "    accuracy                           0.92       545\n",
      "   macro avg       0.92      0.91      0.91       545\n",
      "weighted avg       0.92      0.92      0.92       545\n",
      "\n",
      "Validation Set Metrics:\n",
      "              precision    recall  f1-score   support\n",
      "\n",
      "        -1.0       0.93      0.83      0.87       214\n",
      "         1.0       0.90      0.96      0.93       330\n",
      "\n",
      "    accuracy                           0.91       544\n",
      "   macro avg       0.91      0.89      0.90       544\n",
      "weighted avg       0.91      0.91      0.91       544\n",
      "\n",
      "Train Set Metrics:\n",
      "              precision    recall  f1-score   support\n",
      "\n",
      "        -1.0       0.94      0.85      0.89       990\n",
      "         1.0       0.91      0.97      0.94      1551\n",
      "\n",
      "    accuracy                           0.92      2541\n",
      "   macro avg       0.93      0.91      0.92      2541\n",
      "weighted avg       0.92      0.92      0.92      2541\n",
      "\n",
      "\n",
      "Decision Tree\n",
      "Test Set Metrics:\n",
      "              precision    recall  f1-score   support\n",
      "\n",
      "        -1.0       0.85      0.83      0.84       217\n",
      "         1.0       0.89      0.90      0.90       328\n",
      "\n",
      "    accuracy                           0.87       545\n",
      "   macro avg       0.87      0.87      0.87       545\n",
      "weighted avg       0.87      0.87      0.87       545\n",
      "\n",
      "Validation Set Metrics:\n",
      "              precision    recall  f1-score   support\n",
      "\n",
      "        -1.0       0.82      0.80      0.81       214\n",
      "         1.0       0.87      0.89      0.88       330\n",
      "\n",
      "    accuracy                           0.85       544\n",
      "   macro avg       0.85      0.84      0.85       544\n",
      "weighted avg       0.85      0.85      0.85       544\n",
      "\n",
      "Train Set Metrics:\n",
      "              precision    recall  f1-score   support\n",
      "\n",
      "        -1.0       1.00      1.00      1.00       990\n",
      "         1.0       1.00      1.00      1.00      1551\n",
      "\n",
      "    accuracy                           1.00      2541\n",
      "   macro avg       1.00      1.00      1.00      2541\n",
      "weighted avg       1.00      1.00      1.00      2541\n",
      "\n",
      "\n",
      "SVM\n",
      "Test Set Metrics:\n",
      "              precision    recall  f1-score   support\n",
      "\n",
      "        -1.0       0.94      0.86      0.90       217\n",
      "         1.0       0.91      0.97      0.94       328\n",
      "\n",
      "    accuracy                           0.92       545\n",
      "   macro avg       0.93      0.91      0.92       545\n",
      "weighted avg       0.92      0.92      0.92       545\n",
      "\n",
      "Validation Set Metrics:\n",
      "              precision    recall  f1-score   support\n",
      "\n",
      "        -1.0       0.95      0.82      0.88       214\n",
      "         1.0       0.89      0.97      0.93       330\n",
      "\n",
      "    accuracy                           0.91       544\n",
      "   macro avg       0.92      0.90      0.90       544\n",
      "weighted avg       0.92      0.91      0.91       544\n",
      "\n",
      "Train Set Metrics:\n",
      "              precision    recall  f1-score   support\n",
      "\n",
      "        -1.0       0.98      0.86      0.92       990\n",
      "         1.0       0.92      0.99      0.95      1551\n",
      "\n",
      "    accuracy                           0.94      2541\n",
      "   macro avg       0.95      0.92      0.93      2541\n",
      "weighted avg       0.94      0.94      0.94      2541\n",
      "\n"
     ]
    }
   ],
   "execution_count": 77
  }
 ],
 "metadata": {
  "kernelspec": {
   "display_name": "Python 3",
   "language": "python",
   "name": "python3"
  },
  "language_info": {
   "codemirror_mode": {
    "name": "ipython",
    "version": 2
   },
   "file_extension": ".py",
   "mimetype": "text/x-python",
   "name": "python",
   "nbconvert_exporter": "python",
   "pygments_lexer": "ipython2",
   "version": "2.7.6"
  }
 },
 "nbformat": 4,
 "nbformat_minor": 5
}
