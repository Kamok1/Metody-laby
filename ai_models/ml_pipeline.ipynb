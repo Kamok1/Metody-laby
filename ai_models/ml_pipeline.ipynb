﻿{
 "cells": [
  {
   "cell_type": "code",
   "id": "initial_id",
   "metadata": {
    "collapsed": true,
    "ExecuteTime": {
     "end_time": "2025-05-23T16:46:15.419006Z",
     "start_time": "2025-05-23T16:46:15.414454Z"
    }
   },
   "source": [
    "import pandas as pd\n",
    "from sklearn.model_selection import train_test_split\n",
    "from sklearn.pipeline import Pipeline\n",
    "from sklearn.compose import ColumnTransformer\n",
    "from sklearn.preprocessing import StandardScaler, OneHotEncoder\n",
    "from sklearn.impute import SimpleImputer\n",
    "from sklearn.linear_model import LogisticRegression\n",
    "from sklearn.tree import DecisionTreeClassifier\n",
    "from sklearn.svm import SVC\n",
    "from sklearn.metrics import classification_report\n",
    "\n",
    "from constants import numeric_features, categorical_features\n",
    "from data_process import process_data"
   ],
   "outputs": [],
   "execution_count": 28
  },
  {
   "metadata": {
    "ExecuteTime": {
     "end_time": "2025-05-23T16:46:15.459234Z",
     "start_time": "2025-05-23T16:46:15.426202Z"
    }
   },
   "cell_type": "code",
   "source": [
    "df = pd.read_csv(\"../data/students.csv\", sep=\";\")\n",
    "df = process_data(df)\n",
    "df = df.dropna(subset=[\"Target encoded\"])"
   ],
   "id": "7c7f426bf091cc4d",
   "outputs": [],
   "execution_count": 29
  },
  {
   "metadata": {
    "ExecuteTime": {
     "end_time": "2025-05-23T16:46:15.513823Z",
     "start_time": "2025-05-23T16:46:15.507848Z"
    }
   },
   "cell_type": "code",
   "source": [
    "X = df.drop(columns=[\"Target\", \"Target encoded\"])\n",
    "y = df[\"Target encoded\"]"
   ],
   "id": "b38220b628a0d78a",
   "outputs": [],
   "execution_count": 30
  },
  {
   "metadata": {
    "ExecuteTime": {
     "end_time": "2025-05-23T16:46:15.629945Z",
     "start_time": "2025-05-23T16:46:15.625812Z"
    }
   },
   "cell_type": "code",
   "source": [
    "num_features = [c for c in numeric_features if c in X.columns]\n",
    "cat_features = [c for c in categorical_features if c in X.columns]"
   ],
   "id": "a2aecd612c27ae12",
   "outputs": [],
   "execution_count": 31
  },
  {
   "metadata": {
    "ExecuteTime": {
     "end_time": "2025-05-23T16:46:15.642168Z",
     "start_time": "2025-05-23T16:46:15.638454Z"
    }
   },
   "cell_type": "code",
   "source": [
    "num_pipeline = Pipeline([\n",
    "    (\"imputer\", SimpleImputer(strategy=\"mean\")),\n",
    "    (\"scaler\", StandardScaler())\n",
    "])"
   ],
   "id": "90d49dfa6ea8668a",
   "outputs": [],
   "execution_count": 32
  },
  {
   "metadata": {
    "ExecuteTime": {
     "end_time": "2025-05-23T16:46:15.752944Z",
     "start_time": "2025-05-23T16:46:15.749809Z"
    }
   },
   "cell_type": "code",
   "source": [
    "cat_pipeline = Pipeline([\n",
    "    (\"imputer\", SimpleImputer(strategy=\"most_frequent\")),\n",
    "    (\"encoder\", OneHotEncoder(handle_unknown=\"ignore\"))\n",
    "])"
   ],
   "id": "121b0615dd56f390",
   "outputs": [],
   "execution_count": 33
  },
  {
   "metadata": {
    "ExecuteTime": {
     "end_time": "2025-05-23T16:46:15.768472Z",
     "start_time": "2025-05-23T16:46:15.764951Z"
    }
   },
   "cell_type": "code",
   "source": [
    "full_pipeline = ColumnTransformer([\n",
    "    (\"num\", num_pipeline, num_features),\n",
    "    (\"cat\", cat_pipeline, cat_features)\n",
    "])\n"
   ],
   "id": "403d845be8c659f5",
   "outputs": [],
   "execution_count": 34
  },
  {
   "metadata": {
    "ExecuteTime": {
     "end_time": "2025-05-23T16:46:15.887995Z",
     "start_time": "2025-05-23T16:46:15.877396Z"
    }
   },
   "cell_type": "code",
   "source": "X_train, X_test, y_train, y_test = train_test_split(X, y, test_size=0.2, random_state=1)",
   "id": "debddc47542f5b46",
   "outputs": [],
   "execution_count": 35
  },
  {
   "metadata": {
    "ExecuteTime": {
     "end_time": "2025-05-23T16:46:16.596289Z",
     "start_time": "2025-05-23T16:46:15.904337Z"
    }
   },
   "cell_type": "code",
   "source": [
    "models = {\n",
    "    \"Logistic Regression\": LogisticRegression(max_iter=1000),\n",
    "    \"Decision Tree\": DecisionTreeClassifier(),\n",
    "    \"SVM\": SVC()\n",
    "}\n",
    "\n",
    "for name, model in models.items():\n",
    "    pipeline = Pipeline([\n",
    "        (\"preprocessor\", full_pipeline),\n",
    "        (\"classifier\", model)\n",
    "    ])\n",
    "    pipeline.fit(X_train, y_train)\n",
    "    y_pred = pipeline.predict(X_test)\n",
    "    print(f\"\\n{name}\")\n",
    "    print(classification_report(y_test, y_pred))"
   ],
   "id": "b682c6a2557d700f",
   "outputs": [
    {
     "name": "stdout",
     "output_type": "stream",
     "text": [
      "\n",
      "Logistic Regression\n",
      "              precision    recall  f1-score   support\n",
      "\n",
      "        -1.0       0.92      0.83      0.87       284\n",
      "         1.0       0.90      0.95      0.93       442\n",
      "\n",
      "    accuracy                           0.91       726\n",
      "   macro avg       0.91      0.89      0.90       726\n",
      "weighted avg       0.91      0.91      0.91       726\n",
      "\n",
      "\n",
      "Decision Tree\n",
      "              precision    recall  f1-score   support\n",
      "\n",
      "        -1.0       0.82      0.82      0.82       284\n",
      "         1.0       0.89      0.89      0.89       442\n",
      "\n",
      "    accuracy                           0.86       726\n",
      "   macro avg       0.86      0.86      0.86       726\n",
      "weighted avg       0.86      0.86      0.86       726\n",
      "\n",
      "\n",
      "SVM\n",
      "              precision    recall  f1-score   support\n",
      "\n",
      "        -1.0       0.94      0.81      0.87       284\n",
      "         1.0       0.89      0.97      0.93       442\n",
      "\n",
      "    accuracy                           0.91       726\n",
      "   macro avg       0.92      0.89      0.90       726\n",
      "weighted avg       0.91      0.91      0.91       726\n",
      "\n"
     ]
    }
   ],
   "execution_count": 36
  }
 ],
 "metadata": {
  "kernelspec": {
   "display_name": "Python 3",
   "language": "python",
   "name": "python3"
  },
  "language_info": {
   "codemirror_mode": {
    "name": "ipython",
    "version": 2
   },
   "file_extension": ".py",
   "mimetype": "text/x-python",
   "name": "python",
   "nbconvert_exporter": "python",
   "pygments_lexer": "ipython2",
   "version": "2.7.6"
  }
 },
 "nbformat": 4,
 "nbformat_minor": 5
}
