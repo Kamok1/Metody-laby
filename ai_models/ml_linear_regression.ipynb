﻿{
 "cells": [
  {
   "cell_type": "code",
   "id": "initial_id",
   "metadata": {
    "collapsed": true,
    "ExecuteTime": {
     "end_time": "2025-05-22T17:40:55.004426Z",
     "start_time": "2025-05-22T17:40:55.001228Z"
    }
   },
   "source": [
    "import numpy as np\n",
    "import pandas as pd\n",
    "from sklearn.metrics import mean_squared_error\n",
    "from data_process import process_data\n",
    "from constants import numeric_features"
   ],
   "outputs": [],
   "execution_count": 3
  },
  {
   "metadata": {
    "ExecuteTime": {
     "end_time": "2025-05-22T17:40:55.052692Z",
     "start_time": "2025-05-22T17:40:55.017388Z"
    }
   },
   "cell_type": "code",
   "source": [
    "df = pd.read_csv(\"../data/students.csv\", sep=\";\")\n",
    "df = process_data(df)\n",
    "df = df.dropna(subset=[\"Application order\"])"
   ],
   "id": "27c4a2a24201ae46",
   "outputs": [],
   "execution_count": 4
  },
  {
   "metadata": {
    "ExecuteTime": {
     "end_time": "2025-05-22T17:40:55.103684Z",
     "start_time": "2025-05-22T17:40:55.097303Z"
    }
   },
   "cell_type": "code",
   "source": [
    "X = df.drop(columns=[\"Application order\"])\n",
    "num_features = [c for c in numeric_features if c in X.columns]\n",
    "X = X[num_features]\n",
    "y = df[\"Application order\"]"
   ],
   "id": "840aeda4186dbe30",
   "outputs": [],
   "execution_count": 5
  },
  {
   "metadata": {
    "ExecuteTime": {
     "end_time": "2025-05-22T17:40:55.121887Z",
     "start_time": "2025-05-22T17:40:55.118486Z"
    }
   },
   "cell_type": "code",
   "source": "X_bias = np.hstack((X, np.ones((X.shape[0], 1))))",
   "id": "c63d2a43730ad6d9",
   "outputs": [],
   "execution_count": 6
  },
  {
   "metadata": {
    "ExecuteTime": {
     "end_time": "2025-05-22T17:40:55.153222Z",
     "start_time": "2025-05-22T17:40:55.139440Z"
    }
   },
   "cell_type": "code",
   "source": [
    "theta_closed = np.linalg.inv(X_bias.T @ X_bias) @ X_bias.T @ y\n",
    "y_pred_closed = X_bias @ theta_closed\n",
    "print(\"Closed-form MSE:\", mean_squared_error(y, y_pred_closed))\n",
    "\n",
    "acc = (np.sign(y_pred_closed) == y).mean()\n",
    "print(f\"Accuracy: {acc:.3f}\")\n"
   ],
   "id": "da30c852e270dc3",
   "outputs": [
    {
     "name": "stdout",
     "output_type": "stream",
     "text": [
      "Closed-form MSE: 1.4951289064550906\n",
      "Accuracy: 0.681\n"
     ]
    }
   ],
   "execution_count": 7
  },
  {
   "metadata": {
    "ExecuteTime": {
     "end_time": "2025-05-22T17:40:55.288888Z",
     "start_time": "2025-05-22T17:40:55.286386Z"
    }
   },
   "cell_type": "code",
   "source": "",
   "id": "cfda49272659d74e",
   "outputs": [],
   "execution_count": null
  }
 ],
 "metadata": {
  "kernelspec": {
   "display_name": "Python 3",
   "language": "python",
   "name": "python3"
  },
  "language_info": {
   "codemirror_mode": {
    "name": "ipython",
    "version": 2
   },
   "file_extension": ".py",
   "mimetype": "text/x-python",
   "name": "python",
   "nbconvert_exporter": "python",
   "pygments_lexer": "ipython2",
   "version": "2.7.6"
  }
 },
 "nbformat": 4,
 "nbformat_minor": 5
}
