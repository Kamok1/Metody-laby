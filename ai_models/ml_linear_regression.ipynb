﻿{
 "cells": [
  {
   "cell_type": "code",
   "id": "initial_id",
   "metadata": {
    "collapsed": true,
    "ExecuteTime": {
     "end_time": "2025-05-23T16:48:49.684528Z",
     "start_time": "2025-05-23T16:48:48.445411Z"
    }
   },
   "source": [
    "import numpy as np\n",
    "import pandas as pd\n",
    "from sklearn.metrics import mean_squared_error\n",
    "from data_process import process_data\n",
    "from constants import numeric_features"
   ],
   "outputs": [],
   "execution_count": 1
  },
  {
   "metadata": {
    "ExecuteTime": {
     "end_time": "2025-05-23T16:48:49.719350Z",
     "start_time": "2025-05-23T16:48:49.689555Z"
    }
   },
   "cell_type": "code",
   "source": [
    "df = pd.read_csv(\"../data/students.csv\", sep=\";\")\n",
    "df = process_data(df)\n",
    "df = df.dropna(subset=[\"Application order\"])"
   ],
   "id": "27c4a2a24201ae46",
   "outputs": [],
   "execution_count": 2
  },
  {
   "metadata": {
    "ExecuteTime": {
     "end_time": "2025-05-23T16:48:49.908655Z",
     "start_time": "2025-05-23T16:48:49.902617Z"
    }
   },
   "cell_type": "code",
   "source": [
    "X = df.drop(columns=[\"Application order\"])\n",
    "num_features = [c for c in numeric_features if c in X.columns]\n",
    "X = X[num_features]\n",
    "y = df[\"Application order\"]"
   ],
   "id": "840aeda4186dbe30",
   "outputs": [],
   "execution_count": 3
  },
  {
   "metadata": {
    "ExecuteTime": {
     "end_time": "2025-05-23T16:48:49.960037Z",
     "start_time": "2025-05-23T16:48:49.948601Z"
    }
   },
   "cell_type": "code",
   "source": [
    "X_bias = np.hstack((X, np.ones((X.shape[0], 1))))\n",
    "theta_closed = np.linalg.inv(X_bias.T @ X_bias) @ X_bias.T @ y\n",
    "y_pred_closed = X_bias @ theta_closed\n",
    "print(\"Closed-form MSE:\", mean_squared_error(y, y_pred_closed))\n",
    "\n",
    "acc = (np.sign(y_pred_closed) == y).mean()\n",
    "print(f\"Accuracy: {acc:.3f}\")\n"
   ],
   "id": "da30c852e270dc3",
   "outputs": [
    {
     "name": "stdout",
     "output_type": "stream",
     "text": [
      "Closed-form MSE: 1.4951289064550906\n",
      "Accuracy: 0.681\n"
     ]
    }
   ],
   "execution_count": 5
  },
  {
   "metadata": {
    "ExecuteTime": {
     "end_time": "2025-05-23T16:48:50.001954Z",
     "start_time": "2025-05-23T16:48:49.999963Z"
    }
   },
   "cell_type": "code",
   "source": "",
   "id": "cfda49272659d74e",
   "outputs": [],
   "execution_count": null
  }
 ],
 "metadata": {
  "kernelspec": {
   "display_name": "Python 3",
   "language": "python",
   "name": "python3"
  },
  "language_info": {
   "codemirror_mode": {
    "name": "ipython",
    "version": 2
   },
   "file_extension": ".py",
   "mimetype": "text/x-python",
   "name": "python",
   "nbconvert_exporter": "python",
   "pygments_lexer": "ipython2",
   "version": "2.7.6"
  }
 },
 "nbformat": 4,
 "nbformat_minor": 5
}
