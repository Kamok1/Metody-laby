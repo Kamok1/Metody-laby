{
 "cells": [
  {
   "cell_type": "code",
   "id": "initial_id",
   "metadata": {
    "collapsed": true,
    "ExecuteTime": {
     "end_time": "2025-05-28T16:55:58.232298Z",
     "start_time": "2025-05-28T16:55:58.228560Z"
    }
   },
   "source": [
    "import numpy as np\n",
    "import pandas as pd\n",
    "from sklearn.pipeline import Pipeline\n",
    "from sklearn.compose import ColumnTransformer\n",
    "from sklearn.preprocessing import StandardScaler, OneHotEncoder\n",
    "from sklearn.impute import SimpleImputer\n",
    "from sklearn.metrics import mean_squared_error, mean_absolute_error, r2_score\n",
    "from data_process import process_data\n",
    "from constants import numeric_features, categorical_features\n",
    "from ai_models.shared import load_train_with_validation_data, load_processed_data"
   ],
   "outputs": [],
   "execution_count": 342
  },
  {
   "metadata": {
    "ExecuteTime": {
     "end_time": "2025-05-28T16:55:58.302710Z",
     "start_time": "2025-05-28T16:55:58.275839Z"
    }
   },
   "cell_type": "code",
   "source": [
    "df = load_processed_data()\n",
    "df = df.dropna(subset=[\"Curricular units 1st sem (enrolled)\"])"
   ],
   "id": "27c4a2a24201ae46",
   "outputs": [],
   "execution_count": 343
  },
  {
   "metadata": {
    "ExecuteTime": {
     "end_time": "2025-05-28T16:55:58.311406Z",
     "start_time": "2025-05-28T16:55:58.306744Z"
    }
   },
   "cell_type": "code",
   "source": [
    "X = df.drop(columns=[\"Curricular units 1st sem (enrolled)\"])\n",
    "y = df[\"Curricular units 1st sem (enrolled)\"]"
   ],
   "id": "840aeda4186dbe30",
   "outputs": [],
   "execution_count": 344
  },
  {
   "metadata": {
    "ExecuteTime": {
     "end_time": "2025-05-28T16:55:58.350819Z",
     "start_time": "2025-05-28T16:55:58.346623Z"
    }
   },
   "cell_type": "code",
   "source": [
    "num_features = [c for c in numeric_features if c in X.columns]\n",
    "cat_features = [c for c in categorical_features if c in X.columns]"
   ],
   "id": "cf7b8d349aa43706",
   "outputs": [],
   "execution_count": 345
  },
  {
   "metadata": {
    "ExecuteTime": {
     "end_time": "2025-05-28T16:55:58.415361Z",
     "start_time": "2025-05-28T16:55:58.411550Z"
    }
   },
   "cell_type": "code",
   "source": [
    "num_pipeline = Pipeline([\n",
    "    (\"imputer\", SimpleImputer(strategy=\"mean\")),\n",
    "    (\"scaler\", StandardScaler())\n",
    "])"
   ],
   "id": "d0164753b5c0d9ae",
   "outputs": [],
   "execution_count": 346
  },
  {
   "metadata": {
    "ExecuteTime": {
     "end_time": "2025-05-28T16:55:58.423234Z",
     "start_time": "2025-05-28T16:55:58.420670Z"
    }
   },
   "cell_type": "code",
   "source": [
    "cat_pipeline = Pipeline([\n",
    "    (\"imputer\", SimpleImputer(strategy=\"most_frequent\")),\n",
    "    (\"encoder\", OneHotEncoder(handle_unknown=\"ignore\"))\n",
    "])"
   ],
   "id": "bcb80f6616e6509b",
   "outputs": [],
   "execution_count": 347
  },
  {
   "metadata": {
    "ExecuteTime": {
     "end_time": "2025-05-28T16:55:58.458690Z",
     "start_time": "2025-05-28T16:55:58.456148Z"
    }
   },
   "cell_type": "code",
   "source": [
    "full_pipeline = ColumnTransformer([\n",
    "    (\"num\", num_pipeline, num_features),\n",
    "    (\"cat\", cat_pipeline, cat_features)\n",
    "])"
   ],
   "id": "8519120174a5bd97",
   "outputs": [],
   "execution_count": 348
  },
  {
   "metadata": {
    "ExecuteTime": {
     "end_time": "2025-05-28T16:55:58.550289Z",
     "start_time": "2025-05-28T16:55:58.487846Z"
    }
   },
   "cell_type": "code",
   "source": [
    "X_train_raw, X_val_raw, X_test_raw, y_train, y_val, y_test = load_train_with_validation_data(X, y)\n",
    "X_train = full_pipeline.fit_transform(X_train_raw).toarray()\n",
    "X_test = full_pipeline.transform(X_test_raw).toarray()\n",
    "X_val = full_pipeline.transform(X_val_raw).toarray()"
   ],
   "id": "377ae8ce16f8030d",
   "outputs": [],
   "execution_count": 349
  },
  {
   "metadata": {
    "ExecuteTime": {
     "end_time": "2025-05-28T16:55:58.649128Z",
     "start_time": "2025-05-28T16:55:58.645463Z"
    }
   },
   "cell_type": "code",
   "source": [
    "def closed_form_linear_regression(X_train, y_train, X_test):\n",
    "    y = y_train.to_numpy() if hasattr(y_train, 'to_numpy') else y_train\n",
    "    X_train_bias = np.hstack([np.ones((X_train.shape[0], 1)), X_train])\n",
    "    X_test_bias  = np.hstack([np.ones((X_test.shape[0], 1)),  X_test])  # ← poprawka tutaj\n",
    "    XtX = X_train_bias.T @ X_train_bias\n",
    "    Xty = X_train_bias.T @ y\n",
    "    w   = np.linalg.pinv(XtX) @ Xty\n",
    "    y_pred = X_test_bias @ w\n",
    "    return y_pred, w\n"
   ],
   "id": "da30c852e270dc3",
   "outputs": [],
   "execution_count": 350
  },
  {
   "metadata": {},
   "cell_type": "markdown",
   "source": [
    "\n",
    "$$\n",
    "\\mathbf{W} = (X^T X)^{-1} X^T Y\n",
    "$$\n",
    "\n",
    "Gdzie:\n",
    "- W — wektor współczynników regresji,\n",
    "- X — macierz cech (z dodanym biasem),\n",
    "- Y — wektor wartości docelowych (target),"
   ],
   "id": "a94d45b052b2ade0"
  },
  {
   "metadata": {
    "ExecuteTime": {
     "end_time": "2025-05-28T16:55:58.740515Z",
     "start_time": "2025-05-28T16:55:58.683069Z"
    }
   },
   "cell_type": "code",
   "source": [
    "def print_metrics(y_true, y_pred, label):\n",
    "    mse = mean_squared_error(y_true, y_pred)\n",
    "    rmse = np.sqrt(mse)\n",
    "    mae = mean_absolute_error(y_true, y_pred)\n",
    "    r2 = r2_score(y_true, y_pred)\n",
    "    print(f\"{label} Results:\")\n",
    "    print(f\"  MSE : {mse:.4f}\")\n",
    "    print(f\"  RMSE: {rmse:.4f}\")\n",
    "    print(f\"  MAE : {mae:.4f}\")\n",
    "    print(f\"  R2  : {r2:.4f}\\n\")\n",
    "\n",
    "y_test_pred, weights = closed_form_linear_regression(X_train, y_train, X_test)\n",
    "y_val_pred, _  = closed_form_linear_regression(X_train, y_train, X_val)\n",
    "print_metrics(y_test, y_test_pred, \"Test\")\n",
    "print_metrics(y_val, y_val_pred, \"Validation\")"
   ],
   "id": "589be402e2d1705c",
   "outputs": [
    {
     "name": "stdout",
     "output_type": "stream",
     "text": [
      "Test Results:\n",
      "  MSE : 0.2266\n",
      "  RMSE: 0.4760\n",
      "  MAE : 0.3109\n",
      "  R2  : 0.9657\n",
      "\n",
      "Validation Results:\n",
      "  MSE : 0.2396\n",
      "  RMSE: 0.4895\n",
      "  MAE : 0.3143\n",
      "  R2  : 0.9641\n",
      "\n"
     ]
    }
   ],
   "execution_count": 351
  }
 ],
 "metadata": {
  "kernelspec": {
   "display_name": "Python 3",
   "language": "python",
   "name": "python3"
  },
  "language_info": {
   "codemirror_mode": {
    "name": "ipython",
    "version": 2
   },
   "file_extension": ".py",
   "mimetype": "text/x-python",
   "name": "python",
   "nbconvert_exporter": "python",
   "pygments_lexer": "ipython2",
   "version": "2.7.6"
  }
 },
 "nbformat": 4,
 "nbformat_minor": 5
}
