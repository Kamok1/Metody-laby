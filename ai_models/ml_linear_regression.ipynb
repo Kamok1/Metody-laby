{
 "cells": [
  {
   "cell_type": "code",
   "id": "initial_id",
   "metadata": {
    "collapsed": true,
    "ExecuteTime": {
     "end_time": "2025-05-29T08:55:10.039228Z",
     "start_time": "2025-05-29T08:55:07.412310Z"
    }
   },
   "source": [
    "import numpy as np\n",
    "from sklearn.pipeline import Pipeline\n",
    "from sklearn.compose import ColumnTransformer\n",
    "from sklearn.preprocessing import StandardScaler, OneHotEncoder\n",
    "from sklearn.impute import SimpleImputer\n",
    "from sklearn.metrics import mean_squared_error, mean_absolute_error, r2_score\n",
    "from constants import numeric_features, categorical_features\n",
    "from ai_models.shared import load_train_with_validation_data, load_processed_data"
   ],
   "outputs": [],
   "execution_count": 1
  },
  {
   "metadata": {
    "ExecuteTime": {
     "end_time": "2025-05-29T08:55:10.099335Z",
     "start_time": "2025-05-29T08:55:10.049699Z"
    }
   },
   "cell_type": "code",
   "source": [
    "df = load_processed_data()\n",
    "df = df.dropna(subset=[\"Curricular units 1st sem (enrolled)\"])"
   ],
   "id": "27c4a2a24201ae46",
   "outputs": [],
   "execution_count": 2
  },
  {
   "metadata": {
    "ExecuteTime": {
     "end_time": "2025-05-29T08:55:10.502973Z",
     "start_time": "2025-05-29T08:55:10.498615Z"
    }
   },
   "cell_type": "code",
   "source": [
    "X = df.drop(columns=[\"Curricular units 1st sem (enrolled)\"])\n",
    "y = df[\"Curricular units 1st sem (enrolled)\"]"
   ],
   "id": "840aeda4186dbe30",
   "outputs": [],
   "execution_count": 3
  },
  {
   "metadata": {
    "ExecuteTime": {
     "end_time": "2025-05-29T08:55:10.525477Z",
     "start_time": "2025-05-29T08:55:10.522343Z"
    }
   },
   "cell_type": "code",
   "source": [
    "num_features = [c for c in numeric_features if c in X.columns]\n",
    "cat_features = [c for c in categorical_features if c in X.columns]"
   ],
   "id": "cf7b8d349aa43706",
   "outputs": [],
   "execution_count": 4
  },
  {
   "metadata": {
    "ExecuteTime": {
     "end_time": "2025-05-29T08:55:10.589629Z",
     "start_time": "2025-05-29T08:55:10.586834Z"
    }
   },
   "cell_type": "code",
   "source": [
    "num_pipeline = Pipeline([\n",
    "    (\"imputer\", SimpleImputer(strategy=\"mean\")),\n",
    "    (\"scaler\", StandardScaler())\n",
    "])"
   ],
   "id": "d0164753b5c0d9ae",
   "outputs": [],
   "execution_count": 5
  },
  {
   "metadata": {
    "ExecuteTime": {
     "end_time": "2025-05-29T08:55:10.618250Z",
     "start_time": "2025-05-29T08:55:10.615041Z"
    }
   },
   "cell_type": "code",
   "source": [
    "cat_pipeline = Pipeline([\n",
    "    (\"imputer\", SimpleImputer(strategy=\"most_frequent\")),\n",
    "    (\"encoder\", OneHotEncoder(handle_unknown=\"ignore\"))\n",
    "])"
   ],
   "id": "bcb80f6616e6509b",
   "outputs": [],
   "execution_count": 6
  },
  {
   "metadata": {
    "ExecuteTime": {
     "end_time": "2025-05-29T08:55:10.672359Z",
     "start_time": "2025-05-29T08:55:10.669141Z"
    }
   },
   "cell_type": "code",
   "source": [
    "full_pipeline = ColumnTransformer([\n",
    "    (\"num\", num_pipeline, num_features),\n",
    "    (\"cat\", cat_pipeline, cat_features)\n",
    "])"
   ],
   "id": "8519120174a5bd97",
   "outputs": [],
   "execution_count": 7
  },
  {
   "metadata": {
    "ExecuteTime": {
     "end_time": "2025-05-29T08:55:10.766104Z",
     "start_time": "2025-05-29T08:55:10.697020Z"
    }
   },
   "cell_type": "code",
   "source": [
    "X_train_raw, X_val_raw, X_test_raw, y_train, y_val, y_test = load_train_with_validation_data(X, y)\n",
    "X_train = full_pipeline.fit_transform(X_train_raw).toarray()\n",
    "X_test = full_pipeline.transform(X_test_raw).toarray()\n",
    "X_val = full_pipeline.transform(X_val_raw).toarray()"
   ],
   "id": "377ae8ce16f8030d",
   "outputs": [],
   "execution_count": 8
  },
  {
   "metadata": {
    "ExecuteTime": {
     "end_time": "2025-05-29T08:55:10.800833Z",
     "start_time": "2025-05-29T08:55:10.797559Z"
    }
   },
   "cell_type": "code",
   "source": [
    "def closed_form_linear_regression(X_train, y_train, X_test):\n",
    "    y = y_train.to_numpy() if hasattr(y_train, 'to_numpy') else y_train\n",
    "    X_train_bias = np.hstack([np.ones((X_train.shape[0], 1)), X_train])\n",
    "    X_test_bias  = np.hstack([np.ones((X_test.shape[0], 1)),  X_test])\n",
    "    XtX = X_train_bias.T @ X_train_bias\n",
    "    Xty = X_train_bias.T @ y\n",
    "    w = np.linalg.pinv(XtX) @ Xty\n",
    "    y_pred = X_test_bias @ w\n",
    "    return y_pred\n"
   ],
   "id": "da30c852e270dc3",
   "outputs": [],
   "execution_count": 9
  },
  {
   "metadata": {},
   "cell_type": "markdown",
   "source": [
    "\n",
    "$$\n",
    "\\mathbf{W} = (X^T X)^{-1} X^T Y\n",
    "$$\n",
    "\n",
    "Gdzie:\n",
    "- W — wektor współczynników regresji,\n",
    "- X — macierz cech (z dodanym biasem),\n",
    "- Y — wektor wartości docelowych (target),"
   ],
   "id": "a94d45b052b2ade0"
  },
  {
   "metadata": {
    "ExecuteTime": {
     "end_time": "2025-05-29T08:55:10.924018Z",
     "start_time": "2025-05-29T08:55:10.838490Z"
    }
   },
   "cell_type": "code",
   "source": [
    "def print_metrics(y_true, y_pred, label):\n",
    "    mse = mean_squared_error(y_true, y_pred)\n",
    "    r2 = r2_score(y_true, y_pred)\n",
    "    print(f\"{label} Results:\")\n",
    "    print(f\"  MSE : {mse:.4f}\")\n",
    "    print(f\"  R2  : {r2:.4f}\\n\")\n",
    "\n",
    "y_train_pred = closed_form_linear_regression(X_train, y_train, X_train)\n",
    "y_test_pred  = closed_form_linear_regression(X_train, y_train, X_test)\n",
    "y_val_pred   = closed_form_linear_regression(X_train, y_train, X_val)\n",
    "\n",
    "print_metrics(y_train, y_train_pred, \"Train\")\n",
    "print_metrics(y_test,  y_test_pred,  \"Test\")\n",
    "print_metrics(y_val,   y_val_pred,   \"Validation\")\n"
   ],
   "id": "589be402e2d1705c",
   "outputs": [
    {
     "name": "stdout",
     "output_type": "stream",
     "text": [
      "Train Results:\n",
      "  MSE : 0.2272\n",
      "  R2  : 0.9617\n",
      "\n",
      "Test Results:\n",
      "  MSE : 0.2205\n",
      "  R2  : 0.9659\n",
      "\n",
      "Validation Results:\n",
      "  MSE : 0.2584\n",
      "  R2  : 0.9630\n",
      "\n"
     ]
    }
   ],
   "execution_count": 10
  }
 ],
 "metadata": {
  "kernelspec": {
   "display_name": "Python 3",
   "language": "python",
   "name": "python3"
  },
  "language_info": {
   "codemirror_mode": {
    "name": "ipython",
    "version": 2
   },
   "file_extension": ".py",
   "mimetype": "text/x-python",
   "name": "python",
   "nbconvert_exporter": "python",
   "pygments_lexer": "ipython2",
   "version": "2.7.6"
  }
 },
 "nbformat": 4,
 "nbformat_minor": 5
}
