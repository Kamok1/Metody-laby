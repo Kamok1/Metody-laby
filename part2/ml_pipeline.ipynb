{
 "cells": [
  {
   "cell_type": "code",
   "id": "initial_id",
   "metadata": {
    "collapsed": true,
    "ExecuteTime": {
     "end_time": "2025-05-30T13:24:55.418422800Z",
     "start_time": "2025-05-29T14:44:10.402131Z"
    }
   },
   "source": [
    "from sklearn.pipeline import Pipeline\n",
    "from sklearn.compose import ColumnTransformer\n",
    "from sklearn.preprocessing import StandardScaler, OneHotEncoder\n",
    "from sklearn.impute import SimpleImputer\n",
    "from sklearn.linear_model import LogisticRegression\n",
    "from sklearn.tree import DecisionTreeClassifier\n",
    "from sklearn.svm import SVC\n",
    "from sklearn.metrics import classification_report\n",
    "from part2.shared import load_processed_data, load_train_with_validation_data\n",
    "from constants import numeric_features, categorical_features"
   ],
   "outputs": [],
   "execution_count": 1
  },
  {
   "metadata": {
    "ExecuteTime": {
     "end_time": "2025-05-30T13:24:55.423266500Z",
     "start_time": "2025-05-29T14:44:12.427383Z"
    }
   },
   "cell_type": "code",
   "source": [
    "\n",
    "df = load_processed_data()\n",
    "df = df.dropna(subset=[\"Target encoded\"])\n",
    "X = df.drop(columns=[\"Target\", \"Target encoded\"])\n",
    "y = df[\"Target encoded\"]"
   ],
   "id": "7c7f426bf091cc4d",
   "outputs": [],
   "execution_count": 2
  },
  {
   "metadata": {
    "ExecuteTime": {
     "end_time": "2025-05-30T13:24:55.423266500Z",
     "start_time": "2025-05-29T14:44:12.941579Z"
    }
   },
   "cell_type": "code",
   "source": [
    "num_features = [c for c in numeric_features if c in X.columns]\n",
    "cat_features = [c for c in categorical_features if c in X.columns]"
   ],
   "id": "a2aecd612c27ae12",
   "outputs": [],
   "execution_count": 3
  },
  {
   "metadata": {
    "ExecuteTime": {
     "end_time": "2025-05-30T13:24:55.433278100Z",
     "start_time": "2025-05-29T14:44:12.959923Z"
    }
   },
   "cell_type": "code",
   "source": [
    "num_pipeline = Pipeline([\n",
    "    (\"imputer\", SimpleImputer(strategy=\"mean\")),\n",
    "    (\"scaler\", StandardScaler())\n",
    "])"
   ],
   "id": "90d49dfa6ea8668a",
   "outputs": [],
   "execution_count": 4
  },
  {
   "metadata": {
    "ExecuteTime": {
     "end_time": "2025-05-30T13:24:55.434852600Z",
     "start_time": "2025-05-29T14:44:13.027538Z"
    }
   },
   "cell_type": "code",
   "source": [
    "cat_pipeline = Pipeline([\n",
    "    (\"imputer\", SimpleImputer(strategy=\"most_frequent\")),\n",
    "    (\"encoder\", OneHotEncoder(handle_unknown=\"ignore\"))\n",
    "])"
   ],
   "id": "121b0615dd56f390",
   "outputs": [],
   "execution_count": 5
  },
  {
   "metadata": {
    "ExecuteTime": {
     "end_time": "2025-05-30T13:24:55.439295600Z",
     "start_time": "2025-05-29T14:44:13.035823Z"
    }
   },
   "cell_type": "code",
   "source": [
    "full_pipeline = ColumnTransformer([\n",
    "    (\"num\", num_pipeline, num_features),\n",
    "    (\"cat\", cat_pipeline, cat_features)\n",
    "])\n"
   ],
   "id": "403d845be8c659f5",
   "outputs": [],
   "execution_count": 6
  },
  {
   "metadata": {
    "ExecuteTime": {
     "end_time": "2025-05-30T13:24:55.439295600Z",
     "start_time": "2025-05-29T14:44:13.062033Z"
    }
   },
   "cell_type": "code",
   "source": "X_train, X_val, X_test, y_train, y_val, y_test = load_train_with_validation_data(X, y)",
   "id": "debddc47542f5b46",
   "outputs": [],
   "execution_count": 7
  },
  {
   "metadata": {
    "ExecuteTime": {
     "end_time": "2025-05-30T13:24:55.344060Z",
     "start_time": "2025-05-30T13:24:54.768106Z"
    }
   },
   "cell_type": "code",
   "source": [
    "models = {\n",
    "    \"Logistic Regression\": LogisticRegression(max_iter=1000),\n",
    "    \"Decision Tree\": DecisionTreeClassifier(),\n",
    "    \"SVM\": SVC()\n",
    "}\n",
    "\n",
    "for name, model in models.items():\n",
    "    pipeline = Pipeline([\n",
    "        (\"preprocessor\", full_pipeline),\n",
    "        (\"classifier\", model)\n",
    "    ])\n",
    "    pipeline.fit(X_train, y_train)\n",
    "    y_pred = pipeline.predict(X_test)\n",
    "    y_val_pred = pipeline.predict(X_val)\n",
    "    y_train_pred = pipeline.predict(X_train)\n",
    "    print(f\"\\n{name}\")\n",
    "    print(\"Test Set Metrics:\")\n",
    "    print(classification_report(y_test, y_pred))\n",
    "    print(\"Validation Set Metrics:\")\n",
    "    print(classification_report(y_val, y_val_pred))\n",
    "    print(\"Train Set Metrics:\")\n",
    "    print(classification_report(y_train, y_train_pred))"
   ],
   "id": "b682c6a2557d700f",
   "outputs": [
    {
     "ename": "NameError",
     "evalue": "name 'LogisticRegression' is not defined",
     "output_type": "error",
     "traceback": [
      "\u001B[31m---------------------------------------------------------------------------\u001B[39m",
      "\u001B[31mNameError\u001B[39m                                 Traceback (most recent call last)",
      "\u001B[36mCell\u001B[39m\u001B[36m \u001B[39m\u001B[32mIn[1]\u001B[39m\u001B[32m, line 2\u001B[39m\n\u001B[32m      1\u001B[39m models = {\n\u001B[32m----> \u001B[39m\u001B[32m2\u001B[39m     \u001B[33m\"\u001B[39m\u001B[33mLogistic Regression\u001B[39m\u001B[33m\"\u001B[39m: \u001B[43mLogisticRegression\u001B[49m(max_iter=\u001B[32m1000\u001B[39m),\n\u001B[32m      3\u001B[39m     \u001B[33m\"\u001B[39m\u001B[33mDecision Tree\u001B[39m\u001B[33m\"\u001B[39m: DecisionTreeClassifier(),\n\u001B[32m      4\u001B[39m     \u001B[33m\"\u001B[39m\u001B[33mSVM\u001B[39m\u001B[33m\"\u001B[39m: SVC()\n\u001B[32m      5\u001B[39m }\n\u001B[32m      7\u001B[39m \u001B[38;5;28;01mfor\u001B[39;00m name, model \u001B[38;5;129;01min\u001B[39;00m models.items():\n\u001B[32m      8\u001B[39m     pipeline = Pipeline([\n\u001B[32m      9\u001B[39m         (\u001B[33m\"\u001B[39m\u001B[33mpreprocessor\u001B[39m\u001B[33m\"\u001B[39m, full_pipeline),\n\u001B[32m     10\u001B[39m         (\u001B[33m\"\u001B[39m\u001B[33mclassifier\u001B[39m\u001B[33m\"\u001B[39m, model)\n\u001B[32m     11\u001B[39m     ])\n",
      "\u001B[31mNameError\u001B[39m: name 'LogisticRegression' is not defined"
     ]
    }
   ],
   "execution_count": 1
  }
 ],
 "metadata": {
  "kernelspec": {
   "display_name": "Python 3",
   "language": "python",
   "name": "python3"
  },
  "language_info": {
   "codemirror_mode": {
    "name": "ipython",
    "version": 2
   },
   "file_extension": ".py",
   "mimetype": "text/x-python",
   "name": "python",
   "nbconvert_exporter": "python",
   "pygments_lexer": "ipython2",
   "version": "2.7.6"
  }
 },
 "nbformat": 4,
 "nbformat_minor": 5
}
