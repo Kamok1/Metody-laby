{
 "cells": [
  {
   "cell_type": "code",
   "id": "initial_id",
   "metadata": {
    "collapsed": true,
    "ExecuteTime": {
     "end_time": "2025-05-29T14:44:12.417794Z",
     "start_time": "2025-05-29T14:44:10.402131Z"
    }
   },
   "source": [
    "from sklearn.pipeline import Pipeline\n",
    "from sklearn.compose import ColumnTransformer\n",
    "from sklearn.preprocessing import StandardScaler, OneHotEncoder\n",
    "from sklearn.impute import SimpleImputer\n",
    "from sklearn.linear_model import LogisticRegression\n",
    "from sklearn.tree import DecisionTreeClassifier\n",
    "from sklearn.svm import SVC\n",
    "from sklearn.metrics import classification_report\n",
    "from part2.shared import load_processed_data, load_train_with_validation_data\n",
    "from constants import numeric_features, categorical_features"
   ],
   "outputs": [],
   "execution_count": 1
  },
  {
   "metadata": {
    "ExecuteTime": {
     "end_time": "2025-05-29T14:44:12.468997Z",
     "start_time": "2025-05-29T14:44:12.427383Z"
    }
   },
   "cell_type": "code",
   "source": [
    "\n",
    "df = load_processed_data()\n",
    "df = df.dropna(subset=[\"Target encoded\"])\n",
    "X = df.drop(columns=[\"Target\", \"Target encoded\"])\n",
    "y = df[\"Target encoded\"]"
   ],
   "id": "7c7f426bf091cc4d",
   "outputs": [],
   "execution_count": 2
  },
  {
   "metadata": {
    "ExecuteTime": {
     "end_time": "2025-05-29T14:44:12.944369Z",
     "start_time": "2025-05-29T14:44:12.941579Z"
    }
   },
   "cell_type": "code",
   "source": [
    "num_features = [c for c in numeric_features if c in X.columns]\n",
    "cat_features = [c for c in categorical_features if c in X.columns]"
   ],
   "id": "a2aecd612c27ae12",
   "outputs": [],
   "execution_count": 3
  },
  {
   "metadata": {
    "ExecuteTime": {
     "end_time": "2025-05-29T14:44:12.962971Z",
     "start_time": "2025-05-29T14:44:12.959923Z"
    }
   },
   "cell_type": "code",
   "source": [
    "num_pipeline = Pipeline([\n",
    "    (\"imputer\", SimpleImputer(strategy=\"mean\")),\n",
    "    (\"scaler\", StandardScaler())\n",
    "])"
   ],
   "id": "90d49dfa6ea8668a",
   "outputs": [],
   "execution_count": 4
  },
  {
   "metadata": {
    "ExecuteTime": {
     "end_time": "2025-05-29T14:44:13.030235Z",
     "start_time": "2025-05-29T14:44:13.027538Z"
    }
   },
   "cell_type": "code",
   "source": [
    "cat_pipeline = Pipeline([\n",
    "    (\"imputer\", SimpleImputer(strategy=\"most_frequent\")),\n",
    "    (\"encoder\", OneHotEncoder(handle_unknown=\"ignore\"))\n",
    "])"
   ],
   "id": "121b0615dd56f390",
   "outputs": [],
   "execution_count": 5
  },
  {
   "metadata": {
    "ExecuteTime": {
     "end_time": "2025-05-29T14:44:13.038465Z",
     "start_time": "2025-05-29T14:44:13.035823Z"
    }
   },
   "cell_type": "code",
   "source": [
    "full_pipeline = ColumnTransformer([\n",
    "    (\"num\", num_pipeline, num_features),\n",
    "    (\"cat\", cat_pipeline, cat_features)\n",
    "])\n"
   ],
   "id": "403d845be8c659f5",
   "outputs": [],
   "execution_count": 6
  },
  {
   "metadata": {
    "ExecuteTime": {
     "end_time": "2025-05-29T14:44:13.075071Z",
     "start_time": "2025-05-29T14:44:13.062033Z"
    }
   },
   "cell_type": "code",
   "source": "X_train, X_val, X_test, y_train, y_val, y_test = load_train_with_validation_data(X, y)",
   "id": "debddc47542f5b46",
   "outputs": [],
   "execution_count": 7
  },
  {
   "metadata": {
    "ExecuteTime": {
     "end_time": "2025-05-29T14:44:14.135058Z",
     "start_time": "2025-05-29T14:44:13.146196Z"
    }
   },
   "cell_type": "code",
   "source": [
    "models = {\n",
    "    \"Logistic Regression\": LogisticRegression(max_iter=1000),\n",
    "    \"Decision Tree\": DecisionTreeClassifier(),\n",
    "    \"SVM\": SVC()\n",
    "}\n",
    "\n",
    "for name, model in models.items():\n",
    "    pipeline = Pipeline([\n",
    "        (\"preprocessor\", full_pipeline),\n",
    "        (\"classifier\", model)\n",
    "    ])\n",
    "    pipeline.fit(X_train, y_train)\n",
    "    y_pred = pipeline.predict(X_test)\n",
    "    y_val_pred = pipeline.predict(X_val)\n",
    "    y_train_pred = pipeline.predict(X_train)\n",
    "    print(f\"\\n{name}\")\n",
    "    print(\"Test Set Metrics:\")\n",
    "    print(classification_report(y_test, y_pred))\n",
    "    print(\"Validation Set Metrics:\")\n",
    "    print(classification_report(y_val, y_val_pred))\n",
    "    print(\"Train Set Metrics:\")\n",
    "    print(classification_report(y_train, y_train_pred))"
   ],
   "id": "b682c6a2557d700f",
   "outputs": [
    {
     "name": "stdout",
     "output_type": "stream",
     "text": [
      "\n",
      "Logistic Regression\n",
      "Test Set Metrics:\n",
      "              precision    recall  f1-score   support\n",
      "\n",
      "        -1.0       0.91      0.86      0.88       284\n",
      "         1.0       0.91      0.95      0.93       443\n",
      "\n",
      "    accuracy                           0.91       727\n",
      "   macro avg       0.91      0.90      0.91       727\n",
      "weighted avg       0.91      0.91      0.91       727\n",
      "\n",
      "Validation Set Metrics:\n",
      "              precision    recall  f1-score   support\n",
      "\n",
      "        -1.0       0.95      0.83      0.88       147\n",
      "         1.0       0.89      0.97      0.93       216\n",
      "\n",
      "    accuracy                           0.91       363\n",
      "   macro avg       0.92      0.90      0.91       363\n",
      "weighted avg       0.91      0.91      0.91       363\n",
      "\n",
      "Train Set Metrics:\n",
      "              precision    recall  f1-score   support\n",
      "\n",
      "        -1.0       0.94      0.85      0.89       990\n",
      "         1.0       0.91      0.97      0.94      1550\n",
      "\n",
      "    accuracy                           0.92      2540\n",
      "   macro avg       0.93      0.91      0.91      2540\n",
      "weighted avg       0.92      0.92      0.92      2540\n",
      "\n",
      "\n",
      "Decision Tree\n",
      "Test Set Metrics:\n",
      "              precision    recall  f1-score   support\n",
      "\n",
      "        -1.0       0.85      0.81      0.83       284\n",
      "         1.0       0.88      0.91      0.89       443\n",
      "\n",
      "    accuracy                           0.87       727\n",
      "   macro avg       0.86      0.86      0.86       727\n",
      "weighted avg       0.87      0.87      0.87       727\n",
      "\n",
      "Validation Set Metrics:\n",
      "              precision    recall  f1-score   support\n",
      "\n",
      "        -1.0       0.82      0.82      0.82       147\n",
      "         1.0       0.88      0.88      0.88       216\n",
      "\n",
      "    accuracy                           0.85       363\n",
      "   macro avg       0.85      0.85      0.85       363\n",
      "weighted avg       0.85      0.85      0.85       363\n",
      "\n",
      "Train Set Metrics:\n",
      "              precision    recall  f1-score   support\n",
      "\n",
      "        -1.0       1.00      1.00      1.00       990\n",
      "         1.0       1.00      1.00      1.00      1550\n",
      "\n",
      "    accuracy                           1.00      2540\n",
      "   macro avg       1.00      1.00      1.00      2540\n",
      "weighted avg       1.00      1.00      1.00      2540\n",
      "\n",
      "\n",
      "SVM\n",
      "Test Set Metrics:\n",
      "              precision    recall  f1-score   support\n",
      "\n",
      "        -1.0       0.94      0.85      0.89       284\n",
      "         1.0       0.91      0.97      0.94       443\n",
      "\n",
      "    accuracy                           0.92       727\n",
      "   macro avg       0.92      0.91      0.91       727\n",
      "weighted avg       0.92      0.92      0.92       727\n",
      "\n",
      "Validation Set Metrics:\n",
      "              precision    recall  f1-score   support\n",
      "\n",
      "        -1.0       0.96      0.82      0.89       147\n",
      "         1.0       0.89      0.98      0.93       216\n",
      "\n",
      "    accuracy                           0.91       363\n",
      "   macro avg       0.93      0.90      0.91       363\n",
      "weighted avg       0.92      0.91      0.91       363\n",
      "\n",
      "Train Set Metrics:\n",
      "              precision    recall  f1-score   support\n",
      "\n",
      "        -1.0       0.98      0.86      0.92       990\n",
      "         1.0       0.92      0.99      0.95      1550\n",
      "\n",
      "    accuracy                           0.94      2540\n",
      "   macro avg       0.95      0.92      0.93      2540\n",
      "weighted avg       0.94      0.94      0.94      2540\n",
      "\n"
     ]
    }
   ],
   "execution_count": 8
  }
 ],
 "metadata": {
  "kernelspec": {
   "display_name": "Python 3",
   "language": "python",
   "name": "python3"
  },
  "language_info": {
   "codemirror_mode": {
    "name": "ipython",
    "version": 2
   },
   "file_extension": ".py",
   "mimetype": "text/x-python",
   "name": "python",
   "nbconvert_exporter": "python",
   "pygments_lexer": "ipython2",
   "version": "2.7.6"
  }
 },
 "nbformat": 4,
 "nbformat_minor": 5
}
