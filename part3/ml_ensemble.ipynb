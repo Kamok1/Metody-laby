{
 "cells": [
  {
   "cell_type": "code",
   "id": "initial_id",
   "metadata": {
    "collapsed": true,
    "ExecuteTime": {
     "end_time": "2025-06-03T15:03:37.656210Z",
     "start_time": "2025-06-03T15:03:35.589253Z"
    }
   },
   "source": [
    "from sklearn.pipeline import Pipeline\n",
    "from sklearn.compose import ColumnTransformer\n",
    "from sklearn.preprocessing import StandardScaler, OneHotEncoder\n",
    "from sklearn.impute import SimpleImputer\n",
    "from constants import numeric_features, categorical_features\n",
    "from sklearn.linear_model import LogisticRegression\n",
    "from part2.shared import load_processed_data\n",
    "from part2.shared import load_train_with_validation_data\n",
    "from sklearn.ensemble import VotingClassifier, StackingClassifier, RandomForestClassifier"
   ],
   "outputs": [],
   "execution_count": 1
  },
  {
   "metadata": {
    "ExecuteTime": {
     "end_time": "2025-06-03T15:03:37.717562Z",
     "start_time": "2025-06-03T15:03:37.668085Z"
    }
   },
   "cell_type": "code",
   "source": [
    "\n",
    "df = load_processed_data()\n",
    "df = df[df[\"Target\"].isin([\"Graduate\", \"Dropout\"])]\n",
    "df[\"y\"] = (df[\"Target\"] == \"Graduate\").astype(int)\n",
    "df = df.drop(columns=[\"Target\", \"Target encoded\"], errors='ignore')"
   ],
   "id": "2b1b7ae7b8475858",
   "outputs": [],
   "execution_count": 2
  },
  {
   "metadata": {
    "ExecuteTime": {
     "end_time": "2025-06-03T15:03:38.224068Z",
     "start_time": "2025-06-03T15:03:38.219059Z"
    }
   },
   "cell_type": "code",
   "source": [
    "X = df.drop(columns=[\"y\"])\n",
    "y = df[\"y\"].values"
   ],
   "id": "c5b948b62fa9daf4",
   "outputs": [],
   "execution_count": 3
  },
  {
   "metadata": {
    "ExecuteTime": {
     "end_time": "2025-06-03T15:03:38.244616Z",
     "start_time": "2025-06-03T15:03:38.241621Z"
    }
   },
   "cell_type": "code",
   "source": [
    "num_features = [c for c in numeric_features if c in X.columns]\n",
    "cat_features = [c for c in categorical_features if c in X.columns]"
   ],
   "id": "d090a12c168e7af",
   "outputs": [],
   "execution_count": 4
  },
  {
   "metadata": {
    "ExecuteTime": {
     "end_time": "2025-06-03T15:03:38.321969Z",
     "start_time": "2025-06-03T15:03:38.319093Z"
    }
   },
   "cell_type": "code",
   "source": [
    "num_pipeline = Pipeline([\n",
    "    (\"imputer\", SimpleImputer(strategy=\"mean\")),\n",
    "    (\"scaler\", StandardScaler())\n",
    "])"
   ],
   "id": "41cf71974728f833",
   "outputs": [],
   "execution_count": 5
  },
  {
   "metadata": {
    "ExecuteTime": {
     "end_time": "2025-06-03T15:03:38.331731Z",
     "start_time": "2025-06-03T15:03:38.328725Z"
    }
   },
   "cell_type": "code",
   "source": [
    "cat_pipeline = Pipeline([\n",
    "    (\"imputer\", SimpleImputer(strategy=\"most_frequent\")),\n",
    "    (\"encoder\", OneHotEncoder(handle_unknown=\"ignore\"))\n",
    "])"
   ],
   "id": "5ab0f40c5a26950c",
   "outputs": [],
   "execution_count": 6
  },
  {
   "metadata": {
    "ExecuteTime": {
     "end_time": "2025-06-03T15:03:38.353840Z",
     "start_time": "2025-06-03T15:03:38.351199Z"
    }
   },
   "cell_type": "code",
   "source": [
    "full_pipeline = ColumnTransformer([\n",
    "    (\"num\", num_pipeline, num_features),\n",
    "    (\"cat\", cat_pipeline, cat_features)\n",
    "])"
   ],
   "id": "c0a403081ce9a113",
   "outputs": [],
   "execution_count": 7
  },
  {
   "metadata": {
    "ExecuteTime": {
     "end_time": "2025-06-03T15:03:38.454312Z",
     "start_time": "2025-06-03T15:03:38.390290Z"
    }
   },
   "cell_type": "code",
   "source": [
    "X_train_raw, X_val_raw, X_test_raw, y_train, y_val, y_test = load_train_with_validation_data(X, y)\n",
    "X_train = full_pipeline.fit_transform(X_train_raw)\n",
    "X_test = full_pipeline.transform(X_test_raw)\n",
    "X_val = full_pipeline.transform(X_val_raw)"
   ],
   "id": "6aebfd4ae1e6b98a",
   "outputs": [],
   "execution_count": 8
  },
  {
   "metadata": {
    "ExecuteTime": {
     "end_time": "2025-06-03T15:03:39.323392Z",
     "start_time": "2025-06-03T15:03:38.490708Z"
    }
   },
   "cell_type": "code",
   "source": [
    "log_clf = LogisticRegression(max_iter=1000)\n",
    "rf_clf = RandomForestClassifier()\n",
    "\n",
    "voting  = VotingClassifier(\n",
    "    estimators=[\n",
    "        ('logreg', log_clf),\n",
    "        ('rf', rf_clf),\n",
    "    ],\n",
    "    voting='soft'\n",
    ")\n",
    "\n",
    "voting.fit(X_train, y_train)\n",
    "y_pred_voting = voting.predict(X_test)\n",
    "\n",
    "stacking  = StackingClassifier(\n",
    "    estimators=[\n",
    "        ('logreg', log_clf),\n",
    "        ('rf', rf_clf),\n",
    "    ],\n",
    "    final_estimator=LogisticRegression(max_iter=1000)\n",
    ")"
   ],
   "id": "93226ed753b8a6a0",
   "outputs": [],
   "execution_count": 9
  },
  {
   "metadata": {
    "ExecuteTime": {
     "end_time": "2025-06-03T15:03:43.487437Z",
     "start_time": "2025-06-03T15:03:39.361361Z"
    }
   },
   "cell_type": "code",
   "source": [
    "from sklearn.metrics import classification_report\n",
    "\n",
    "stacking .fit(X_train, y_train)\n",
    "y_pred_stacking = stacking.predict(X_test)\n",
    "\n",
    "def evaluate_model(name, y_true, y_pred):\n",
    "    print(f\"\\n{name} Results\")\n",
    "    print(classification_report(y_true, y_pred, digits=4))\n",
    "\n",
    "evaluate_model(\"VotingClassifier\", y_test, y_pred_voting)\n",
    "evaluate_model(\"StackingClassifier\", y_test, y_pred_stacking)"
   ],
   "id": "e0d52ecb0fbf3452",
   "outputs": [
    {
     "name": "stdout",
     "output_type": "stream",
     "text": [
      "\n",
      "VotingClassifier Results\n",
      "              precision    recall  f1-score   support\n",
      "\n",
      "           0     0.9286    0.8697    0.8982       284\n",
      "           1     0.9197    0.9571    0.9381       443\n",
      "\n",
      "    accuracy                         0.9230       727\n",
      "   macro avg     0.9242    0.9134    0.9181       727\n",
      "weighted avg     0.9232    0.9230    0.9225       727\n",
      "\n",
      "\n",
      "StackingClassifier Results\n",
      "              precision    recall  f1-score   support\n",
      "\n",
      "           0     0.9294    0.8803    0.9042       284\n",
      "           1     0.9258    0.9571    0.9412       443\n",
      "\n",
      "    accuracy                         0.9271       727\n",
      "   macro avg     0.9276    0.9187    0.9227       727\n",
      "weighted avg     0.9272    0.9271    0.9267       727\n",
      "\n"
     ]
    }
   ],
   "execution_count": 10
  }
 ],
 "metadata": {
  "kernelspec": {
   "display_name": "Python 3",
   "language": "python",
   "name": "python3"
  },
  "language_info": {
   "codemirror_mode": {
    "name": "ipython",
    "version": 2
   },
   "file_extension": ".py",
   "mimetype": "text/x-python",
   "name": "python",
   "nbconvert_exporter": "python",
   "pygments_lexer": "ipython2",
   "version": "2.7.6"
  }
 },
 "nbformat": 4,
 "nbformat_minor": 5
}
