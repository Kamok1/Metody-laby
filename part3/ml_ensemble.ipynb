{
 "cells": [
  {
   "cell_type": "code",
   "id": "initial_id",
   "metadata": {
    "collapsed": true,
    "ExecuteTime": {
     "end_time": "2025-05-31T12:53:01.212114Z",
     "start_time": "2025-05-31T12:53:01.141090Z"
    }
   },
   "source": [
    "from sklearn.pipeline import Pipeline\n",
    "from sklearn.compose import ColumnTransformer\n",
    "from sklearn.preprocessing import StandardScaler, OneHotEncoder\n",
    "from sklearn.impute import SimpleImputer\n",
    "from constants import numeric_features, categorical_features\n",
    "from sklearn.linear_model import LogisticRegression\n",
    "from part2.shared import load_processed_data\n",
    "from part2.shared import load_train_with_validation_data\n",
    "from sklearn.ensemble import VotingClassifier, StackingClassifier, RandomForestClassifier"
   ],
   "outputs": [],
   "execution_count": 11
  },
  {
   "metadata": {
    "ExecuteTime": {
     "end_time": "2025-05-31T12:53:01.399165Z",
     "start_time": "2025-05-31T12:53:01.223387Z"
    }
   },
   "cell_type": "code",
   "source": [
    "\n",
    "df = load_processed_data()\n",
    "df = df[df[\"Target\"].isin([\"Graduate\", \"Dropout\"])]\n",
    "df[\"y\"] = (df[\"Target\"] == \"Graduate\").astype(int)\n",
    "df = df.drop(columns=[\"Target\", \"Target encoded\"], errors='ignore')"
   ],
   "id": "2b1b7ae7b8475858",
   "outputs": [],
   "execution_count": 12
  },
  {
   "metadata": {
    "ExecuteTime": {
     "end_time": "2025-05-31T12:53:01.499299Z",
     "start_time": "2025-05-31T12:53:01.489409Z"
    }
   },
   "cell_type": "code",
   "source": [
    "X = df.drop(columns=[\"y\"])\n",
    "y = df[\"y\"].values"
   ],
   "id": "c5b948b62fa9daf4",
   "outputs": [],
   "execution_count": 13
  },
  {
   "metadata": {
    "ExecuteTime": {
     "end_time": "2025-05-31T12:53:01.593396Z",
     "start_time": "2025-05-31T12:53:01.586980Z"
    }
   },
   "cell_type": "code",
   "source": [
    "num_features = [c for c in numeric_features if c in X.columns]\n",
    "cat_features = [c for c in categorical_features if c in X.columns]"
   ],
   "id": "d090a12c168e7af",
   "outputs": [],
   "execution_count": 14
  },
  {
   "metadata": {
    "ExecuteTime": {
     "end_time": "2025-05-31T12:53:01.602801Z",
     "start_time": "2025-05-31T12:53:01.599757Z"
    }
   },
   "cell_type": "code",
   "source": [
    "num_pipeline = Pipeline([\n",
    "    (\"imputer\", SimpleImputer(strategy=\"mean\")),\n",
    "    (\"scaler\", StandardScaler())\n",
    "])"
   ],
   "id": "41cf71974728f833",
   "outputs": [],
   "execution_count": 15
  },
  {
   "metadata": {
    "ExecuteTime": {
     "end_time": "2025-05-31T12:53:01.691682Z",
     "start_time": "2025-05-31T12:53:01.688221Z"
    }
   },
   "cell_type": "code",
   "source": [
    "cat_pipeline = Pipeline([\n",
    "    (\"imputer\", SimpleImputer(strategy=\"most_frequent\")),\n",
    "    (\"encoder\", OneHotEncoder(handle_unknown=\"ignore\"))\n",
    "])"
   ],
   "id": "5ab0f40c5a26950c",
   "outputs": [],
   "execution_count": 16
  },
  {
   "metadata": {
    "ExecuteTime": {
     "end_time": "2025-05-31T12:53:01.740435Z",
     "start_time": "2025-05-31T12:53:01.737341Z"
    }
   },
   "cell_type": "code",
   "source": [
    "full_pipeline = ColumnTransformer([\n",
    "    (\"num\", num_pipeline, num_features),\n",
    "    (\"cat\", cat_pipeline, cat_features)\n",
    "])"
   ],
   "id": "c0a403081ce9a113",
   "outputs": [],
   "execution_count": 17
  },
  {
   "metadata": {
    "ExecuteTime": {
     "end_time": "2025-05-31T12:53:01.838170Z",
     "start_time": "2025-05-31T12:53:01.750239Z"
    }
   },
   "cell_type": "code",
   "source": [
    "X_train_raw, X_val_raw, X_test_raw, y_train, y_val, y_test = load_train_with_validation_data(X, y)\n",
    "X_train = full_pipeline.fit_transform(X_train_raw)\n",
    "X_test = full_pipeline.transform(X_test_raw)\n",
    "X_val = full_pipeline.transform(X_val_raw)"
   ],
   "id": "6aebfd4ae1e6b98a",
   "outputs": [],
   "execution_count": 18
  },
  {
   "metadata": {
    "ExecuteTime": {
     "end_time": "2025-05-31T12:53:02.743210Z",
     "start_time": "2025-05-31T12:53:01.879706Z"
    }
   },
   "cell_type": "code",
   "source": [
    "log_clf = LogisticRegression(max_iter=1000)\n",
    "rf_clf = RandomForestClassifier()\n",
    "\n",
    "voting  = VotingClassifier(\n",
    "    estimators=[\n",
    "        ('logreg', log_clf),\n",
    "        ('rf', rf_clf),\n",
    "    ],\n",
    "    voting='soft'\n",
    ")\n",
    "\n",
    "voting.fit(X_train, y_train)\n",
    "y_pred_voting = voting.predict(X_test)\n",
    "\n",
    "stacking  = StackingClassifier(\n",
    "    estimators=[\n",
    "        ('logreg', log_clf),\n",
    "        ('rf', rf_clf),\n",
    "    ],\n",
    "    final_estimator=LogisticRegression(max_iter=1000)\n",
    ")"
   ],
   "id": "93226ed753b8a6a0",
   "outputs": [],
   "execution_count": 19
  },
  {
   "metadata": {
    "ExecuteTime": {
     "end_time": "2025-05-31T12:53:07.043181Z",
     "start_time": "2025-05-31T12:53:02.823064Z"
    }
   },
   "cell_type": "code",
   "source": [
    "from sklearn.metrics import classification_report\n",
    "\n",
    "stacking .fit(X_train, y_train)\n",
    "y_pred_stacking = stacking.predict(X_test)\n",
    "\n",
    "def evaluate_model(name, y_true, y_pred):\n",
    "    print(f\"\\n{name} Results\")\n",
    "    print(classification_report(y_true, y_pred, digits=4))\n",
    "\n",
    "evaluate_model(\"VotingClassifier\", y_test, y_pred_voting)\n",
    "evaluate_model(\"StackingClassifier\", y_test, y_pred_stacking)"
   ],
   "id": "e0d52ecb0fbf3452",
   "outputs": [
    {
     "name": "stdout",
     "output_type": "stream",
     "text": [
      "\n",
      "VotingClassifier Results\n",
      "              precision    recall  f1-score   support\n",
      "\n",
      "           0     0.9321    0.8697    0.8998       284\n",
      "           1     0.9199    0.9594    0.9392       443\n",
      "\n",
      "    accuracy                         0.9243       727\n",
      "   macro avg     0.9260    0.9145    0.9195       727\n",
      "weighted avg     0.9247    0.9243    0.9238       727\n",
      "\n",
      "\n",
      "StackingClassifier Results\n",
      "              precision    recall  f1-score   support\n",
      "\n",
      "           0     0.9231    0.8873    0.9048       284\n",
      "           1     0.9295    0.9526    0.9409       443\n",
      "\n",
      "    accuracy                         0.9271       727\n",
      "   macro avg     0.9263    0.9200    0.9229       727\n",
      "weighted avg     0.9270    0.9271    0.9268       727\n",
      "\n"
     ]
    }
   ],
   "execution_count": 20
  }
 ],
 "metadata": {
  "kernelspec": {
   "display_name": "Python 3",
   "language": "python",
   "name": "python3"
  },
  "language_info": {
   "codemirror_mode": {
    "name": "ipython",
    "version": 2
   },
   "file_extension": ".py",
   "mimetype": "text/x-python",
   "name": "python",
   "nbconvert_exporter": "python",
   "pygments_lexer": "ipython2",
   "version": "2.7.6"
  }
 },
 "nbformat": 4,
 "nbformat_minor": 5
}
