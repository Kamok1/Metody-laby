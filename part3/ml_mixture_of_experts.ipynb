{
 "cells": [
  {
   "metadata": {
    "ExecuteTime": {
     "end_time": "2025-05-31T12:54:05.165105Z",
     "start_time": "2025-05-31T12:54:05.161582Z"
    }
   },
   "cell_type": "code",
   "source": [
    "from sklearn.ensemble import RandomForestClassifier\n",
    "from sklearn.pipeline import Pipeline\n",
    "from sklearn.compose import ColumnTransformer\n",
    "from sklearn.preprocessing import StandardScaler, OneHotEncoder\n",
    "from sklearn.impute import SimpleImputer\n",
    "from constants import numeric_features, categorical_features\n",
    "from part2.shared import load_processed_data\n",
    "from part3.Mixture import SimpleMixtureOfExperts\n",
    "from sklearn.linear_model import LogisticRegression\n",
    "from sklearn.metrics import classification_report\n",
    "from part2.shared import load_train_with_validation_data"
   ],
   "id": "1499ce0c62a60df1",
   "outputs": [],
   "execution_count": 67
  },
  {
   "metadata": {
    "ExecuteTime": {
     "end_time": "2025-05-31T12:54:05.198448Z",
     "start_time": "2025-05-31T12:54:05.169527Z"
    }
   },
   "cell_type": "code",
   "source": [
    "\n",
    "df = load_processed_data()\n",
    "df = df[df[\"Target\"].isin([\"Graduate\", \"Dropout\"])]\n",
    "df[\"y\"] = (df[\"Target\"] == \"Graduate\").astype(int)\n",
    "df = df.drop(columns=[\"Target\", \"Target encoded\"], errors='ignore')"
   ],
   "id": "e7837b770571fdb0",
   "outputs": [],
   "execution_count": 68
  },
  {
   "metadata": {
    "ExecuteTime": {
     "end_time": "2025-05-31T12:54:05.241125Z",
     "start_time": "2025-05-31T12:54:05.235323Z"
    }
   },
   "cell_type": "code",
   "source": [
    "X = df.drop(columns=[\"y\"])\n",
    "y = df[\"y\"].values"
   ],
   "id": "8767381f8a6c8f8b",
   "outputs": [],
   "execution_count": 69
  },
  {
   "metadata": {
    "ExecuteTime": {
     "end_time": "2025-05-31T12:54:05.281593Z",
     "start_time": "2025-05-31T12:54:05.278446Z"
    }
   },
   "cell_type": "code",
   "source": [
    "num_features = [c for c in numeric_features if c in X.columns]\n",
    "cat_features = [c for c in categorical_features if c in X.columns]"
   ],
   "id": "efbf2838cefb2c5",
   "outputs": [],
   "execution_count": 70
  },
  {
   "metadata": {
    "ExecuteTime": {
     "end_time": "2025-05-31T12:54:05.322837Z",
     "start_time": "2025-05-31T12:54:05.320205Z"
    }
   },
   "cell_type": "code",
   "source": [
    "num_pipeline = Pipeline([\n",
    "    (\"imputer\", SimpleImputer(strategy=\"mean\")),\n",
    "    (\"scaler\", StandardScaler())\n",
    "])"
   ],
   "id": "2eacd443c46dcfa",
   "outputs": [],
   "execution_count": 71
  },
  {
   "metadata": {
    "ExecuteTime": {
     "end_time": "2025-05-31T12:54:05.363926Z",
     "start_time": "2025-05-31T12:54:05.361460Z"
    }
   },
   "cell_type": "code",
   "source": [
    "cat_pipeline = Pipeline([\n",
    "    (\"imputer\", SimpleImputer(strategy=\"most_frequent\")),\n",
    "    (\"encoder\", OneHotEncoder(handle_unknown=\"ignore\"))\n",
    "])"
   ],
   "id": "15a8283912cc8bda",
   "outputs": [],
   "execution_count": 72
  },
  {
   "metadata": {
    "ExecuteTime": {
     "end_time": "2025-05-31T12:54:05.440675Z",
     "start_time": "2025-05-31T12:54:05.437473Z"
    }
   },
   "cell_type": "code",
   "source": [
    "full_pipeline = ColumnTransformer([\n",
    "    (\"num\", num_pipeline, num_features),\n",
    "    (\"cat\", cat_pipeline, cat_features)\n",
    "])"
   ],
   "id": "ad508cab568ac4b2",
   "outputs": [],
   "execution_count": 73
  },
  {
   "metadata": {
    "ExecuteTime": {
     "end_time": "2025-05-31T12:54:05.506361Z",
     "start_time": "2025-05-31T12:54:05.448413Z"
    }
   },
   "cell_type": "code",
   "source": [
    "X_train_raw, X_val_raw, X_test_raw, y_train, y_val, y_test = load_train_with_validation_data(X, y)\n",
    "X_train = full_pipeline.fit_transform(X_train_raw)\n",
    "X_test = full_pipeline.transform(X_test_raw)\n",
    "X_val = full_pipeline.transform(X_val_raw)"
   ],
   "id": "ad0617e7bcb4641f",
   "outputs": [],
   "execution_count": 74
  },
  {
   "metadata": {
    "ExecuteTime": {
     "end_time": "2025-05-31T12:54:06.211959Z",
     "start_time": "2025-05-31T12:54:05.550604Z"
    }
   },
   "cell_type": "code",
   "source": [
    "from sklearn.svm import SVC\n",
    "\n",
    "experts = [LogisticRegression(max_iter=1000), RandomForestClassifier(), SVC(kernel='linear', probability=True)]\n",
    "moe = SimpleMixtureOfExperts(experts=experts)\n",
    "\n",
    "moe.fit(X_train, y_train)\n",
    "y_pred = moe.predict(X_test)\n",
    "\n",
    "print(classification_report(y_test, y_pred, digits=4))"
   ],
   "id": "69a67f48aee950c3",
   "outputs": [
    {
     "name": "stdout",
     "output_type": "stream",
     "text": [
      "              precision    recall  f1-score   support\n",
      "\n",
      "           0     0.9074    0.8627    0.8845       284\n",
      "           1     0.9147    0.9436    0.9289       443\n",
      "\n",
      "    accuracy                         0.9120       727\n",
      "   macro avg     0.9110    0.9031    0.9067       727\n",
      "weighted avg     0.9118    0.9120    0.9115       727\n",
      "\n"
     ]
    }
   ],
   "execution_count": 75
  },
  {
   "metadata": {
    "ExecuteTime": {
     "end_time": "2025-05-31T12:54:06.293326Z",
     "start_time": "2025-05-31T12:54:06.251062Z"
    }
   },
   "cell_type": "code",
   "source": [
    "logistic = LogisticRegression(max_iter=1000)\n",
    "logistic.fit(X_train, y_train)\n",
    "y_pred_logistic = logistic.predict(X_test)\n",
    "print(\"Logistic Regression Metrics:\")\n",
    "print(classification_report(y_test, y_pred_logistic, digits=4))"
   ],
   "id": "ff9dace69a996966",
   "outputs": [
    {
     "name": "stdout",
     "output_type": "stream",
     "text": [
      "Logistic Regression Metrics:\n",
      "              precision    recall  f1-score   support\n",
      "\n",
      "           0     0.9135    0.8556    0.8836       284\n",
      "           1     0.9111    0.9481    0.9292       443\n",
      "\n",
      "    accuracy                         0.9120       727\n",
      "   macro avg     0.9123    0.9019    0.9064       727\n",
      "weighted avg     0.9120    0.9120    0.9114       727\n",
      "\n"
     ]
    }
   ],
   "execution_count": 76
  },
  {
   "metadata": {
    "ExecuteTime": {
     "end_time": "2025-05-31T12:54:07.167222Z",
     "start_time": "2025-05-31T12:54:06.330607Z"
    }
   },
   "cell_type": "code",
   "source": [
    "randomForest = RandomForestClassifier()\n",
    "randomForest.fit(X_train, y_train)\n",
    "y_pred_rf = randomForest.predict(X_test)\n",
    "print(\"Random Forest Metrics:\")\n",
    "print(classification_report(y_test, y_pred_rf, digits=4))"
   ],
   "id": "4c88e7b691e79ab4",
   "outputs": [
    {
     "name": "stdout",
     "output_type": "stream",
     "text": [
      "Random Forest Metrics:\n",
      "              precision    recall  f1-score   support\n",
      "\n",
      "           0     0.9453    0.8521    0.8963       284\n",
      "           1     0.9108    0.9684    0.9387       443\n",
      "\n",
      "    accuracy                         0.9230       727\n",
      "   macro avg     0.9281    0.9103    0.9175       727\n",
      "weighted avg     0.9243    0.9230    0.9222       727\n",
      "\n"
     ]
    }
   ],
   "execution_count": 77
  },
  {
   "metadata": {
    "ExecuteTime": {
     "end_time": "2025-05-31T12:54:08.791417Z",
     "start_time": "2025-05-31T12:54:07.207589Z"
    }
   },
   "cell_type": "code",
   "source": [
    "svc = SVC(kernel='linear', probability=True)\n",
    "svc.fit(X_train, y_train)\n",
    "y_pred_svc = svc.predict(X_test)\n",
    "print(\"SVC Metrics:\")\n",
    "print(classification_report(y_test, y_pred_svc, digits=4))"
   ],
   "id": "fa081f090d3c8c79",
   "outputs": [
    {
     "name": "stdout",
     "output_type": "stream",
     "text": [
      "SVC Metrics:\n",
      "              precision    recall  f1-score   support\n",
      "\n",
      "           0     0.9225    0.8380    0.8782       284\n",
      "           1     0.9019    0.9549    0.9276       443\n",
      "\n",
      "    accuracy                         0.9092       727\n",
      "   macro avg     0.9122    0.8964    0.9029       727\n",
      "weighted avg     0.9100    0.9092    0.9083       727\n",
      "\n"
     ]
    }
   ],
   "execution_count": 78
  }
 ],
 "metadata": {
  "kernelspec": {
   "display_name": "Python 3",
   "language": "python",
   "name": "python3"
  },
  "language_info": {
   "codemirror_mode": {
    "name": "ipython",
    "version": 2
   },
   "file_extension": ".py",
   "mimetype": "text/x-python",
   "name": "python",
   "nbconvert_exporter": "python",
   "pygments_lexer": "ipython2",
   "version": "2.7.6"
  }
 },
 "nbformat": 4,
 "nbformat_minor": 5
}
