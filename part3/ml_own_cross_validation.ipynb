{
 "cells": [
  {
   "metadata": {
    "ExecuteTime": {
     "end_time": "2025-05-30T16:15:11.153349Z",
     "start_time": "2025-05-30T16:15:11.149809Z"
    }
   },
   "cell_type": "code",
   "source": [
    "import numpy as np\n",
    "from sklearn.pipeline import Pipeline\n",
    "from sklearn.compose import ColumnTransformer\n",
    "from sklearn.preprocessing import StandardScaler, OneHotEncoder\n",
    "from sklearn.impute import SimpleImputer\n",
    "from sklearn.metrics import accuracy_score, f1_score, roc_auc_score\n",
    "from constants import numeric_features, categorical_features\n",
    "from part2.shared import load_processed_data\n",
    "from sklearn.model_selection import KFold\n"
   ],
   "id": "1499ce0c62a60df1",
   "outputs": [],
   "execution_count": 37
  },
  {
   "metadata": {
    "ExecuteTime": {
     "end_time": "2025-05-30T16:15:11.229289Z",
     "start_time": "2025-05-30T16:15:11.226737Z"
    }
   },
   "cell_type": "code",
   "source": "NUMBER_OF_EPOCHS = 250",
   "id": "ce4420dd5bc3e003",
   "outputs": [],
   "execution_count": 38
  },
  {
   "metadata": {
    "ExecuteTime": {
     "end_time": "2025-05-30T16:15:11.267427Z",
     "start_time": "2025-05-30T16:15:11.236984Z"
    }
   },
   "cell_type": "code",
   "source": [
    "\n",
    "df = load_processed_data()\n",
    "df = df[df[\"Target\"].isin([\"Graduate\", \"Dropout\"])]\n",
    "df[\"y\"] = (df[\"Target\"] == \"Graduate\").astype(int)\n",
    "df = df.drop(columns=[\"Target\", \"Target encoded\"], errors='ignore')"
   ],
   "id": "e7837b770571fdb0",
   "outputs": [],
   "execution_count": 39
  },
  {
   "metadata": {
    "ExecuteTime": {
     "end_time": "2025-05-30T16:15:11.323831Z",
     "start_time": "2025-05-30T16:15:11.317554Z"
    }
   },
   "cell_type": "code",
   "source": [
    "X = df.drop(columns=[\"y\"])\n",
    "y = df[\"y\"].values"
   ],
   "id": "8767381f8a6c8f8b",
   "outputs": [],
   "execution_count": 40
  },
  {
   "metadata": {
    "ExecuteTime": {
     "end_time": "2025-05-30T16:15:11.425858Z",
     "start_time": "2025-05-30T16:15:11.422567Z"
    }
   },
   "cell_type": "code",
   "source": [
    "num_features = [c for c in numeric_features if c in X.columns]\n",
    "cat_features = [c for c in categorical_features if c in X.columns]"
   ],
   "id": "efbf2838cefb2c5",
   "outputs": [],
   "execution_count": 41
  },
  {
   "metadata": {
    "ExecuteTime": {
     "end_time": "2025-05-30T16:15:11.436921Z",
     "start_time": "2025-05-30T16:15:11.433099Z"
    }
   },
   "cell_type": "code",
   "source": [
    "num_pipeline = Pipeline([\n",
    "    (\"imputer\", SimpleImputer(strategy=\"mean\")),\n",
    "    (\"scaler\", StandardScaler())\n",
    "])"
   ],
   "id": "2eacd443c46dcfa",
   "outputs": [],
   "execution_count": 42
  },
  {
   "metadata": {
    "ExecuteTime": {
     "end_time": "2025-05-30T16:15:11.502782Z",
     "start_time": "2025-05-30T16:15:11.499743Z"
    }
   },
   "cell_type": "code",
   "source": [
    "cat_pipeline = Pipeline([\n",
    "    (\"imputer\", SimpleImputer(strategy=\"most_frequent\")),\n",
    "    (\"encoder\", OneHotEncoder(handle_unknown=\"ignore\"))\n",
    "])"
   ],
   "id": "15a8283912cc8bda",
   "outputs": [],
   "execution_count": 43
  },
  {
   "metadata": {
    "ExecuteTime": {
     "end_time": "2025-05-30T16:15:11.560036Z",
     "start_time": "2025-05-30T16:15:11.556454Z"
    }
   },
   "cell_type": "code",
   "source": [
    "full_pipeline = ColumnTransformer([\n",
    "    (\"num\", num_pipeline, num_features),\n",
    "    (\"cat\", cat_pipeline, cat_features)\n",
    "])"
   ],
   "id": "ad508cab568ac4b2",
   "outputs": [],
   "execution_count": 44
  },
  {
   "metadata": {
    "ExecuteTime": {
     "end_time": "2025-05-30T16:15:11.676163Z",
     "start_time": "2025-05-30T16:15:11.673144Z"
    }
   },
   "cell_type": "code",
   "source": [
    "def sigmoid(z: np.ndarray) -> np.ndarray:\n",
    "    return 1.0 / (1.0 + np.exp(-z))"
   ],
   "id": "bb20c47ee07a71df",
   "outputs": [],
   "execution_count": 45
  },
  {
   "metadata": {},
   "cell_type": "markdown",
   "source": [
    "$$\n",
    "\\sigma(z) = \\frac{1}{1 + e^{-z}}\n",
    "$$"
   ],
   "id": "abba4d1d8bbe85c9"
  },
  {
   "metadata": {
    "ExecuteTime": {
     "end_time": "2025-05-30T16:15:11.685730Z",
     "start_time": "2025-05-30T16:15:11.682512Z"
    }
   },
   "cell_type": "code",
   "source": [
    "def cross_entropy(y_true, y_prob):\n",
    "    eps = 1e-15\n",
    "    y_prob = np.clip(y_prob, eps, 1 - eps) # Avoid log(0)\n",
    "    return -np.mean(y_true * np.log(y_prob) + (1 - y_true) * np.log(1 - y_prob))\n",
    "#average cross entropy loss"
   ],
   "id": "77d9a7b67afd83a8",
   "outputs": [],
   "execution_count": 46
  },
  {
   "metadata": {},
   "cell_type": "markdown",
   "source": [
    "$$\n",
    "\\mathcal{L} = -\\frac{1}{m} \\sum_{i=1}^{m} \\left[ y^{(i)} \\log(\\hat{y}^{(i)}) + (1 - y^{(i)}) \\log(1 - \\hat{y}^{(i)}) \\right]\n",
    "$$"
   ],
   "id": "7b7cd1af9453571e"
  },
  {
   "metadata": {
    "ExecuteTime": {
     "end_time": "2025-05-30T16:15:11.739236Z",
     "start_time": "2025-05-30T16:15:11.733891Z"
    }
   },
   "cell_type": "code",
   "source": [
    "def logistic_gd(X, y, lr=0.05, epochs=NUMBER_OF_EPOCHS, batch_size=64, lambda_l2=0.001, seed=0):\n",
    "    m, n = X.shape\n",
    "    rng = np.random.default_rng(seed)\n",
    "    w = rng.normal(scale=0.01, size=n)\n",
    "    b = 0.0\n",
    "    history = []\n",
    "\n",
    "    for ep in range(epochs):\n",
    "        idx = rng.permutation(m)\n",
    "        for start in range(0, m, batch_size):\n",
    "            ii = idx[start:start + batch_size]\n",
    "            Xb, yb = X[ii], y[ii]\n",
    "            p = sigmoid(Xb @ w + b) #probabilities\n",
    "            error = p - yb\n",
    "            grad_w = (Xb.T @ error) / len(yb) + lambda_l2 * w # L2 regularization to avoid overfitting\n",
    "            grad_b = error.mean()\n",
    "            w -= lr * grad_w # update weights\n",
    "            b -= lr * grad_b # update bias\n",
    "\n",
    "        p_all = sigmoid(X @ w + b)\n",
    "        loss = cross_entropy(y, p_all)\n",
    "        history.append(loss)\n",
    "\n",
    "        if (ep + 1) % 20 == 0 or ep == 0:\n",
    "            pred = (p_all >= 0.5).astype(int)\n",
    "            acc = (pred == y).mean()\n",
    "            print(f\"Epoch {ep+1:3d}/{epochs}  |  loss={loss:.4f}  |  acc={acc:.3f}\")\n",
    "\n",
    "    return w, b, history"
   ],
   "id": "17bf95d08f0e02fa",
   "outputs": [],
   "execution_count": 47
  },
  {
   "metadata": {
    "ExecuteTime": {
     "end_time": "2025-05-30T16:15:13.344972Z",
     "start_time": "2025-05-30T16:15:11.839746Z"
    }
   },
   "cell_type": "code",
   "source": [
    "from sklearn.model_selection import StratifiedKFold, train_test_split, StratifiedShuffleSplit\n",
    "from sklearn.metrics import (accuracy_score,\n",
    "                             precision_recall_fscore_support)\n",
    "import numpy as np\n",
    "\n",
    "kf_outer = StratifiedKFold(n_splits=3, shuffle=True, random_state=1)\n",
    "fold_results = []\n",
    "\n",
    "for fold, (train_val_idx, test_idx) in enumerate(kf_outer.split(X, y), 1):\n",
    "    X_train_val_raw, X_test_raw = X.iloc[train_val_idx], X.iloc[test_idx]\n",
    "    y_train_val,  y_test        = y[train_val_idx], y[test_idx]\n",
    "\n",
    "    X_tr_raw, X_val_raw, y_tr, y_val = train_test_split(\n",
    "        X_train_val_raw, y_train_val,\n",
    "        test_size=0.20, stratify=y_train_val, random_state=fold\n",
    "    )\n",
    "\n",
    "\n",
    "    X_tr  = full_pipeline.fit_transform(X_tr_raw).toarray()\n",
    "    X_val = full_pipeline.transform(X_val_raw).toarray()\n",
    "    X_tst = full_pipeline.transform(X_test_raw).toarray()\n",
    "    X_tr  = np.hstack([np.ones((X_tr.shape[0], 1)),  X_tr])\n",
    "    X_val  = np.hstack([np.ones((X_val.shape[0], 1)),  X_val])\n",
    "    X_tst  = np.hstack([np.ones((X_tst.shape[0], 1)),  X_tst])\n",
    "\n",
    "    w, b, hist = logistic_gd(X_tr, y_tr)\n",
    "\n",
    "    val_probs = sigmoid(X_val @ w + b)\n",
    "    y_val_pred = (val_probs >= 0.5).astype(int)\n",
    "    val_acc  = accuracy_score(y_val, y_val_pred)\n",
    "\n",
    "    tst_probs = sigmoid(X_tst @ w + b)\n",
    "    y_tst_pred = (tst_probs >= 0.5).astype(int)\n",
    "\n",
    "    tst_acc = accuracy_score(y_test, y_tst_pred)\n",
    "    prec, rec, f1, _ = precision_recall_fscore_support(\n",
    "        y_test, y_tst_pred, average=\"binary\", zero_division=0\n",
    "    )\n",
    "\n",
    "    fold_results.append({\"fold\": fold,\n",
    "                         \"val_acc\": val_acc,\n",
    "                         \"test_acc\": tst_acc,\n",
    "                         \"precision\": prec,\n",
    "                         \"recall\": rec,\n",
    "                         \"f1\": f1})\n",
    "\n",
    "    print(f\"Fold {fold}:  val_acc={val_acc:.3f} | \"\n",
    "          f\"test_acc={tst_acc:.3f}  prec={prec:.3f}  \"\n",
    "          f\"rec={rec:.3f}  f1={f1:.3f}\")\n",
    "\n"
   ],
   "id": "69a67f48aee950c3",
   "outputs": [
    {
     "name": "stdout",
     "output_type": "stream",
     "text": [
      "Epoch   1/250  |  loss=0.4328  |  acc=0.825\n",
      "Epoch  20/250  |  loss=0.2501  |  acc=0.910\n",
      "Epoch  40/250  |  loss=0.2292  |  acc=0.918\n",
      "Epoch  60/250  |  loss=0.2194  |  acc=0.921\n",
      "Epoch  80/250  |  loss=0.2142  |  acc=0.924\n",
      "Epoch 100/250  |  loss=0.2107  |  acc=0.924\n",
      "Epoch 120/250  |  loss=0.2083  |  acc=0.926\n",
      "Epoch 140/250  |  loss=0.2064  |  acc=0.926\n",
      "Epoch 160/250  |  loss=0.2052  |  acc=0.926\n",
      "Epoch 180/250  |  loss=0.2040  |  acc=0.925\n",
      "Epoch 200/250  |  loss=0.2032  |  acc=0.926\n",
      "Epoch 220/250  |  loss=0.2025  |  acc=0.927\n",
      "Epoch 240/250  |  loss=0.2019  |  acc=0.927\n",
      "Fold 1:  val_acc=0.917 | test_acc=0.908  prec=0.898  rec=0.958  f1=0.927\n",
      "Epoch   1/250  |  loss=0.4370  |  acc=0.818\n",
      "Epoch  20/250  |  loss=0.2548  |  acc=0.906\n",
      "Epoch  40/250  |  loss=0.2329  |  acc=0.914\n",
      "Epoch  60/250  |  loss=0.2229  |  acc=0.920\n",
      "Epoch  80/250  |  loss=0.2170  |  acc=0.922\n",
      "Epoch 100/250  |  loss=0.2131  |  acc=0.921\n",
      "Epoch 120/250  |  loss=0.2104  |  acc=0.923\n",
      "Epoch 140/250  |  loss=0.2082  |  acc=0.924\n",
      "Epoch 160/250  |  loss=0.2066  |  acc=0.923\n",
      "Epoch 180/250  |  loss=0.2055  |  acc=0.924\n",
      "Epoch 200/250  |  loss=0.2041  |  acc=0.923\n",
      "Epoch 220/250  |  loss=0.2032  |  acc=0.922\n",
      "Epoch 240/250  |  loss=0.2024  |  acc=0.923\n",
      "Fold 2:  val_acc=0.915 | test_acc=0.904  prec=0.897  rec=0.951  f1=0.923\n",
      "Epoch   1/250  |  loss=0.4246  |  acc=0.833\n",
      "Epoch  20/250  |  loss=0.2543  |  acc=0.908\n",
      "Epoch  40/250  |  loss=0.2361  |  acc=0.915\n",
      "Epoch  60/250  |  loss=0.2283  |  acc=0.918\n",
      "Epoch  80/250  |  loss=0.2237  |  acc=0.918\n",
      "Epoch 100/250  |  loss=0.2207  |  acc=0.917\n",
      "Epoch 120/250  |  loss=0.2186  |  acc=0.918\n",
      "Epoch 140/250  |  loss=0.2170  |  acc=0.917\n",
      "Epoch 160/250  |  loss=0.2157  |  acc=0.918\n",
      "Epoch 180/250  |  loss=0.2147  |  acc=0.918\n",
      "Epoch 200/250  |  loss=0.2140  |  acc=0.918\n",
      "Epoch 220/250  |  loss=0.2132  |  acc=0.918\n",
      "Epoch 240/250  |  loss=0.2126  |  acc=0.917\n",
      "Fold 3:  val_acc=0.909 | test_acc=0.908  prec=0.899  rec=0.957  f1=0.927\n"
     ]
    }
   ],
   "execution_count": 48
  }
 ],
 "metadata": {
  "kernelspec": {
   "display_name": "Python 3",
   "language": "python",
   "name": "python3"
  },
  "language_info": {
   "codemirror_mode": {
    "name": "ipython",
    "version": 2
   },
   "file_extension": ".py",
   "mimetype": "text/x-python",
   "name": "python",
   "nbconvert_exporter": "python",
   "pygments_lexer": "ipython2",
   "version": "2.7.6"
  }
 },
 "nbformat": 4,
 "nbformat_minor": 5
}
