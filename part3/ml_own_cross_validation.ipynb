{
 "cells": [
  {
   "metadata": {
    "ExecuteTime": {
     "end_time": "2025-06-03T15:12:54.339172Z",
     "start_time": "2025-06-03T15:12:54.336181Z"
    }
   },
   "cell_type": "code",
   "source": [
    "from sklearn.pipeline import Pipeline\n",
    "from sklearn.compose import ColumnTransformer\n",
    "from sklearn.preprocessing import StandardScaler, OneHotEncoder\n",
    "from sklearn.impute import SimpleImputer\n",
    "from constants import numeric_features, categorical_features\n",
    "from part2.shared import load_processed_data\n",
    "from sklearn.model_selection import StratifiedKFold, train_test_split\n",
    "from sklearn.metrics import precision_recall_fscore_support\n",
    "from Logistic import CustomLogisticRegression"
   ],
   "id": "1499ce0c62a60df1",
   "outputs": [],
   "execution_count": 28
  },
  {
   "metadata": {
    "ExecuteTime": {
     "end_time": "2025-06-03T15:12:54.345476Z",
     "start_time": "2025-06-03T15:12:54.343310Z"
    }
   },
   "cell_type": "code",
   "source": "NUMBER_OF_EPOCHS = 250",
   "id": "ce4420dd5bc3e003",
   "outputs": [],
   "execution_count": 29
  },
  {
   "metadata": {
    "ExecuteTime": {
     "end_time": "2025-06-03T15:12:54.415191Z",
     "start_time": "2025-06-03T15:12:54.386524Z"
    }
   },
   "cell_type": "code",
   "source": [
    "\n",
    "df = load_processed_data()\n",
    "df = df[df[\"Target\"].isin([\"Graduate\", \"Dropout\"])]\n",
    "df[\"y\"] = (df[\"Target\"] == \"Graduate\").astype(int)\n",
    "df = df.drop(columns=[\"Target\", \"Target encoded\"], errors='ignore')"
   ],
   "id": "e7837b770571fdb0",
   "outputs": [],
   "execution_count": 30
  },
  {
   "metadata": {
    "ExecuteTime": {
     "end_time": "2025-06-03T15:12:54.459205Z",
     "start_time": "2025-06-03T15:12:54.454768Z"
    }
   },
   "cell_type": "code",
   "source": [
    "X = df.drop(columns=[\"y\"])\n",
    "y = df[\"y\"].values"
   ],
   "id": "8767381f8a6c8f8b",
   "outputs": [],
   "execution_count": 31
  },
  {
   "metadata": {
    "ExecuteTime": {
     "end_time": "2025-06-03T15:12:54.538993Z",
     "start_time": "2025-06-03T15:12:54.536112Z"
    }
   },
   "cell_type": "code",
   "source": [
    "num_features = [c for c in numeric_features if c in X.columns]\n",
    "cat_features = [c for c in categorical_features if c in X.columns]"
   ],
   "id": "efbf2838cefb2c5",
   "outputs": [],
   "execution_count": 32
  },
  {
   "metadata": {
    "ExecuteTime": {
     "end_time": "2025-06-03T15:12:54.588349Z",
     "start_time": "2025-06-03T15:12:54.585509Z"
    }
   },
   "cell_type": "code",
   "source": [
    "num_pipeline = Pipeline([\n",
    "    (\"imputer\", SimpleImputer(strategy=\"mean\")),\n",
    "    (\"scaler\", StandardScaler())\n",
    "])"
   ],
   "id": "2eacd443c46dcfa",
   "outputs": [],
   "execution_count": 33
  },
  {
   "metadata": {
    "ExecuteTime": {
     "end_time": "2025-06-03T15:12:54.599675Z",
     "start_time": "2025-06-03T15:12:54.597163Z"
    }
   },
   "cell_type": "code",
   "source": [
    "cat_pipeline = Pipeline([\n",
    "    (\"imputer\", SimpleImputer(strategy=\"most_frequent\")),\n",
    "    (\"encoder\", OneHotEncoder(handle_unknown=\"ignore\"))\n",
    "])"
   ],
   "id": "15a8283912cc8bda",
   "outputs": [],
   "execution_count": 34
  },
  {
   "metadata": {
    "ExecuteTime": {
     "end_time": "2025-06-03T15:12:54.689106Z",
     "start_time": "2025-06-03T15:12:54.686467Z"
    }
   },
   "cell_type": "code",
   "source": [
    "full_pipeline = ColumnTransformer([\n",
    "    (\"num\", num_pipeline, num_features),\n",
    "    (\"cat\", cat_pipeline, cat_features)\n",
    "])"
   ],
   "id": "ad508cab568ac4b2",
   "outputs": [],
   "execution_count": 35
  },
  {
   "metadata": {
    "ExecuteTime": {
     "end_time": "2025-06-03T15:12:58.177857Z",
     "start_time": "2025-06-03T15:12:54.738295Z"
    }
   },
   "cell_type": "code",
   "source": [
    "kf_outer = StratifiedKFold(n_splits=3, shuffle=True, random_state=1)\n",
    "fold_results = []\n",
    "\n",
    "for fold, (train_val_idx, test_idx) in enumerate(kf_outer.split(X, y), 1):\n",
    "    X_train_val_raw, X_test_raw = X.iloc[train_val_idx], X.iloc[test_idx]\n",
    "    y_train_val, y_test = y[train_val_idx], y[test_idx]\n",
    "\n",
    "    X_train_raw, X_val_raw, y_train, y_val = train_test_split(X_train_val_raw, y_train_val,\n",
    "        test_size=0.20, stratify=y_train_val, random_state=fold\n",
    "    )\n",
    "\n",
    "    X_train = full_pipeline.fit_transform(X_train_raw)\n",
    "    X_val = full_pipeline.transform(X_val_raw)\n",
    "    X_test = full_pipeline.transform(X_test_raw)\n",
    "\n",
    "    model = CustomLogisticRegression(lr=0.05, epochs=250,batch_size=64)\n",
    "\n",
    "    model.fit(X_train, y_train, X_val, y_val, X_test, y_test)\n",
    "    train_acc = model.score(X_train, y_train)\n",
    "    val_acc = model.score(X_val, y_val)\n",
    "    y_tst_pred = model.predict(X_test)\n",
    "    tst_acc = model.score(X_test, y_test)\n",
    "    prec, rec, f1, _ = precision_recall_fscore_support(y_test, y_tst_pred, average=\"binary\")\n",
    "\n",
    "    print(f\"Fold {fold}:  train_acc={train_acc:.3f} | val_acc={val_acc:.3f} | \"\n",
    "          f\"test_acc={tst_acc:.3f}  prec={prec:.3f}  \"\n",
    "          f\"rec={rec:.3f}  f1={f1:.3f}\")\n"
   ],
   "id": "69a67f48aee950c3",
   "outputs": [
    {
     "name": "stdout",
     "output_type": "stream",
     "text": [
      "Fold 1:  train_acc=0.928 | val_acc=0.921 | test_acc=0.907  prec=0.898  rec=0.957  f1=0.926\n",
      "Fold 2:  train_acc=0.923 | val_acc=0.921 | test_acc=0.901  prec=0.895  rec=0.948  f1=0.921\n",
      "Fold 3:  train_acc=0.921 | val_acc=0.909 | test_acc=0.909  prec=0.900  rec=0.957  f1=0.928\n"
     ]
    }
   ],
   "execution_count": 36
  }
 ],
 "metadata": {
  "kernelspec": {
   "display_name": "Python 3",
   "language": "python",
   "name": "python3"
  },
  "language_info": {
   "codemirror_mode": {
    "name": "ipython",
    "version": 2
   },
   "file_extension": ".py",
   "mimetype": "text/x-python",
   "name": "python",
   "nbconvert_exporter": "python",
   "pygments_lexer": "ipython2",
   "version": "2.7.6"
  }
 },
 "nbformat": 4,
 "nbformat_minor": 5
}
