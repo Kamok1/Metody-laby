{
 "cells": [
  {
   "cell_type": "code",
   "id": "initial_id",
   "metadata": {
    "collapsed": true
   },
   "source": [
    "import numpy as np\n",
    "from sklearn.pipeline import Pipeline\n",
    "from sklearn.compose import ColumnTransformer\n",
    "from sklearn.preprocessing import StandardScaler, OneHotEncoder\n",
    "from sklearn.impute import SimpleImputer\n",
    "from sklearn.metrics import accuracy_score, f1_score, roc_auc_score\n",
    "from constants import numeric_features, categorical_features\n",
    "from sklearn.linear_model import LogisticRegression\n",
    "from part2.shared import load_processed_data\n",
    "from part2.shared import load_train_with_validation_data\n"
   ],
   "outputs": [],
   "execution_count": null
  },
  {
   "metadata": {},
   "cell_type": "code",
   "source": "NUMBER_OF_EPOCHS = 250",
   "id": "1323c22961a987fc",
   "outputs": [],
   "execution_count": null
  },
  {
   "metadata": {},
   "cell_type": "code",
   "source": [
    "\n",
    "df = load_processed_data()\n",
    "df = df[df[\"Target\"].isin([\"Graduate\", \"Dropout\"])]\n",
    "df[\"y\"] = (df[\"Target\"] == \"Graduate\").astype(int)\n",
    "df = df.drop(columns=[\"Target\", \"Target encoded\"], errors='ignore')"
   ],
   "id": "2b1b7ae7b8475858",
   "outputs": [],
   "execution_count": null
  },
  {
   "metadata": {},
   "cell_type": "code",
   "source": [
    "X = df.drop(columns=[\"y\"])\n",
    "y = df[\"y\"].values"
   ],
   "id": "c5b948b62fa9daf4",
   "outputs": [],
   "execution_count": null
  },
  {
   "metadata": {},
   "cell_type": "code",
   "source": [
    "num_features = [c for c in numeric_features if c in X.columns]\n",
    "cat_features = [c for c in categorical_features if c in X.columns]"
   ],
   "id": "d090a12c168e7af",
   "outputs": [],
   "execution_count": null
  },
  {
   "metadata": {},
   "cell_type": "code",
   "source": [
    "num_pipeline = Pipeline([\n",
    "    (\"imputer\", SimpleImputer(strategy=\"mean\")),\n",
    "    (\"scaler\", StandardScaler())\n",
    "])"
   ],
   "id": "41cf71974728f833",
   "outputs": [],
   "execution_count": null
  },
  {
   "metadata": {},
   "cell_type": "code",
   "source": [
    "cat_pipeline = Pipeline([\n",
    "    (\"imputer\", SimpleImputer(strategy=\"most_frequent\")),\n",
    "    (\"encoder\", OneHotEncoder(handle_unknown=\"ignore\"))\n",
    "])"
   ],
   "id": "5ab0f40c5a26950c",
   "outputs": [],
   "execution_count": null
  },
  {
   "metadata": {},
   "cell_type": "code",
   "source": [
    "full_pipeline = ColumnTransformer([\n",
    "    (\"num\", num_pipeline, num_features),\n",
    "    (\"cat\", cat_pipeline, cat_features)\n",
    "])"
   ],
   "id": "c0a403081ce9a113",
   "outputs": [],
   "execution_count": null
  },
  {
   "metadata": {},
   "cell_type": "code",
   "source": [
    "X_train_raw, X_val_raw, X_test_raw, y_train, y_val, y_test = load_train_with_validation_data(X, y)\n",
    "X_train = full_pipeline.fit_transform(X_train_raw)\n",
    "X_test = full_pipeline.transform(X_test_raw)\n",
    "X_val = full_pipeline.transform(X_val_raw)"
   ],
   "id": "f197cf4688611606",
   "outputs": [],
   "execution_count": null
  },
  {
   "metadata": {},
   "cell_type": "code",
   "source": [
    "from Logistic import CustomLogisticRegression\n",
    "from sklearn.metrics import classification_report\n",
    "import numpy as np\n",
    "\n",
    "baseline_clf = CustomLogisticRegression(\n",
    "    lr=0.05,\n",
    "    epochs=NUMBER_OF_EPOCHS,\n",
    "    batch_size=256,\n",
    ")\n",
    "baseline_clf.fit(\n",
    "    X_train, y_train,\n",
    "    X_val, y_val,\n",
    "    X_test, y_test\n",
    ")\n",
    "\n",
    "y_pred = baseline_clf.predict(X_test)\n",
    "print(classification_report(y_test, y_pred, digits=4))\n"
   ],
   "id": "f91df4ee7204d7c8",
   "outputs": [],
   "execution_count": null
  },
  {
   "metadata": {},
   "cell_type": "code",
   "source": [
    "unique, counts = np.unique(y_train, return_counts=True)\n",
    "print(\"Liczebność klas:\", dict(zip(unique, counts)))"
   ],
   "id": "df9542cce3006740",
   "outputs": [],
   "execution_count": null
  },
  {
   "metadata": {},
   "cell_type": "code",
   "source": [
    "from imblearn.over_sampling import SMOTE\n",
    "\n",
    "smote = SMOTE(random_state=1)\n",
    "\n",
    "X_train_os, y_train_os = smote.fit_resample(X_train, y_train)\n",
    "\n",
    "unique_os, counts_os = np.unique(y_train_os, return_counts=True)\n",
    "print(\"Liczebność klas (po SMOTE):\", dict(zip(unique_os, counts_os)))\n"
   ],
   "id": "c569f80bd2c5799e",
   "outputs": [],
   "execution_count": null
  },
  {
   "metadata": {},
   "cell_type": "code",
   "source": [
    "from Logistic import CustomLogisticRegression\n",
    "from sklearn.metrics import classification_report, ConfusionMatrixDisplay\n",
    "\n",
    "model_os = CustomLogisticRegression(\n",
    "    lr=0.05,\n",
    "    epochs=NUMBER_OF_EPOCHS,\n",
    "    batch_size=64,\n",
    "    verbose=True,\n",
    ")\n",
    "\n",
    "model_os.fit(X_train_os, y_train_os, X_val, y_val, X_test, y_test)\n",
    "\n",
    "y_pred_os = model_os.predict(X_test)\n",
    "print(classification_report(y_test, y_pred_os, digits=4))\n"
   ],
   "id": "e766af9f8432f437",
   "outputs": [
    {
     "name": "stdout",
     "output_type": "stream",
     "text": [
      "Epoch 200/250  train_loss=0.2219  val_loss=0.2108\n",
      "Epoch 220/250  train_loss=0.2214  val_loss=0.2098\n",
      "Epoch 240/250  train_loss=0.2210  val_loss=0.2108\n",
      "              precision    recall  f1-score   support\n",
      "\n",
      "           0     0.8873    0.8873    0.8873       284\n",
      "           1     0.9278    0.9278    0.9278       443\n",
      "\n",
      "    accuracy                         0.9120       727\n",
      "   macro avg     0.9075    0.9075    0.9075       727\n",
      "weighted avg     0.9120    0.9120    0.9120       727\n",
      "\n"
     ]
    }
   ],
   "execution_count": 29
  },
  {
   "metadata": {
    "ExecuteTime": {
     "end_time": "2025-05-30T18:44:34.708465Z",
     "start_time": "2025-05-30T18:44:34.703246Z"
    }
   },
   "cell_type": "code",
   "source": [
    "from imblearn.under_sampling import RandomUnderSampler\n",
    "\n",
    "rus = RandomUnderSampler(random_state=1)\n",
    "\n",
    "X_train_us, y_train_us = rus.fit_resample(X_train, y_train)\n",
    "\n",
    "unique_us, counts_us = np.unique(y_train_us, return_counts=True)\n",
    "print(\"Liczebność klas (po undersamplingu):\", dict(zip(unique_us, counts_us)))\n"
   ],
   "id": "e3070b8a990abadb",
   "outputs": [
    {
     "name": "stdout",
     "output_type": "stream",
     "text": [
      "Liczebność klas (po undersamplingu): {np.int64(0): np.int64(990), np.int64(1): np.int64(990)}\n"
     ]
    }
   ],
   "execution_count": 30
  },
  {
   "metadata": {
    "ExecuteTime": {
     "end_time": "2025-05-30T18:44:35.940908Z",
     "start_time": "2025-05-30T18:44:34.748907Z"
    }
   },
   "cell_type": "code",
   "source": [
    "model_us = CustomLogisticRegression(\n",
    "    lr=0.05,\n",
    "    epochs=NUMBER_OF_EPOCHS,\n",
    "    batch_size=64,\n",
    "    verbose=True,\n",
    ")\n",
    "\n",
    "model_us.fit(X_train_us, y_train_us, X_val, y_val, X_test, y_test)\n",
    "\n",
    "y_pred_us = model_us.predict(X_test)\n",
    "print(classification_report(y_test, y_pred_us, digits=4))\n",
    "\n"
   ],
   "id": "93982852372a8853",
   "outputs": [
    {
     "name": "stdout",
     "output_type": "stream",
     "text": [
      "Epoch   1/250  train_loss=0.4557  val_loss=0.4357\n",
      "Epoch  20/250  train_loss=0.2787  val_loss=0.2635\n",
      "Epoch  40/250  train_loss=0.2588  val_loss=0.2465\n",
      "Epoch  60/250  train_loss=0.2500  val_loss=0.2367\n",
      "Epoch  80/250  train_loss=0.2450  val_loss=0.2305\n",
      "Epoch 100/250  train_loss=0.2418  val_loss=0.2270\n",
      "Epoch 120/250  train_loss=0.2395  val_loss=0.2238\n",
      "Epoch 140/250  train_loss=0.2378  val_loss=0.2231\n",
      "Epoch 160/250  train_loss=0.2365  val_loss=0.2217\n",
      "Epoch 180/250  train_loss=0.2355  val_loss=0.2202\n",
      "Epoch 200/250  train_loss=0.2347  val_loss=0.2191\n",
      "Epoch 220/250  train_loss=0.2340  val_loss=0.2189\n",
      "Epoch 240/250  train_loss=0.2334  val_loss=0.2192\n",
      "              precision    recall  f1-score   support\n",
      "\n",
      "           0     0.8828    0.9014    0.8920       284\n",
      "           1     0.9359    0.9233    0.9295       443\n",
      "\n",
      "    accuracy                         0.9147       727\n",
      "   macro avg     0.9093    0.9123    0.9108       727\n",
      "weighted avg     0.9152    0.9147    0.9149       727\n",
      "\n"
     ]
    }
   ],
   "execution_count": 31
  },
  {
   "metadata": {},
   "cell_type": "code",
   "source": [
    "from sklearn.metrics import recall_score\n",
    "\n",
    "results_summary = {\n",
    "    \"Model\": [\"Oryginalne dane\", \"SMOTE\", \"Undersampling\"],\n",
    "    \"Accuracy\": [\n",
    "        accuracy_score(y_test, baseline_clf.predict(X_test)),\n",
    "        accuracy_score(y_test, model_os.predict(X_test)),\n",
    "        accuracy_score(y_test, model_us.predict(X_test))\n",
    "    ],\n",
    "    \"Recall (klasa 0)\": [\n",
    "        recall_score(y_test, baseline_clf.predict(X_test), pos_label=0),\n",
    "        recall_score(y_test, model_os.predict(X_test), pos_label=0),\n",
    "        recall_score(y_test, model_us.predict(X_test), pos_label=0)\n",
    "    ],\n",
    "    \"F1 (klasa 0)\": [\n",
    "        f1_score(y_test, baseline_clf.predict(X_test), pos_label=0),\n",
    "        f1_score(y_test, model_os.predict(X_test), pos_label=0),\n",
    "        f1_score(y_test, model_us.predict(X_test), pos_label=0)\n",
    "    ]\n",
    "}\n",
    "\n",
    "import pandas as pd\n",
    "\n",
    "summary_df = pd.DataFrame(results_summary)\n",
    "print(summary_df)\n"
   ],
   "id": "26d87d8c7a9e273a",
   "outputs": [],
   "execution_count": null
  }
 ],
 "metadata": {
  "kernelspec": {
   "display_name": "Python 3",
   "language": "python",
   "name": "python3"
  },
  "language_info": {
   "codemirror_mode": {
    "name": "ipython",
    "version": 2
   },
   "file_extension": ".py",
   "mimetype": "text/x-python",
   "name": "python",
   "nbconvert_exporter": "python",
   "pygments_lexer": "ipython2",
   "version": "2.7.6"
  }
 },
 "nbformat": 4,
 "nbformat_minor": 5
}
