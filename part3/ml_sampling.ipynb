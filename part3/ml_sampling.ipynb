{
 "cells": [
  {
   "cell_type": "code",
   "id": "initial_id",
   "metadata": {
    "collapsed": true,
    "ExecuteTime": {
     "end_time": "2025-05-30T17:22:17.803282Z",
     "start_time": "2025-05-30T17:22:17.798305Z"
    }
   },
   "source": [
    "import numpy as np\n",
    "from sklearn.pipeline import Pipeline\n",
    "from sklearn.compose import ColumnTransformer\n",
    "from sklearn.preprocessing import StandardScaler, OneHotEncoder\n",
    "from sklearn.impute import SimpleImputer\n",
    "from sklearn.metrics import accuracy_score, f1_score, roc_auc_score\n",
    "from constants import numeric_features, categorical_features\n",
    "from sklearn.linear_model import LogisticRegression\n",
    "from part2.shared import load_processed_data\n",
    "from part2.shared import load_train_with_validation_data\n"
   ],
   "outputs": [],
   "execution_count": 209
  },
  {
   "metadata": {
    "ExecuteTime": {
     "end_time": "2025-05-30T17:22:17.890843Z",
     "start_time": "2025-05-30T17:22:17.887938Z"
    }
   },
   "cell_type": "code",
   "source": "NUMBER_OF_EPOCHS = 250",
   "id": "1323c22961a987fc",
   "outputs": [],
   "execution_count": 210
  },
  {
   "metadata": {
    "ExecuteTime": {
     "end_time": "2025-05-30T17:22:18.003767Z",
     "start_time": "2025-05-30T17:22:17.967800Z"
    }
   },
   "cell_type": "code",
   "source": [
    "\n",
    "df = load_processed_data()\n",
    "df = df[df[\"Target\"].isin([\"Graduate\", \"Dropout\"])]\n",
    "df[\"y\"] = (df[\"Target\"] == \"Graduate\").astype(int)\n",
    "df = df.drop(columns=[\"Target\", \"Target encoded\"], errors='ignore')"
   ],
   "id": "2b1b7ae7b8475858",
   "outputs": [],
   "execution_count": 211
  },
  {
   "metadata": {
    "ExecuteTime": {
     "end_time": "2025-05-30T17:22:18.018880Z",
     "start_time": "2025-05-30T17:22:18.012525Z"
    }
   },
   "cell_type": "code",
   "source": [
    "X = df.drop(columns=[\"y\"])\n",
    "y = df[\"y\"].values"
   ],
   "id": "c5b948b62fa9daf4",
   "outputs": [],
   "execution_count": 212
  },
  {
   "metadata": {
    "ExecuteTime": {
     "end_time": "2025-05-30T17:22:18.151660Z",
     "start_time": "2025-05-30T17:22:18.147915Z"
    }
   },
   "cell_type": "code",
   "source": [
    "num_features = [c for c in numeric_features if c in X.columns]\n",
    "cat_features = [c for c in categorical_features if c in X.columns]"
   ],
   "id": "d090a12c168e7af",
   "outputs": [],
   "execution_count": 213
  },
  {
   "metadata": {
    "ExecuteTime": {
     "end_time": "2025-05-30T17:22:18.165699Z",
     "start_time": "2025-05-30T17:22:18.161798Z"
    }
   },
   "cell_type": "code",
   "source": [
    "num_pipeline = Pipeline([\n",
    "    (\"imputer\", SimpleImputer(strategy=\"mean\")),\n",
    "    (\"scaler\", StandardScaler())\n",
    "])"
   ],
   "id": "41cf71974728f833",
   "outputs": [],
   "execution_count": 214
  },
  {
   "metadata": {
    "ExecuteTime": {
     "end_time": "2025-05-30T17:22:18.325255Z",
     "start_time": "2025-05-30T17:22:18.321569Z"
    }
   },
   "cell_type": "code",
   "source": [
    "cat_pipeline = Pipeline([\n",
    "    (\"imputer\", SimpleImputer(strategy=\"most_frequent\")),\n",
    "    (\"encoder\", OneHotEncoder(handle_unknown=\"ignore\"))\n",
    "])"
   ],
   "id": "5ab0f40c5a26950c",
   "outputs": [],
   "execution_count": 215
  },
  {
   "metadata": {
    "ExecuteTime": {
     "end_time": "2025-05-30T17:22:18.408967Z",
     "start_time": "2025-05-30T17:22:18.405365Z"
    }
   },
   "cell_type": "code",
   "source": [
    "full_pipeline = ColumnTransformer([\n",
    "    (\"num\", num_pipeline, num_features),\n",
    "    (\"cat\", cat_pipeline, cat_features)\n",
    "])"
   ],
   "id": "c0a403081ce9a113",
   "outputs": [],
   "execution_count": 216
  },
  {
   "metadata": {
    "ExecuteTime": {
     "end_time": "2025-05-30T17:22:18.546940Z",
     "start_time": "2025-05-30T17:22:18.488006Z"
    }
   },
   "cell_type": "code",
   "source": [
    "X_train_raw, X_val_raw, X_test_raw, y_train, y_val, y_test = load_train_with_validation_data(X, y)\n",
    "X_train = full_pipeline.fit_transform(X_train_raw)\n",
    "X_test = full_pipeline.transform(X_test_raw)\n",
    "X_val = full_pipeline.transform(X_val_raw)"
   ],
   "id": "f197cf4688611606",
   "outputs": [],
   "execution_count": 217
  },
  {
   "metadata": {
    "ExecuteTime": {
     "end_time": "2025-05-30T17:22:18.559528Z",
     "start_time": "2025-05-30T17:22:18.551112Z"
    }
   },
   "cell_type": "code",
   "source": [
    "X_train_bias = np.hstack([np.ones((X_train.shape[0], 1)), X_train.toarray()])\n",
    "X_test_bias = np.hstack([np.ones((X_test.shape[0], 1)), X_test.toarray()])\n",
    "X_val_bias = np.hstack([np.ones((X_val.shape[0], 1)), X_val.toarray()])"
   ],
   "id": "c6c6dd38eb3715ec",
   "outputs": [],
   "execution_count": 218
  },
  {
   "metadata": {
    "ExecuteTime": {
     "end_time": "2025-05-30T17:22:19.167594Z",
     "start_time": "2025-05-30T17:22:18.617795Z"
    }
   },
   "cell_type": "code",
   "source": [
    "from Logistic import CustomLogisticRegression\n",
    "from sklearn.metrics import classification_report\n",
    "import numpy as np\n",
    "\n",
    "baseline_clf = CustomLogisticRegression(\n",
    "    lr=0.05,\n",
    "    epochs=NUMBER_OF_EPOCHS,\n",
    "    batch_size=256,\n",
    ")\n",
    "baseline_clf.fit(\n",
    "    X_train_bias, y_train,\n",
    "    X_val_bias, y_val,\n",
    "    X_test_bias, y_test\n",
    ")\n",
    "\n",
    "y_pred = baseline_clf.predict(X_test_bias)\n",
    "print(classification_report(y_test, y_pred, digits=4))\n"
   ],
   "id": "f91df4ee7204d7c8",
   "outputs": [
    {
     "name": "stdout",
     "output_type": "stream",
     "text": [
      "              precision    recall  f1-score   support\n",
      "\n",
      "           0     0.9254    0.8732    0.8986       284\n",
      "           1     0.9216    0.9549    0.9379       443\n",
      "\n",
      "    accuracy                         0.9230       727\n",
      "   macro avg     0.9235    0.9140    0.9182       727\n",
      "weighted avg     0.9231    0.9230    0.9225       727\n",
      "\n"
     ]
    }
   ],
   "execution_count": 219
  },
  {
   "metadata": {
    "ExecuteTime": {
     "end_time": "2025-05-30T17:22:19.232426Z",
     "start_time": "2025-05-30T17:22:19.228905Z"
    }
   },
   "cell_type": "code",
   "source": [
    "unique, counts = np.unique(y_train, return_counts=True)\n",
    "print(\"Liczebność klas:\", dict(zip(unique, counts)))"
   ],
   "id": "df9542cce3006740",
   "outputs": [
    {
     "name": "stdout",
     "output_type": "stream",
     "text": [
      "Liczebność klas: {np.int64(0): np.int64(990), np.int64(1): np.int64(1550)}\n"
     ]
    }
   ],
   "execution_count": 220
  },
  {
   "metadata": {
    "ExecuteTime": {
     "end_time": "2025-05-30T17:22:19.334180Z",
     "start_time": "2025-05-30T17:22:19.289516Z"
    }
   },
   "cell_type": "code",
   "source": [
    "from imblearn.over_sampling import SMOTE\n",
    "\n",
    "smote = SMOTE(random_state=1)\n",
    "\n",
    "X_train_os, y_train_os = smote.fit_resample(X_train_bias, y_train)\n",
    "\n",
    "unique_os, counts_os = np.unique(y_train_os, return_counts=True)\n",
    "print(\"Liczebność klas (po SMOTE):\", dict(zip(unique_os, counts_os)))\n"
   ],
   "id": "c569f80bd2c5799e",
   "outputs": [
    {
     "name": "stdout",
     "output_type": "stream",
     "text": [
      "Liczebność klas (po SMOTE): {np.int64(0): np.int64(1550), np.int64(1): np.int64(1550)}\n"
     ]
    }
   ],
   "execution_count": 221
  },
  {
   "metadata": {
    "ExecuteTime": {
     "end_time": "2025-05-30T17:22:20.158597Z",
     "start_time": "2025-05-30T17:22:19.402997Z"
    }
   },
   "cell_type": "code",
   "source": [
    "from Logistic import CustomLogisticRegression\n",
    "from sklearn.metrics import classification_report, ConfusionMatrixDisplay\n",
    "\n",
    "model_os = CustomLogisticRegression(\n",
    "    lr=0.05,\n",
    "    epochs=NUMBER_OF_EPOCHS,\n",
    "    batch_size=64,\n",
    "    verbose=True,\n",
    ")\n",
    "\n",
    "model_os.fit(X_train_os, y_train_os, X_val_bias, y_val, X_test_bias, y_test)\n",
    "\n",
    "y_pred_os = model_os.predict(X_test_bias)\n",
    "print(classification_report(y_test, y_pred_os, digits=4))\n"
   ],
   "id": "e766af9f8432f437",
   "outputs": [
    {
     "name": "stdout",
     "output_type": "stream",
     "text": [
      "Epoch   1/250  train_loss=0.4197  val_loss=0.3914\n",
      "Epoch  20/250  train_loss=0.2598  val_loss=0.2452\n",
      "Epoch  40/250  train_loss=0.2421  val_loss=0.2334\n",
      "Epoch  60/250  train_loss=0.2342  val_loss=0.2231\n",
      "Epoch  80/250  train_loss=0.2304  val_loss=0.2152\n",
      "Epoch 100/250  train_loss=0.2273  val_loss=0.2146\n",
      "Epoch 120/250  train_loss=0.2256  val_loss=0.2114\n",
      "Epoch 140/250  train_loss=0.2242  val_loss=0.2120\n",
      "Epoch 160/250  train_loss=0.2232  val_loss=0.2116\n",
      "Epoch 180/250  train_loss=0.2226  val_loss=0.2121\n",
      "Epoch 200/250  train_loss=0.2219  val_loss=0.2109\n",
      "Epoch 220/250  train_loss=0.2214  val_loss=0.2098\n",
      "Epoch 240/250  train_loss=0.2210  val_loss=0.2109\n",
      "              precision    recall  f1-score   support\n",
      "\n",
      "           0     0.8905    0.8873    0.8889       284\n",
      "           1     0.9279    0.9300    0.9290       443\n",
      "\n",
      "    accuracy                         0.9133       727\n",
      "   macro avg     0.9092    0.9087    0.9089       727\n",
      "weighted avg     0.9133    0.9133    0.9133       727\n",
      "\n"
     ]
    }
   ],
   "execution_count": 222
  },
  {
   "metadata": {
    "ExecuteTime": {
     "end_time": "2025-05-30T17:22:20.224430Z",
     "start_time": "2025-05-30T17:22:20.217064Z"
    }
   },
   "cell_type": "code",
   "source": [
    "from imblearn.under_sampling import RandomUnderSampler\n",
    "\n",
    "rus = RandomUnderSampler(random_state=1)\n",
    "\n",
    "X_train_us, y_train_us = rus.fit_resample(X_train_bias, y_train)\n",
    "\n",
    "unique_us, counts_us = np.unique(y_train_us, return_counts=True)\n",
    "print(\"Liczebność klas (po undersamplingu):\", dict(zip(unique_us, counts_us)))\n"
   ],
   "id": "e3070b8a990abadb",
   "outputs": [
    {
     "name": "stdout",
     "output_type": "stream",
     "text": [
      "Liczebność klas (po undersamplingu): {np.int64(0): np.int64(990), np.int64(1): np.int64(990)}\n"
     ]
    }
   ],
   "execution_count": 223
  },
  {
   "metadata": {
    "ExecuteTime": {
     "end_time": "2025-05-30T17:22:20.755381Z",
     "start_time": "2025-05-30T17:22:20.286546Z"
    }
   },
   "cell_type": "code",
   "source": [
    "model_us = CustomLogisticRegression(\n",
    "    lr=0.05,\n",
    "    epochs=NUMBER_OF_EPOCHS,\n",
    "    batch_size=64,\n",
    "    verbose=True,\n",
    ")\n",
    "\n",
    "model_us.fit(X_train_us, y_train_us, X_val_bias, y_val, X_test_bias, y_test)\n",
    "\n",
    "y_pred_us = model_us.predict(X_test_bias)\n",
    "print(classification_report(y_test, y_pred_us, digits=4))\n",
    "\n"
   ],
   "id": "93982852372a8853",
   "outputs": [
    {
     "name": "stdout",
     "output_type": "stream",
     "text": [
      "Epoch   1/250  train_loss=0.4580  val_loss=0.4381\n",
      "Epoch  20/250  train_loss=0.2787  val_loss=0.2635\n",
      "Epoch  40/250  train_loss=0.2588  val_loss=0.2465\n",
      "Epoch  60/250  train_loss=0.2500  val_loss=0.2366\n",
      "Epoch  80/250  train_loss=0.2450  val_loss=0.2304\n",
      "Epoch 100/250  train_loss=0.2418  val_loss=0.2269\n",
      "Epoch 120/250  train_loss=0.2395  val_loss=0.2236\n",
      "Epoch 140/250  train_loss=0.2378  val_loss=0.2231\n",
      "Epoch 160/250  train_loss=0.2366  val_loss=0.2217\n",
      "Epoch 180/250  train_loss=0.2355  val_loss=0.2201\n",
      "Epoch 200/250  train_loss=0.2347  val_loss=0.2190\n",
      "Epoch 220/250  train_loss=0.2340  val_loss=0.2189\n",
      "Epoch 240/250  train_loss=0.2334  val_loss=0.2192\n",
      "              precision    recall  f1-score   support\n",
      "\n",
      "           0     0.8832    0.9049    0.8939       284\n",
      "           1     0.9381    0.9233    0.9306       443\n",
      "\n",
      "    accuracy                         0.9161       727\n",
      "   macro avg     0.9106    0.9141    0.9123       727\n",
      "weighted avg     0.9166    0.9161    0.9163       727\n",
      "\n"
     ]
    }
   ],
   "execution_count": 224
  },
  {
   "metadata": {
    "ExecuteTime": {
     "end_time": "2025-05-30T17:22:20.832268Z",
     "start_time": "2025-05-30T17:22:20.813949Z"
    }
   },
   "cell_type": "code",
   "source": [
    "from sklearn.metrics import recall_score\n",
    "\n",
    "results_summary = {\n",
    "    \"Model\": [\"Oryginalne dane\", \"SMOTE\", \"Undersampling\"],\n",
    "    \"Accuracy\": [\n",
    "        accuracy_score(y_test, baseline_clf.predict(X_test_bias)),\n",
    "        accuracy_score(y_test, model_os.predict(X_test_bias)),\n",
    "        accuracy_score(y_test, model_us.predict(X_test_bias))\n",
    "    ],\n",
    "    \"Recall (klasa 0)\": [\n",
    "        recall_score(y_test, baseline_clf.predict(X_test_bias), pos_label=0),\n",
    "        recall_score(y_test, model_os.predict(X_test_bias), pos_label=0),\n",
    "        recall_score(y_test, model_us.predict(X_test_bias), pos_label=0)\n",
    "    ],\n",
    "    \"F1 (klasa 0)\": [\n",
    "        f1_score(y_test, baseline_clf.predict(X_test_bias), pos_label=0),\n",
    "        f1_score(y_test, model_os.predict(X_test_bias), pos_label=0),\n",
    "        f1_score(y_test, model_us.predict(X_test_bias), pos_label=0)\n",
    "    ]\n",
    "}\n",
    "\n",
    "import pandas as pd\n",
    "\n",
    "summary_df = pd.DataFrame(results_summary)\n",
    "print(summary_df)\n"
   ],
   "id": "26d87d8c7a9e273a",
   "outputs": [
    {
     "name": "stdout",
     "output_type": "stream",
     "text": [
      "             Model  Accuracy  Recall (klasa 0)  F1 (klasa 0)\n",
      "0  Oryginalne dane  0.922971          0.873239      0.898551\n",
      "1            SMOTE  0.913343          0.887324      0.888889\n",
      "2    Undersampling  0.916094          0.904930      0.893913\n"
     ]
    }
   ],
   "execution_count": 225
  }
 ],
 "metadata": {
  "kernelspec": {
   "display_name": "Python 3",
   "language": "python",
   "name": "python3"
  },
  "language_info": {
   "codemirror_mode": {
    "name": "ipython",
    "version": 2
   },
   "file_extension": ".py",
   "mimetype": "text/x-python",
   "name": "python",
   "nbconvert_exporter": "python",
   "pygments_lexer": "ipython2",
   "version": "2.7.6"
  }
 },
 "nbformat": 4,
 "nbformat_minor": 5
}
