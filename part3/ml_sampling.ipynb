{
 "cells": [
  {
   "cell_type": "code",
   "id": "initial_id",
   "metadata": {
    "collapsed": true,
    "ExecuteTime": {
     "end_time": "2025-05-31T09:30:01.789327Z",
     "start_time": "2025-05-31T09:30:01.782562Z"
    }
   },
   "source": [
    "from sklearn.pipeline import Pipeline\n",
    "from sklearn.compose import ColumnTransformer\n",
    "from sklearn.preprocessing import StandardScaler, OneHotEncoder\n",
    "from sklearn.impute import SimpleImputer\n",
    "from sklearn.metrics import accuracy_score, f1_score\n",
    "from constants import numeric_features, categorical_features\n",
    "from part2.shared import load_processed_data\n",
    "from part2.shared import load_train_with_validation_data\n",
    "import pandas as pd\n",
    "from imblearn.under_sampling import RandomUnderSampler\n",
    "from imblearn.over_sampling import SMOTE\n",
    "from Logistic import CustomLogisticRegression\n",
    "from sklearn.metrics import classification_report\n",
    "import numpy as np\n",
    "from sklearn.metrics import recall_score\n",
    "\n"
   ],
   "outputs": [],
   "execution_count": 51
  },
  {
   "metadata": {
    "ExecuteTime": {
     "end_time": "2025-05-31T09:30:01.810393Z",
     "start_time": "2025-05-31T09:30:01.807904Z"
    }
   },
   "cell_type": "code",
   "source": "NUMBER_OF_EPOCHS = 250",
   "id": "1323c22961a987fc",
   "outputs": [],
   "execution_count": 52
  },
  {
   "metadata": {
    "ExecuteTime": {
     "end_time": "2025-05-31T09:30:01.878062Z",
     "start_time": "2025-05-31T09:30:01.849732Z"
    }
   },
   "cell_type": "code",
   "source": [
    "\n",
    "df = load_processed_data()\n",
    "df = df[df[\"Target\"].isin([\"Graduate\", \"Dropout\"])]\n",
    "df[\"y\"] = (df[\"Target\"] == \"Graduate\").astype(int)\n",
    "df = df.drop(columns=[\"Target\", \"Target encoded\"], errors='ignore')"
   ],
   "id": "2b1b7ae7b8475858",
   "outputs": [],
   "execution_count": 53
  },
  {
   "metadata": {
    "ExecuteTime": {
     "end_time": "2025-05-31T09:30:01.927406Z",
     "start_time": "2025-05-31T09:30:01.921217Z"
    }
   },
   "cell_type": "code",
   "source": [
    "X = df.drop(columns=[\"y\"])\n",
    "y = df[\"y\"].values"
   ],
   "id": "c5b948b62fa9daf4",
   "outputs": [],
   "execution_count": 54
  },
  {
   "metadata": {
    "ExecuteTime": {
     "end_time": "2025-05-31T09:30:01.973295Z",
     "start_time": "2025-05-31T09:30:01.970543Z"
    }
   },
   "cell_type": "code",
   "source": [
    "num_features = [c for c in numeric_features if c in X.columns]\n",
    "cat_features = [c for c in categorical_features if c in X.columns]"
   ],
   "id": "d090a12c168e7af",
   "outputs": [],
   "execution_count": 55
  },
  {
   "metadata": {
    "ExecuteTime": {
     "end_time": "2025-05-31T09:30:02.016482Z",
     "start_time": "2025-05-31T09:30:02.013836Z"
    }
   },
   "cell_type": "code",
   "source": [
    "num_pipeline = Pipeline([\n",
    "    (\"imputer\", SimpleImputer(strategy=\"mean\")),\n",
    "    (\"scaler\", StandardScaler())\n",
    "])"
   ],
   "id": "41cf71974728f833",
   "outputs": [],
   "execution_count": 56
  },
  {
   "metadata": {
    "ExecuteTime": {
     "end_time": "2025-05-31T09:30:02.095153Z",
     "start_time": "2025-05-31T09:30:02.092201Z"
    }
   },
   "cell_type": "code",
   "source": [
    "cat_pipeline = Pipeline([\n",
    "    (\"imputer\", SimpleImputer(strategy=\"most_frequent\")),\n",
    "    (\"encoder\", OneHotEncoder(handle_unknown=\"ignore\"))\n",
    "])"
   ],
   "id": "5ab0f40c5a26950c",
   "outputs": [],
   "execution_count": 57
  },
  {
   "metadata": {
    "ExecuteTime": {
     "end_time": "2025-05-31T09:30:02.111149Z",
     "start_time": "2025-05-31T09:30:02.108561Z"
    }
   },
   "cell_type": "code",
   "source": [
    "full_pipeline = ColumnTransformer([\n",
    "    (\"num\", num_pipeline, num_features),\n",
    "    (\"cat\", cat_pipeline, cat_features)\n",
    "])"
   ],
   "id": "c0a403081ce9a113",
   "outputs": [],
   "execution_count": 58
  },
  {
   "metadata": {
    "ExecuteTime": {
     "end_time": "2025-05-31T09:30:02.208888Z",
     "start_time": "2025-05-31T09:30:02.153746Z"
    }
   },
   "cell_type": "code",
   "source": [
    "X_train_raw, X_val_raw, X_test_raw, y_train, y_val, y_test = load_train_with_validation_data(X, y)\n",
    "X_train = full_pipeline.fit_transform(X_train_raw)\n",
    "X_test = full_pipeline.transform(X_test_raw)\n",
    "X_val = full_pipeline.transform(X_val_raw)"
   ],
   "id": "f197cf4688611606",
   "outputs": [],
   "execution_count": 59
  },
  {
   "metadata": {
    "ExecuteTime": {
     "end_time": "2025-05-31T09:30:02.744185Z",
     "start_time": "2025-05-31T09:30:02.249233Z"
    }
   },
   "cell_type": "code",
   "source": [
    "baseline_clf = CustomLogisticRegression(\n",
    "    lr=0.05,\n",
    "    epochs=NUMBER_OF_EPOCHS,\n",
    "    batch_size=256,\n",
    ")\n",
    "baseline_clf.fit(\n",
    "    X_train, y_train,\n",
    "    X_val, y_val,\n",
    "    X_test, y_test\n",
    ")\n",
    "\n",
    "y_pred = baseline_clf.predict(X_test)\n",
    "print(classification_report(y_test, y_pred, digits=4))\n"
   ],
   "id": "f91df4ee7204d7c8",
   "outputs": [
    {
     "name": "stdout",
     "output_type": "stream",
     "text": [
      "              precision    recall  f1-score   support\n",
      "\n",
      "           0     0.9288    0.8732    0.9002       284\n",
      "           1     0.9217    0.9571    0.9391       443\n",
      "\n",
      "    accuracy                         0.9243       727\n",
      "   macro avg     0.9253    0.9152    0.9196       727\n",
      "weighted avg     0.9245    0.9243    0.9239       727\n",
      "\n"
     ]
    }
   ],
   "execution_count": 60
  },
  {
   "metadata": {
    "ExecuteTime": {
     "end_time": "2025-05-31T09:30:02.785882Z",
     "start_time": "2025-05-31T09:30:02.782461Z"
    }
   },
   "cell_type": "code",
   "source": [
    "unique, counts = np.unique(y_train, return_counts=True)\n",
    "print(\"Liczebność klas:\", dict(zip(unique, counts)))"
   ],
   "id": "df9542cce3006740",
   "outputs": [
    {
     "name": "stdout",
     "output_type": "stream",
     "text": [
      "Liczebność klas: {np.int64(0): np.int64(990), np.int64(1): np.int64(1550)}\n"
     ]
    }
   ],
   "execution_count": 61
  },
  {
   "metadata": {
    "ExecuteTime": {
     "end_time": "2025-05-31T09:30:02.889691Z",
     "start_time": "2025-05-31T09:30:02.827875Z"
    }
   },
   "cell_type": "code",
   "source": [
    "smote = SMOTE(random_state=1)\n",
    "X_train_os, y_train_os = smote.fit_resample(X_train, y_train)\n",
    "unique_os, counts_os = np.unique(y_train_os, return_counts=True)\n",
    "print(\"Liczebność klas (po SMOTE):\", dict(zip(unique_os, counts_os)))\n"
   ],
   "id": "c569f80bd2c5799e",
   "outputs": [
    {
     "name": "stdout",
     "output_type": "stream",
     "text": [
      "Liczebność klas (po SMOTE): {np.int64(0): np.int64(1550), np.int64(1): np.int64(1550)}\n"
     ]
    }
   ],
   "execution_count": 62
  },
  {
   "metadata": {
    "ExecuteTime": {
     "end_time": "2025-05-31T09:30:04.743180Z",
     "start_time": "2025-05-31T09:30:02.936546Z"
    }
   },
   "cell_type": "code",
   "source": [
    "model_os = CustomLogisticRegression(\n",
    "    lr=0.05,\n",
    "    epochs=NUMBER_OF_EPOCHS,\n",
    "    batch_size=64,\n",
    "    verbose=True,\n",
    ")\n",
    "\n",
    "model_os.fit(X_train_os, y_train_os, X_val, y_val, X_test, y_test)\n",
    "y_pred_os = model_os.predict(X_test)\n",
    "print(classification_report(y_test, y_pred_os, digits=4))\n"
   ],
   "id": "e766af9f8432f437",
   "outputs": [
    {
     "name": "stdout",
     "output_type": "stream",
     "text": [
      "Epoch   1/250  train_loss=0.4180  test_loss=0.3922\n",
      "Epoch  20/250  train_loss=0.2598  test_loss=0.2456\n",
      "Epoch  40/250  train_loss=0.2420  test_loss=0.2408\n",
      "Epoch  60/250  train_loss=0.2342  test_loss=0.2357\n",
      "Epoch  80/250  train_loss=0.2303  test_loss=0.2295\n",
      "Epoch 100/250  train_loss=0.2273  test_loss=0.2328\n",
      "Epoch 120/250  train_loss=0.2256  test_loss=0.2311\n",
      "Epoch 140/250  train_loss=0.2242  test_loss=0.2341\n",
      "Epoch 160/250  train_loss=0.2232  test_loss=0.2349\n",
      "Epoch 180/250  train_loss=0.2226  test_loss=0.2371\n",
      "Epoch 200/250  train_loss=0.2219  test_loss=0.2364\n",
      "Epoch 220/250  train_loss=0.2214  test_loss=0.2355\n",
      "Epoch 240/250  train_loss=0.2210  test_loss=0.2377\n",
      "              precision    recall  f1-score   support\n",
      "\n",
      "           0     0.8873    0.8873    0.8873       284\n",
      "           1     0.9278    0.9278    0.9278       443\n",
      "\n",
      "    accuracy                         0.9120       727\n",
      "   macro avg     0.9075    0.9075    0.9075       727\n",
      "weighted avg     0.9120    0.9120    0.9120       727\n",
      "\n"
     ]
    }
   ],
   "execution_count": 63
  },
  {
   "metadata": {
    "ExecuteTime": {
     "end_time": "2025-05-31T09:30:04.797715Z",
     "start_time": "2025-05-31T09:30:04.780376Z"
    }
   },
   "cell_type": "code",
   "source": [
    "rus = RandomUnderSampler(random_state=1)\n",
    "X_train_us, y_train_us = rus.fit_resample(X_train, y_train)\n",
    "unique_us, counts_us = np.unique(y_train_us, return_counts=True)\n",
    "print(\"Liczebność klas (po undersamplingu):\", dict(zip(unique_us, counts_us)))\n"
   ],
   "id": "e3070b8a990abadb",
   "outputs": [
    {
     "name": "stdout",
     "output_type": "stream",
     "text": [
      "Liczebność klas (po undersamplingu): {np.int64(0): np.int64(990), np.int64(1): np.int64(990)}\n"
     ]
    }
   ],
   "execution_count": 64
  },
  {
   "metadata": {
    "ExecuteTime": {
     "end_time": "2025-05-31T09:30:06.144507Z",
     "start_time": "2025-05-31T09:30:04.838765Z"
    }
   },
   "cell_type": "code",
   "source": [
    "model_us = CustomLogisticRegression(\n",
    "    lr=0.05,\n",
    "    epochs=NUMBER_OF_EPOCHS,\n",
    "    batch_size=64,\n",
    "    verbose=True,\n",
    ")\n",
    "\n",
    "model_us.fit(X_train_us, y_train_us, X_val, y_val, X_test, y_test)\n",
    "y_pred_us = model_us.predict(X_test)\n",
    "print(classification_report(y_test, y_pred_us, digits=4))"
   ],
   "id": "93982852372a8853",
   "outputs": [
    {
     "name": "stdout",
     "output_type": "stream",
     "text": [
      "Epoch   1/250  train_loss=0.4557  test_loss=0.4388\n",
      "Epoch  20/250  train_loss=0.2787  test_loss=0.2613\n",
      "Epoch  40/250  train_loss=0.2588  test_loss=0.2472\n",
      "Epoch  60/250  train_loss=0.2500  test_loss=0.2402\n",
      "Epoch  80/250  train_loss=0.2450  test_loss=0.2366\n",
      "Epoch 100/250  train_loss=0.2418  test_loss=0.2355\n",
      "Epoch 120/250  train_loss=0.2395  test_loss=0.2339\n",
      "Epoch 140/250  train_loss=0.2378  test_loss=0.2354\n",
      "Epoch 160/250  train_loss=0.2365  test_loss=0.2354\n",
      "Epoch 180/250  train_loss=0.2355  test_loss=0.2344\n",
      "Epoch 200/250  train_loss=0.2347  test_loss=0.2343\n",
      "Epoch 220/250  train_loss=0.2340  test_loss=0.2348\n",
      "Epoch 240/250  train_loss=0.2334  test_loss=0.2364\n",
      "              precision    recall  f1-score   support\n",
      "\n",
      "           0     0.8828    0.9014    0.8920       284\n",
      "           1     0.9359    0.9233    0.9295       443\n",
      "\n",
      "    accuracy                         0.9147       727\n",
      "   macro avg     0.9093    0.9123    0.9108       727\n",
      "weighted avg     0.9152    0.9147    0.9149       727\n",
      "\n"
     ]
    }
   ],
   "execution_count": 65
  },
  {
   "metadata": {
    "ExecuteTime": {
     "end_time": "2025-05-31T09:30:06.204508Z",
     "start_time": "2025-05-31T09:30:06.184503Z"
    }
   },
   "cell_type": "code",
   "source": [
    "results_summary = {\n",
    "    \"Model\": [\"Oryginalne dane\", \"SMOTE\", \"Undersampling\"],\n",
    "    \"Accuracy\": [\n",
    "        accuracy_score(y_test, baseline_clf.predict(X_test)),\n",
    "        accuracy_score(y_test, model_os.predict(X_test)),\n",
    "        accuracy_score(y_test, model_us.predict(X_test))\n",
    "    ],\n",
    "    \"Recall (klasa 0)\": [\n",
    "        recall_score(y_test, baseline_clf.predict(X_test), pos_label=0),\n",
    "        recall_score(y_test, model_os.predict(X_test), pos_label=0),\n",
    "        recall_score(y_test, model_us.predict(X_test), pos_label=0)\n",
    "    ],\n",
    "    \"F1 (klasa 0)\": [\n",
    "        f1_score(y_test, baseline_clf.predict(X_test), pos_label=0),\n",
    "        f1_score(y_test, model_os.predict(X_test), pos_label=0),\n",
    "        f1_score(y_test, model_us.predict(X_test), pos_label=0)\n",
    "    ]\n",
    "}\n",
    "\n",
    "summary_df = pd.DataFrame(results_summary)\n",
    "print(summary_df)\n"
   ],
   "id": "26d87d8c7a9e273a",
   "outputs": [
    {
     "name": "stdout",
     "output_type": "stream",
     "text": [
      "             Model  Accuracy  Recall (klasa 0)  F1 (klasa 0)\n",
      "0  Oryginalne dane  0.924347          0.873239      0.900181\n",
      "1            SMOTE  0.911967          0.887324      0.887324\n",
      "2    Undersampling  0.914718          0.901408      0.891986\n"
     ]
    }
   ],
   "execution_count": 66
  }
 ],
 "metadata": {
  "kernelspec": {
   "display_name": "Python 3",
   "language": "python",
   "name": "python3"
  },
  "language_info": {
   "codemirror_mode": {
    "name": "ipython",
    "version": 2
   },
   "file_extension": ".py",
   "mimetype": "text/x-python",
   "name": "python",
   "nbconvert_exporter": "python",
   "pygments_lexer": "ipython2",
   "version": "2.7.6"
  }
 },
 "nbformat": 4,
 "nbformat_minor": 5
}
